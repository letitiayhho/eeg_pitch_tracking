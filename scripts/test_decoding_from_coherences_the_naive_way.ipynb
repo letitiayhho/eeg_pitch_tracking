{
 "cells": [
  {
   "cell_type": "code",
   "execution_count": 31,
   "id": "99663cb8",
   "metadata": {},
   "outputs": [],
   "source": [
    "import sys\n",
    "import numpy as np\n",
    "import pickle\n",
    "from mne_bids import BIDSPath, read_raw_bids\n",
    "from bids import BIDSLayout\n",
    "from util.io.coherence import *\n",
    "from util.io.iter_BIDSPaths import *\n",
    "from mne_connectivity import spectral_connectivity_time, check_indices\n",
    "from scipy.signal import coherence"
   ]
  },
  {
   "cell_type": "code",
   "execution_count": 3,
   "id": "5ef46bfd",
   "metadata": {},
   "outputs": [],
   "source": [
    "SUB = '31'\n",
    "RUN = '1'\n",
    "TASK = 'pitch'\n",
    "FPATH = '/project2/hcn1/pitch_tracking/data/bids/derivatives/preprocessing/sub-31/sub-31_task-pitch_run-1_res-hi_desc-clean_epo.fif.gz'\n",
    "\n",
    "BIDS_ROOT = '../data/bids'\n",
    "FIGS_ROOT = '../figs'\n",
    "\n",
    "DERIV_ROOT = '../data/bids/derivatives'\n",
    "METHOD = 'coh'\n",
    "FS = 5000\n",
    "RAW_TMIN = -0.2\n",
    "RAW_TMAX = 0.5\n",
    "TMIN = 0\n",
    "TMAX = 0.25\n",
    "N_CHANS = 62\n",
    "CONDS = ['50', '100', '150', '200', '250']\n",
    "FREQS = [50, 100, 150, 200, 250]"
   ]
  },
  {
   "cell_type": "code",
   "execution_count": 4,
   "id": "74e77d5f",
   "metadata": {},
   "outputs": [
    {
     "name": "stdout",
     "output_type": "stream",
     "text": [
      "Reading /project2/hcn1/pitch_tracking/data/bids/derivatives/preprocessing/sub-31/sub-31_task-pitch_run-1_res-hi_desc-clean_epo.fif.gz ...\n",
      "    Found the data of interest:\n",
      "        t =    -200.00 ...     250.00 ms\n",
      "        0 CTF compensation matrices available\n",
      "Reading /project2/hcn1/pitch_tracking/data/bids/derivatives/preprocessing/sub-31/sub-31_task-pitch_run-1_res-hi_desc-clean_epo.fif-1.gz ...\n",
      "    Found the data of interest:\n",
      "        t =    -200.00 ...     250.00 ms\n",
      "        0 CTF compensation matrices available\n",
      "Not setting metadata\n",
      "4801 matching events found\n",
      "No baseline correction applied\n",
      "0 projection items activated\n"
     ]
    }
   ],
   "source": [
    "# Load epoched data\n",
    "epochs = mne.read_epochs(FPATH, preload = True)\n",
    "events = epochs.events\n",
    "n_epochs = len(events)"
   ]
  },
  {
   "cell_type": "code",
   "execution_count": 5,
   "id": "ec61b640",
   "metadata": {},
   "outputs": [],
   "source": [
    "# Use a different sub for generating stim channels if sub has bad Aux channel\n",
    "STIM_SUB, STIM_RUN = get_stim_sub(SUB, RUN)"
   ]
  },
  {
   "cell_type": "code",
   "execution_count": 21,
   "id": "b7511f3e",
   "metadata": {},
   "outputs": [
    {
     "name": "stdout",
     "output_type": "stream",
     "text": [
      "Used Annotations descriptions: ['100', '150', '200', '250', '50']\n",
      "Not setting metadata\n"
     ]
    },
    {
     "name": "stderr",
     "output_type": "stream",
     "text": [
      "/project2/hcn1/pitch_tracking/scripts/util/io/coherence.py:42: RuntimeWarning: The unit for channel(s) Aux1 has changed from NA to V.\n",
      "  raw = read_raw_bids(bids_path, verbose = False)\n",
      "/project2/hcn1/pitch_tracking/scripts/util/io/coherence.py:42: RuntimeWarning: There are channels without locations (n/a) that are not marked as bad: ['leog', 'reog', 'Aux1']\n",
      "  raw = read_raw_bids(bids_path, verbose = False)\n",
      "/project2/hcn1/pitch_tracking/scripts/util/io/coherence.py:42: RuntimeWarning: Not setting position of 1 stim channel found in montage:\n",
      "['Aux1']\n",
      "Consider setting the channel types to be of EEG/sEEG/ECoG/DBS/fNIRS using inst.set_channel_types before calling inst.set_montage, or omit these channels when creating your montage.\n",
      "  raw = read_raw_bids(bids_path, verbose = False)\n"
     ]
    },
    {
     "name": "stdout",
     "output_type": "stream",
     "text": [
      "6000 matching events found\n",
      "No baseline correction applied\n",
      "0 projection items activated\n",
      "Loading data for 1180 events and 3501 original time points ...\n",
      "0 bad epochs dropped\n",
      "Loading data for 1234 events and 3501 original time points ...\n",
      "0 bad epochs dropped\n",
      "Loading data for 1216 events and 3501 original time points ...\n",
      "0 bad epochs dropped\n",
      "Loading data for 1219 events and 3501 original time points ...\n",
      "0 bad epochs dropped\n",
      "Loading data for 1151 events and 3501 original time points ...\n",
      "0 bad epochs dropped\n",
      "Not setting metadata\n",
      "4801 matching events found\n",
      "Applying baseline correction (mode: mean)\n",
      "0 projection items activated\n"
     ]
    }
   ],
   "source": [
    "# Create epochs from raw data to create simulated stim channels\n",
    "raw_epochs = get_raw_epochs(BIDS_ROOT, STIM_SUB, TASK, STIM_RUN)\n",
    "stim_epochs_array = create_stim_epochs_array(raw_epochs, n_epochs, CONDS)\n",
    "simulated_epochs = create_stim_epochs_object(stim_epochs_array, events, CONDS, FS, RAW_TMIN)"
   ]
  },
  {
   "cell_type": "code",
   "execution_count": 23,
   "id": "a314079a",
   "metadata": {},
   "outputs": [],
   "source": [
    "# Crop data so both epoch objects have same windowing\n",
    "simulated_epochs = simulated_epochs.crop(tmin = TMIN, tmax = TMAX)\n",
    "epochs = epochs.crop(tmin = TMIN)"
   ]
  },
  {
   "cell_type": "code",
   "execution_count": 28,
   "id": "970d1516",
   "metadata": {},
   "outputs": [],
   "source": [
    "# Keep only one version of stim signals\n",
    "stim_array = simulated_epochs.get_data()[0, :, :]"
   ]
  },
  {
   "cell_type": "code",
   "execution_count": 86,
   "id": "55b7ae1a",
   "metadata": {},
   "outputs": [
    {
     "name": "stdout",
     "output_type": "stream",
     "text": [
      "   epoch       50       100       150       200      250\n",
      "0      0  0.17383  0.231918  0.143334  0.070176  0.13471\n",
      "   epoch       50       100       150       200      250\n",
      "0      0  0.17383  0.231918  0.143334  0.070176  0.13471\n"
     ]
    }
   ],
   "source": [
    "# epochs is (4801, 62, 1251) which is (epochs, channels, time points)\n",
    "# simulated epochs is (5, 1251) which is (freqs, time points)\n",
    "\n",
    "epoch_array = epochs.get_data()\n",
    "n_epochs = np.shape(epoch_array)[0]\n",
    "n_chans = np.shape(epoch_array)[1]\n",
    "n_freqs = 5\n",
    "\n",
    "df = pd.DataFrame()\n",
    "\n",
    "for epoch in range(n_epochs):\n",
    "    for channel in range(n_chans):\n",
    "        current_epoch = epoch_array[epoch, channel, :]\n",
    "        for freq in range(n_freqs):\n",
    "            current_freq = stim_array[freq, :]\n",
    "            \n",
    "            # compute coherence\n",
    "            f, Cxy = coherence(current_epoch, current_freq, FS)\n",
    "            \n",
    "            # get coherences for condition frequencies only\n",
    "            epoch_df = extract_epoch_coherence(epoch, FREQS, f, Cxy) \n",
    "            df = pd.concat([df, epoch_df])\n",
    "            break\n",
    "        break\n",
    "    break"
   ]
  },
  {
   "cell_type": "code",
   "execution_count": 84,
   "id": "37ecbc10",
   "metadata": {},
   "outputs": [],
   "source": [
    "# What shape does it need to be for decoding?? Keep this in mind!"
   ]
  },
  {
   "cell_type": "code",
   "execution_count": 83,
   "id": "53b787ad",
   "metadata": {},
   "outputs": [
    {
     "data": {
      "text/html": [
       "<div>\n",
       "<style scoped>\n",
       "    .dataframe tbody tr th:only-of-type {\n",
       "        vertical-align: middle;\n",
       "    }\n",
       "\n",
       "    .dataframe tbody tr th {\n",
       "        vertical-align: top;\n",
       "    }\n",
       "\n",
       "    .dataframe thead th {\n",
       "        text-align: right;\n",
       "    }\n",
       "</style>\n",
       "<table border=\"1\" class=\"dataframe\">\n",
       "  <thead>\n",
       "    <tr style=\"text-align: right;\">\n",
       "      <th></th>\n",
       "      <th>epoch</th>\n",
       "      <th>50</th>\n",
       "      <th>100</th>\n",
       "      <th>150</th>\n",
       "      <th>200</th>\n",
       "      <th>250</th>\n",
       "    </tr>\n",
       "  </thead>\n",
       "  <tbody>\n",
       "    <tr>\n",
       "      <th>0</th>\n",
       "      <td>0</td>\n",
       "      <td>0.17383</td>\n",
       "      <td>0.231918</td>\n",
       "      <td>0.143334</td>\n",
       "      <td>0.070176</td>\n",
       "      <td>0.13471</td>\n",
       "    </tr>\n",
       "  </tbody>\n",
       "</table>\n",
       "</div>"
      ],
      "text/plain": [
       "   epoch       50       100       150       200      250\n",
       "0      0  0.17383  0.231918  0.143334  0.070176  0.13471"
      ]
     },
     "execution_count": 83,
     "metadata": {},
     "output_type": "execute_result"
    }
   ],
   "source": [
    "epoch_df"
   ]
  }
 ],
 "metadata": {
  "kernelspec": {
   "display_name": "Python 3 (ipykernel)",
   "language": "python",
   "name": "python3"
  },
  "language_info": {
   "codemirror_mode": {
    "name": "ipython",
    "version": 3
   },
   "file_extension": ".py",
   "mimetype": "text/x-python",
   "name": "python",
   "nbconvert_exporter": "python",
   "pygments_lexer": "ipython3",
   "version": "3.10.4"
  }
 },
 "nbformat": 4,
 "nbformat_minor": 5
}
