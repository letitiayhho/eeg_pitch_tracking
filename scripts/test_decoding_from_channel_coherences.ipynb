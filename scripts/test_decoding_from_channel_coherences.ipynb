{
 "cells": [
  {
   "cell_type": "code",
   "execution_count": 2,
   "id": "9bb4ecef",
   "metadata": {},
   "outputs": [],
   "source": [
    "import sys\n",
    "import numpy as np\n",
    "import pickle\n",
    "from mne_bids import BIDSPath, read_raw_bids\n",
    "from bids import BIDSLayout\n",
    "from util.io.coherence import *\n",
    "from util.io.iter_BIDSPaths import *\n",
    "from mne_connectivity import spectral_connectivity_time"
   ]
  },
  {
   "cell_type": "code",
   "execution_count": 3,
   "id": "868595f7",
   "metadata": {},
   "outputs": [],
   "source": [
    "SUB = '31'\n",
    "RUN = '1'\n",
    "TASK = 'pitch'\n",
    "FPATH = '/project2/hcn1/pitch_tracking/data/bids/derivatives/preprocessing/sub-31/sub-31_task-pitch_run-1_res-hi_desc-clean_epo.fif.gz'\n",
    "\n",
    "BIDS_ROOT = '../data/bids'\n",
    "FIGS_ROOT = '../figs'\n",
    "DERIV_ROOT = '../data/bids/derivatives'\n",
    "METHOD = 'coh'\n",
    "FS = 5000\n",
    "RAW_TMIN = -0.2\n",
    "RAW_TMAX = 0.5\n",
    "TMIN = 0\n",
    "TMAX = 0.25\n",
    "N_CHANS = 62\n",
    "CONDS = ['50', '100', '150', '200', '250']\n",
    "FREQS = [50, 100, 150, 200, 250]"
   ]
  },
  {
   "cell_type": "code",
   "execution_count": 4,
   "id": "8ea63d51",
   "metadata": {},
   "outputs": [
    {
     "name": "stdout",
     "output_type": "stream",
     "text": [
      "Reading /project2/hcn1/pitch_tracking/data/bids/derivatives/preprocessing/sub-31/sub-31_task-pitch_run-1_res-hi_desc-clean_epo.fif.gz ...\n",
      "    Found the data of interest:\n",
      "        t =    -200.00 ...     250.00 ms\n",
      "        0 CTF compensation matrices available\n",
      "Reading /project2/hcn1/pitch_tracking/data/bids/derivatives/preprocessing/sub-31/sub-31_task-pitch_run-1_res-hi_desc-clean_epo.fif-1.gz ...\n",
      "    Found the data of interest:\n",
      "        t =    -200.00 ...     250.00 ms\n",
      "        0 CTF compensation matrices available\n",
      "0 bad epochs dropped\n",
      "0 bad epochs dropped\n",
      "Not setting metadata\n",
      "4801 matching events found\n",
      "No baseline correction applied\n",
      "0 projection items activated\n"
     ]
    }
   ],
   "source": [
    "# Load epoched data\n",
    "epochs = mne.read_epochs(FPATH, preload = True)\n",
    "events = epochs.events\n",
    "n_epochs = len(events)"
   ]
  },
  {
   "cell_type": "code",
   "execution_count": 5,
   "id": "3093b237",
   "metadata": {},
   "outputs": [],
   "source": [
    "# Use a different sub for generating stim channels if sub has bad Aux channel\n",
    "STIM_SUB, STIM_RUN = get_stim_sub(SUB, RUN)"
   ]
  },
  {
   "cell_type": "code",
   "execution_count": 6,
   "id": "f7d5e461",
   "metadata": {},
   "outputs": [
    {
     "name": "stdout",
     "output_type": "stream",
     "text": [
      "Used Annotations descriptions: ['100', '150', '200', '250', '50']\n"
     ]
    },
    {
     "name": "stderr",
     "output_type": "stream",
     "text": [
      "/project2/hcn1/pitch_tracking/scripts/util/io/coherence.py:42: RuntimeWarning: There are channels without locations (n/a) that are not marked as bad: ['leog', 'reog', 'Aux1']\n",
      "  raw = read_raw_bids(bids_path, verbose = False)\n",
      "/project2/hcn1/pitch_tracking/scripts/util/io/coherence.py:42: RuntimeWarning: Not setting position of 1 stim channel found in montage:\n",
      "['Aux1']\n",
      "Consider setting the channel types to be of EEG/sEEG/ECoG/DBS/fNIRS using inst.set_channel_types before calling inst.set_montage, or omit these channels when creating your montage.\n",
      "  raw = read_raw_bids(bids_path, verbose = False)\n"
     ]
    },
    {
     "name": "stdout",
     "output_type": "stream",
     "text": [
      "Not setting metadata\n",
      "6000 matching events found\n",
      "No baseline correction applied\n",
      "0 projection items activated\n",
      "Loading data for 1180 events and 3501 original time points ...\n",
      "0 bad epochs dropped\n",
      "Loading data for 1234 events and 3501 original time points ...\n",
      "0 bad epochs dropped\n",
      "Loading data for 1216 events and 3501 original time points ...\n",
      "0 bad epochs dropped\n",
      "Loading data for 1219 events and 3501 original time points ...\n",
      "0 bad epochs dropped\n",
      "Loading data for 1151 events and 3501 original time points ...\n",
      "0 bad epochs dropped\n",
      "Not setting metadata\n",
      "4801 matching events found\n",
      "Applying baseline correction (mode: mean)\n",
      "0 projection items activated\n"
     ]
    },
    {
     "name": "stderr",
     "output_type": "stream",
     "text": [
      "/home/letitiayhho/.conda/envs/pitch-tracking/lib/python3.10/site-packages/mne/io/meas_info.py:864: UserWarning: Avoid manually setting custom_ref_applied cannot be set directly. Please use method inst.set_eeg_reference() instead.\n",
      "  warnings.warn(f\"Avoid manually setting {self._attributes[key]}\")\n",
      "/home/letitiayhho/.conda/envs/pitch-tracking/lib/python3.10/site-packages/mne/io/meas_info.py:864: UserWarning: Avoid manually setting highpass cannot be set directly. Please use method inst.filter() instead.\n",
      "  warnings.warn(f\"Avoid manually setting {self._attributes[key]}\")\n",
      "/home/letitiayhho/.conda/envs/pitch-tracking/lib/python3.10/site-packages/mne/io/meas_info.py:864: UserWarning: Avoid manually setting lowpass cannot be set directly. Please use method inst.filter() instead.\n",
      "  warnings.warn(f\"Avoid manually setting {self._attributes[key]}\")\n"
     ]
    },
    {
     "name": "stdout",
     "output_type": "stream",
     "text": [
      "0 bad epochs dropped\n"
     ]
    }
   ],
   "source": [
    "# Create epochs from raw data to create simulated stim channels\n",
    "raw_epochs = get_raw_epochs(BIDS_ROOT, STIM_SUB, TASK, STIM_RUN)\n",
    "stim_epochs_array = create_stim_epochs_array(raw_epochs, n_epochs, CONDS)\n",
    "simulated_epochs = create_stim_epochs_object(stim_epochs_array, events, CONDS, FS, RAW_TMIN)"
   ]
  },
  {
   "cell_type": "code",
   "execution_count": 7,
   "id": "b18a81f6",
   "metadata": {},
   "outputs": [],
   "source": [
    "# Crop data so both epoch objects have same windowing\n",
    "simulated_epochs = simulated_epochs.crop(tmin = TMIN, tmax = TMAX)\n",
    "epochs = epochs.crop(tmin = TMIN)"
   ]
  },
  {
   "cell_type": "code",
   "execution_count": 8,
   "id": "c8b5d3b8",
   "metadata": {},
   "outputs": [],
   "source": [
    "# Add simulated channels to data\n",
    "combined_epochs = mne.epochs.add_channels_epochs([epochs, simulated_epochs])"
   ]
  },
  {
   "cell_type": "code",
   "execution_count": 21,
   "id": "db22155b",
   "metadata": {},
   "outputs": [
    {
     "data": {
      "text/html": [
       "<table class=\"table table-hover table-striped table-sm table-responsive small\">\n",
       "    <tr>\n",
       "        <th>Number of events</th>\n",
       "        <td>1</td>\n",
       "    </tr>\n",
       "    <tr>\n",
       "        <th>Events</th>\n",
       "        \n",
       "        <td>50: 1</td>\n",
       "        \n",
       "    </tr>\n",
       "    <tr>\n",
       "        <th>Time range</th>\n",
       "        <td>0.000 – 0.250 sec</td>\n",
       "    </tr>\n",
       "    <tr>\n",
       "        <th>Baseline</th>\n",
       "        <td>-0.200 – 0.000 sec</td>\n",
       "    </tr>\n",
       "</table>"
      ],
      "text/plain": [
       "<EpochsArray |  1 events (all good), 0 - 0.25 sec, baseline -0.2 – 0 sec (baseline period was cropped after baseline correction), ~59 kB, data loaded,\n",
       " '50': 1>"
      ]
     },
     "execution_count": 21,
     "metadata": {},
     "output_type": "execute_result"
    }
   ],
   "source": [
    "combined_epochs['50'].__len__()\n"
   ]
  },
  {
   "cell_type": "code",
   "execution_count": 30,
   "id": "73804f8a",
   "metadata": {},
   "outputs": [
    {
     "data": {
      "text/plain": [
       "[0, 1, 2, 3, 4, 5, 6, 7, 8, 9]"
      ]
     },
     "execution_count": 30,
     "metadata": {},
     "output_type": "execute_result"
    }
   ],
   "source": [
    "# n_epochs = 984\n",
    "# for i in range(100, n_epochs, 100):\n",
    "#     print(i)\n",
    "# n_epochs_list = list(range(100, n_epochs, 100))\n",
    "# n_epochs_list.append(n_epochs)\n",
    "# n_epochs_list\n",
    "epoch_indexes = list(range(10))\n",
    "epoch_indexes"
   ]
  },
  {
   "cell_type": "code",
   "execution_count": null,
   "id": "6d9a9ac0",
   "metadata": {},
   "outputs": [
    {
     "name": "stdout",
     "output_type": "stream",
     "text": [
      "Adding metadata with 3 columns\n",
      "Connectivity computation...\n"
     ]
    },
    {
     "data": {
      "application/vnd.jupyter.widget-view+json": {
       "model_id": "58205869e2ee47678bb0ab014df38080",
       "version_major": 2,
       "version_minor": 0
      },
      "text/plain": [
       "  0%|          |  : 0/2278 [00:00<?,       ?it/s]"
      ]
     },
     "metadata": {},
     "output_type": "display_data"
    }
   ],
   "source": [
    "# Compute coherence\n",
    "fmin, fmax = get_fmin_and_fmax(CONDS)\n",
    "coh_df = pd.DataFrame()\n",
    "indices = get_coh_indices(N_CHANS)\n",
    "for cond in CONDS:\n",
    "    cond_epochs = combined_epochs[cond]\n",
    "    n_epochs = cond_epochs.__len__()\n",
    "    n_epochs_list = list(range(100, n_epochs, 100))\n",
    "    n_epochs_list.append(n_epochs)\n",
    "    for i in n_epochs_list:\n",
    "        epoch_indexes = list(range(i))\n",
    "        cond_epochs_slice = cond_epochs[epoch_indexes]\n",
    "        coh = spectral_connectivity_time(\n",
    "            cond_epochs_slice,\n",
    "            freqs = FREQS,\n",
    "            method = 'coh', \n",
    "            sfreq = FS, \n",
    "            n_jobs = 1)\n",
    "    break\n",
    "\n",
    "save_file_name = 'subj-' + SUB + '_task-pitch_cond-' + cond + '_coh_by_epoch.pkl'\n",
    "save_dir = '/project2/hcn1/pitch_tracking/data/bids/derivatives/coherence'\n",
    "save_path = save_file_name + save_dir\n",
    "with open(save_path, 'wb') as file:\n",
    "    pickle.dump(std1, save_path)\n",
    "    print(f'Object successfully saved to \"{save_path}\"')"
   ]
  }
 ],
 "metadata": {
  "kernelspec": {
   "display_name": "Python 3 (ipykernel)",
   "language": "python",
   "name": "python3"
  },
  "language_info": {
   "codemirror_mode": {
    "name": "ipython",
    "version": 3
   },
   "file_extension": ".py",
   "mimetype": "text/x-python",
   "name": "python",
   "nbconvert_exporter": "python",
   "pygments_lexer": "ipython3",
   "version": "3.10.4"
  }
 },
 "nbformat": 4,
 "nbformat_minor": 5
}
