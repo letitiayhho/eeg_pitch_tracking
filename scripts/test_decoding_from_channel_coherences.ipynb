{
 "cells": [
  {
   "cell_type": "code",
   "execution_count": 1,
   "id": "9bb4ecef",
   "metadata": {},
   "outputs": [],
   "source": [
    "import sys\n",
    "import numpy as np\n",
    "import pickle\n",
    "from mne_bids import BIDSPath, read_raw_bids\n",
    "from bids import BIDSLayout\n",
    "from util.io.coherence import *\n",
    "from util.io.iter_BIDSPaths import *\n",
    "from mne_connectivity import spectral_connectivity_time, check_indices\n",
    "from mne.simulation import simulate_raw"
   ]
  },
  {
   "cell_type": "code",
   "execution_count": 2,
   "id": "a43072b1",
   "metadata": {},
   "outputs": [],
   "source": [
    "from util.io.coherence import *"
   ]
  },
  {
   "cell_type": "code",
   "execution_count": 3,
   "id": "868595f7",
   "metadata": {},
   "outputs": [],
   "source": [
    "SUB = '31'\n",
    "RUN = '1'\n",
    "TASK = 'pitch'\n",
    "FPATH = '/project2/hcn1/pitch_tracking/data/bids/derivatives/preprocessing/sub-31/sub-31_task-pitch_run-1_res-hi_desc-clean_epo.fif.gz'\n",
    "\n",
    "BIDS_ROOT = '../data/bids'\n",
    "FIGS_ROOT = '../figs'\n",
    "\n",
    "DERIV_ROOT = '../data/bids/derivatives'\n",
    "METHOD = 'coh'\n",
    "FS = 5000\n",
    "RAW_TMIN = -0.2\n",
    "RAW_TMAX = 0.5\n",
    "TMIN = 0\n",
    "TMAX = 0.25\n",
    "N_CHANS = 62\n",
    "CONDS = ['50', '100', '150', '200', '250']\n",
    "FREQS = [50, 100, 150, 200, 250]"
   ]
  },
  {
   "cell_type": "code",
   "execution_count": 4,
   "id": "8ea63d51",
   "metadata": {},
   "outputs": [
    {
     "name": "stdout",
     "output_type": "stream",
     "text": [
      "Reading /project2/hcn1/pitch_tracking/data/bids/derivatives/preprocessing/sub-31/sub-31_task-pitch_run-1_res-hi_desc-clean_epo.fif.gz ...\n",
      "    Found the data of interest:\n",
      "        t =    -200.00 ...     250.00 ms\n",
      "        0 CTF compensation matrices available\n",
      "Reading /project2/hcn1/pitch_tracking/data/bids/derivatives/preprocessing/sub-31/sub-31_task-pitch_run-1_res-hi_desc-clean_epo.fif-1.gz ...\n",
      "    Found the data of interest:\n",
      "        t =    -200.00 ...     250.00 ms\n",
      "        0 CTF compensation matrices available\n",
      "Not setting metadata\n",
      "4801 matching events found\n",
      "No baseline correction applied\n",
      "0 projection items activated\n"
     ]
    }
   ],
   "source": [
    "# Load epoched data\n",
    "epochs = mne.read_epochs(FPATH, preload = True)\n",
    "events = epochs.events\n",
    "n_epochs = len(events)"
   ]
  },
  {
   "cell_type": "code",
   "execution_count": 5,
   "id": "3093b237",
   "metadata": {},
   "outputs": [],
   "source": [
    "# Use a different sub for generating stim channels if sub has bad Aux channel\n",
    "STIM_SUB, STIM_RUN = get_stim_sub(SUB, RUN)"
   ]
  },
  {
   "cell_type": "code",
   "execution_count": 6,
   "id": "7fc61c2b",
   "metadata": {},
   "outputs": [],
   "source": [
    "def create_stim_epochs_object(stim_epochs_array, events, CONDS, FS, RAW_TMIN):\n",
    "    info = mne.create_info(ch_names = CONDS,\n",
    "                           ch_types = ['eeg'] * 5,\n",
    "                           sfreq = FS)\n",
    "\n",
    "    # Manually add channel info to match original data to stop mne from shouting at us, very hacky\n",
    "#     info['custom_ref_applied'] = True\n",
    "#     info['description'] = 'Anonymized using a time shift to preserve age at acquisition'\n",
    "#     info['experimenter'] = 'mne_anonymize'\n",
    "#     info['highpass'] = 30.0\n",
    "#     info['line_freq'] = 60.0\n",
    "#     info['lowpass'] = 270.0\n",
    "    event_id = {'100': 10001, '150': 10002, '200': 10003, '250': 10004, '50': 10005}\n",
    "\n",
    "    # Manually add info that is passed in through mne.EpochsArray instead of in the info dict, also very hacky\n",
    "    baseline = (-0.20000000298023224, 0.0)\n",
    "\n",
    "    # Create Epochs object\n",
    "    simulated_epochs = mne.EpochsArray(stim_epochs_array, \n",
    "                                       info, \n",
    "                                       events = events, \n",
    "                                       tmin = RAW_TMIN, \n",
    "                                       event_id = event_id, \n",
    "                                       baseline = baseline)\n",
    "    return(simulated_epochs)"
   ]
  },
  {
   "cell_type": "code",
   "execution_count": 32,
   "id": "f7d5e461",
   "metadata": {},
   "outputs": [
    {
     "name": "stdout",
     "output_type": "stream",
     "text": [
      "Loading data for 1180 events and 3501 original time points ...\n",
      "0 bad epochs dropped\n",
      "Loading data for 1234 events and 3501 original time points ...\n",
      "0 bad epochs dropped\n",
      "Loading data for 1216 events and 3501 original time points ...\n",
      "0 bad epochs dropped\n",
      "Loading data for 1219 events and 3501 original time points ...\n",
      "0 bad epochs dropped\n",
      "Loading data for 1151 events and 3501 original time points ...\n",
      "0 bad epochs dropped\n"
     ]
    }
   ],
   "source": [
    "# Create epochs from raw data to create simulated stim channels\n",
    "raw_epochs = get_raw_epochs(BIDS_ROOT, STIM_SUB, TASK, STIM_RUN)\n",
    "stim_epochs_array = create_stim_epochs_array(raw_epochs, n_epochs, CONDS)\n",
    "simulated_epochs = create_stim_epochs_object(stim_epochs_array, events, CONDS, FS, RAW_TMIN)"
   ]
  },
  {
   "cell_type": "code",
   "execution_count": 8,
   "id": "b18a81f6",
   "metadata": {},
   "outputs": [],
   "source": [
    "# Crop data so both epoch objects have same windowing\n",
    "simulated_epochs = simulated_epochs.crop(tmin = TMIN, tmax = TMAX)\n",
    "epochs = epochs.crop(tmin = TMIN)"
   ]
  },
  {
   "cell_type": "code",
   "execution_count": 10,
   "id": "6d9a9ac0",
   "metadata": {},
   "outputs": [
    {
     "name": "stdout",
     "output_type": "stream",
     "text": [
      "start: 0, end: 10\n",
      "Adding metadata with 3 columns\n",
      "Connectivity computation...\n"
     ]
    },
    {
     "data": {
      "application/vnd.jupyter.widget-view+json": {
       "model_id": "c8c5e3d635884b51b5ac305321a3467c",
       "version_major": 2,
       "version_minor": 0
      },
      "text/plain": [
       "  0%|          |  : 0/1953 [00:00<?,       ?it/s]"
      ]
     },
     "metadata": {},
     "output_type": "display_data"
    }
   ],
   "source": [
    "# # Compute coherence\n",
    "fmin, fmax = get_fmin_and_fmax(CONDS)\n",
    "coh_df = pd.DataFrame()\n",
    "indices = get_coh_indices(N_CHANS)\n",
    "indices = check_indices(indices)\n",
    "# indices = ([0, 0, 0, 0, 0], [1, 2, 3, 4, 5])\n",
    "\n",
    "# Compute coherence over each condition\n",
    "for cond in CONDS: \n",
    "    cond_epochs = combined_epochs[cond]\n",
    "    \n",
    "    # Index over n epochs at a time\n",
    "    n = 10\n",
    "    start_indexes = list(range(n, n_epochs, n))\n",
    "    start_indexes.insert(0, 0)\n",
    "    end_indexes = list(range(n, n_epochs, n))\n",
    "    n_epochs = cond_epochs.__len__()\n",
    "    end_indexes.append(n_epochs)\n",
    "    \n",
    "    for start, end in zip(start_indexes, end_indexes):\n",
    "        print(f'start: {start}, end: {end}')\n",
    "        \n",
    "        # Compute coherence over 100 epochs\n",
    "        cond_epochs_slice = cond_epochs[start:end]\n",
    "        con = spectral_connectivity_time( # of shape (n_epochs, n_nodes, n_nodes, n_freqs)\n",
    "            cond_epochs_slice,\n",
    "            freqs = FREQS,\n",
    "#             indices = indices,\n",
    "            method = 'coh', \n",
    "            sfreq = FS, \n",
    "            n_jobs = 1)\n",
    "        break\n",
    "        \n",
    "    # save_file_name = 'subj-' + SUB + '_task-pitch_cond-' + cond + '_coh_by_epoch.pkl'\n",
    "    # save_dir = '/project2/hcn1/pitch_tracking/data/bids/derivatives/coherence'\n",
    "    # save_path = save_file_name + save_dir\n",
    "    # with open(save_path, 'wb') as file:\n",
    "    #     pickle.dump(std1, save_path)\n",
    "    #     print(f'Object successfully saved to \"{save_path}\"')\n",
    "    break\n",
    "\n"
   ]
  },
  {
   "cell_type": "code",
   "execution_count": 16,
   "id": "d0481e64",
   "metadata": {},
   "outputs": [
    {
     "data": {
      "text/plain": [
       "(4801, 67, 1251)"
      ]
     },
     "execution_count": 16,
     "metadata": {},
     "output_type": "execute_result"
    }
   ],
   "source": [
    "np.shape(epochs.get_data())"
   ]
  },
  {
   "cell_type": "code",
   "execution_count": 17,
   "id": "8b1b3c83",
   "metadata": {},
   "outputs": [
    {
     "data": {
      "text/plain": [
       "(4801, 5, 1251)"
      ]
     },
     "execution_count": 17,
     "metadata": {},
     "output_type": "execute_result"
    }
   ],
   "source": [
    "np.shape(simulated_epochs.get_data())"
   ]
  },
  {
   "cell_type": "code",
   "execution_count": 18,
   "id": "39c2d60d",
   "metadata": {},
   "outputs": [],
   "source": [
    "import matplotlib.pyplot "
   ]
  },
  {
   "cell_type": "code",
   "execution_count": 27,
   "id": "ddfdbd3a",
   "metadata": {},
   "outputs": [
    {
     "data": {
      "text/plain": [
       "(5, 3501)"
      ]
     },
     "execution_count": 27,
     "metadata": {},
     "output_type": "execute_result"
    }
   ],
   "source": [
    "np.shape()"
   ]
  },
  {
   "cell_type": "code",
   "execution_count": 24,
   "id": "b0441210",
   "metadata": {},
   "outputs": [
    {
     "data": {
      "text/plain": [
       "[<matplotlib.lines.Line2D at 0x7fd665762aa0>]"
      ]
     },
     "execution_count": 24,
     "metadata": {},
     "output_type": "execute_result"
    },
    {
     "data": {
      "image/png": "[encoded data removed]",
      "text/plain": [
       "<Figure size 432x288 with 1 Axes>"
      ]
     },
     "metadata": {
      "needs_background": "light"
     },
     "output_type": "display_data"
    }
   ],
   "source": [
    "n_samples = 3501\n",
    "t = np.linspace(RAW_TMIN, RAW_TMAX, n_samples, endpoint = False)\n",
    "plt.plot(t, stim_epochs_array[0, 0, :])"
   ]
  },
  {
   "cell_type": "code",
   "execution_count": 26,
   "id": "af8723db",
   "metadata": {},
   "outputs": [
    {
     "data": {
      "text/plain": [
       "(4801, 5, 3501)"
      ]
     },
     "execution_count": 26,
     "metadata": {},
     "output_type": "execute_result"
    }
   ],
   "source": [
    "np.shape(stim_epochs_array)"
   ]
  }
 ],
 "metadata": {
  "kernelspec": {
   "display_name": "Python 3 (ipykernel)",
   "language": "python",
   "name": "python3"
  },
  "language_info": {
   "codemirror_mode": {
    "name": "ipython",
    "version": 3
   },
   "file_extension": ".py",
   "mimetype": "text/x-python",
   "name": "python",
   "nbconvert_exporter": "python",
   "pygments_lexer": "ipython3",
   "version": "3.10.4"
  }
 },
 "nbformat": 4,
 "nbformat_minor": 5
}
