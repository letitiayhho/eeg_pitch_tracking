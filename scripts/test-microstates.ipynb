{
 "cells": [
  {
   "cell_type": "code",
   "execution_count": 1,
   "id": "41a0bd02",
   "metadata": {},
   "outputs": [
    {
     "ename": "NameError",
     "evalue": "name 'BIDS_ROOT' is not defined",
     "output_type": "error",
     "traceback": [
      "\u001b[0;31m---------------------------------------------------------------------------\u001b[0m",
      "\u001b[0;31mNameError\u001b[0m                                 Traceback (most recent call last)",
      "Input \u001b[0;32mIn [1]\u001b[0m, in \u001b[0;36m<cell line: 16>\u001b[0;34m()\u001b[0m\n\u001b[1;32m     13\u001b[0m \u001b[38;5;28;01mfrom\u001b[39;00m \u001b[38;5;21;01mbids\u001b[39;00m \u001b[38;5;28;01mimport\u001b[39;00m BIDSLayout\n\u001b[1;32m     15\u001b[0m \u001b[38;5;66;03m# load epochs and concatenate across runs\u001b[39;00m\n\u001b[0;32m---> 16\u001b[0m layout \u001b[38;5;241m=\u001b[39m BIDSLayout(\u001b[43mBIDS_ROOT\u001b[49m, derivatives \u001b[38;5;241m=\u001b[39m \u001b[38;5;28;01mTrue\u001b[39;00m)\n\u001b[1;32m     17\u001b[0m run \u001b[38;5;241m=\u001b[39m \u001b[38;5;28;01mlambda\u001b[39;00m f: \u001b[38;5;28mint\u001b[39m(re\u001b[38;5;241m.\u001b[39mfindall(\u001b[38;5;124m'\u001b[39m\u001b[38;5;124mrun-(\u001b[39m\u001b[38;5;124m\\\u001b[39m\u001b[38;5;124mw+)_\u001b[39m\u001b[38;5;124m'\u001b[39m, f)[\u001b[38;5;241m0\u001b[39m])\n\u001b[1;32m     18\u001b[0m fs \u001b[38;5;241m=\u001b[39m layout\u001b[38;5;241m.\u001b[39mget(\n\u001b[1;32m     19\u001b[0m     return_type \u001b[38;5;241m=\u001b[39m \u001b[38;5;124m'\u001b[39m\u001b[38;5;124mfilename\u001b[39m\u001b[38;5;124m'\u001b[39m,\n\u001b[1;32m     20\u001b[0m     subject \u001b[38;5;241m=\u001b[39m sub, desc \u001b[38;5;241m=\u001b[39m \u001b[38;5;124m'\u001b[39m\u001b[38;5;124mforMicrostate\u001b[39m\u001b[38;5;124m'\u001b[39m\n\u001b[1;32m     21\u001b[0m     )\n",
      "\u001b[0;31mNameError\u001b[0m: name 'BIDS_ROOT' is not defined"
     ]
    }
   ],
   "source": [
    "from matplotlib import pyplot as plt\n",
    "import seaborn as sns\n",
    "import numpy as np\n",
    "import os.path as op\n",
    "import argparse\n",
    "import re\n",
    "# EEG utilities\n",
    "import mne\n",
    "from pycrostates.cluster import ModKMeans\n",
    "from pycrostates.preprocessing import extract_gfp_peaks\n",
    "# BIDS utilities\n",
    "from util.io.bids import DataSink\n",
    "from bids import BIDSLayout"
   ]
  },
  {
   "cell_type": "code",
   "execution_count": 6,
   "id": "a3677567",
   "metadata": {},
   "outputs": [],
   "source": [
    "# constants\n",
    "BIDS_ROOT = '../data/bids'\n",
    "DERIV_ROOT = op.join(BIDS_ROOT, 'derivatives')\n",
    "TASK = 'pitch'\n",
    "N_MICROSTATES = 4\n",
    "sub = '3'"
   ]
  },
  {
   "cell_type": "code",
   "execution_count": 14,
   "id": "ceea3d75",
   "metadata": {},
   "outputs": [
    {
     "data": {
      "text/plain": [
       "['/project2/hcn1/pitch_tracking/scripts/../data/bids/derivatives/preprocess_ffr/sub-3/sub-3_task-pitch_run-1_desc-forFFR_epo.fif.gz',\n",
       " '/project2/hcn1/pitch_tracking/scripts/../data/bids/derivatives/preprocess_ffr/sub-3/sub-3_task-pitch_run-2_desc-forFFR_epo.fif.gz']"
      ]
     },
     "execution_count": 14,
     "metadata": {},
     "output_type": "execute_result"
    }
   ],
   "source": [
    "# load epochs and concatenate across runs\n",
    "layout = BIDSLayout(BIDS_ROOT, derivatives = True)\n",
    "run = lambda f: int(re.findall('run-(\\w+)_', f)[0])\n",
    "fs = layout.get(\n",
    "    return_type = 'filename',\n",
    "    subject = sub, desc = 'forMicrostate' # Haven't successfully produced these files yet\n",
    "    )\n",
    "print(fs)\n",
    "fs.sort(key = run)\n",
    "epochs_all = [mne.read_epochs(f) for f in fs]\n",
    "epochs = mne.concatenate_epochs(epochs_all)\n",
    "epochs = epochs.pick('eeg')"
   ]
  },
  {
   "cell_type": "code",
   "execution_count": null,
   "id": "544b4aee",
   "metadata": {},
   "outputs": [],
   "source": [
    "# cluster observed topographies to derive microstates\n",
    "peaks = extract_gfp_peaks(epochs) # topographies w/ highest signal-to-noise\n",
    "ModK = ModKMeans(n_clusters = N_MICROSTATES, random_state = 0)\n",
    "ModK.fit(peaks, n_jobs = -1)\n",
    "\n",
    "fig_topos, axs = plt.subplots(1, N_MICROSTATES)\n",
    "ModK.plot(axes = axs)\n",
    "\n",
    "segmentation = ModK.predict(epochs, reject_edges = False)\n",
    "parameters = segmentation.compute_parameters()\n",
    "\n",
    "x = ModK.cluster_names\n",
    "y = [parameters[elt + \"_gev\"] for elt in x]\n",
    "fig_var, ax = plt.subplots()\n",
    "sns.barplot(x = x, y = y, ax = ax)\n",
    "ax.set_xlabel(\"Microstates\")\n",
    "ax.set_ylabel(\"Global explained Variance (ratio)\")\n",
    "\n",
    "y = [parameters[elt + \"_timecov\"] for elt in x]\n",
    "fig_cov, ax = plt.subplots()\n",
    "ax = sns.barplot(x = x, y = y, ax = ax)\n",
    "ax.set_xlabel(\"Microstates\")\n",
    "ax.set_ylabel(\"Time Coverage (ratio)\")\n",
    "\n",
    "sink = DataSink(DERIV_ROOT, 'microstates')\n",
    "solution_fpath = sink.get_path(\n",
    "    subject = sub,\n",
    "    task = TASK,\n",
    "    desc = 'microstates',\n",
    "    suffix = 'ModKMeans',\n",
    "    extension = '.fif.gz'\n",
    ")\n",
    "ModK.save(solution_fpath)\n",
    "\n",
    "report = mne.Report(verbose = True)\n",
    "report.add_figure(\n",
    "    fig_topos,\n",
    "    title = 'Topographies',\n",
    "    section = 'Microstates (subject-level)'\n",
    ")\n",
    "report.add_figure(\n",
    "    fig_var,\n",
    "    title = 'Variance explained',\n",
    "    section = 'Microstates (subject-level)'\n",
    ")\n",
    "report.add_figure(\n",
    "    fig_cov,\n",
    "    title = 'Time coverage',\n",
    "    section = 'Microstates (subject-level)'\n",
    ")\n",
    "report.save(op.join(sink.deriv_root, 'sub-%s.html'%sub), overwrite = True)"
   ]
  }
 ],
 "metadata": {
  "kernelspec": {
   "display_name": "Python 3 (ipykernel)",
   "language": "python",
   "name": "python3"
  },
  "language_info": {
   "codemirror_mode": {
    "name": "ipython",
    "version": 3
   },
   "file_extension": ".py",
   "mimetype": "text/x-python",
   "name": "python",
   "nbconvert_exporter": "python",
   "pygments_lexer": "ipython3",
   "version": "3.10.4"
  }
 },
 "nbformat": 4,
 "nbformat_minor": 5
}
