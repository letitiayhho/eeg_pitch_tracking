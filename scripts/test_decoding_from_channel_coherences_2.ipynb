{
 "cells": [
  {
   "cell_type": "code",
   "execution_count": 21,
   "id": "9bb4ecef",
   "metadata": {},
   "outputs": [],
   "source": [
    "import sys\n",
    "import numpy as np\n",
    "import pickle\n",
    "from mne_bids import BIDSPath, read_raw_bids\n",
    "from bids import BIDSLayout\n",
    "from util.io.coherence import *\n",
    "from util.io.iter_BIDSPaths import *\n",
    "from mne_connectivity import spectral_connectivity_time, check_indices"
   ]
  },
  {
   "cell_type": "code",
   "execution_count": 3,
   "id": "868595f7",
   "metadata": {},
   "outputs": [],
   "source": [
    "SUB = '31'\n",
    "RUN = '1'\n",
    "TASK = 'pitch'\n",
    "FPATH = '/project2/hcn1/pitch_tracking/data/bids/derivatives/preprocessing/sub-31/sub-31_task-pitch_run-1_res-hi_desc-clean_epo.fif.gz'\n",
    "\n",
    "BIDS_ROOT = '../data/bids'\n",
    "FIGS_ROOT = '../figs'\n",
    "\n",
    "DERIV_ROOT = '../data/bids/derivatives'\n",
    "METHOD = 'coh'\n",
    "FS = 5000\n",
    "RAW_TMIN = -0.2\n",
    "RAW_TMAX = 0.5\n",
    "TMIN = 0\n",
    "TMAX = 0.25\n",
    "N_CHANS = 62\n",
    "CONDS = ['50', '100', '150', '200', '250']\n",
    "FREQS = [50, 100, 150, 200, 250]"
   ]
  },
  {
   "cell_type": "code",
   "execution_count": 4,
   "id": "8ea63d51",
   "metadata": {},
   "outputs": [
    {
     "name": "stdout",
     "output_type": "stream",
     "text": [
      "Reading /project2/hcn1/pitch_tracking/data/bids/derivatives/preprocessing/sub-31/sub-31_task-pitch_run-1_res-hi_desc-clean_epo.fif.gz ...\n",
      "    Found the data of interest:\n",
      "        t =    -200.00 ...     250.00 ms\n",
      "        0 CTF compensation matrices available\n",
      "Reading /project2/hcn1/pitch_tracking/data/bids/derivatives/preprocessing/sub-31/sub-31_task-pitch_run-1_res-hi_desc-clean_epo.fif-1.gz ...\n",
      "    Found the data of interest:\n",
      "        t =    -200.00 ...     250.00 ms\n",
      "        0 CTF compensation matrices available\n",
      "0 bad epochs dropped\n",
      "0 bad epochs dropped\n",
      "Not setting metadata\n",
      "4801 matching events found\n",
      "No baseline correction applied\n",
      "0 projection items activated\n"
     ]
    }
   ],
   "source": [
    "# Load epoched data\n",
    "epochs = mne.read_epochs(FPATH, preload = True)\n",
    "events = epochs.events\n",
    "n_epochs = len(events)"
   ]
  },
  {
   "cell_type": "code",
   "execution_count": 5,
   "id": "625dba95",
   "metadata": {},
   "outputs": [
    {
     "data": {
      "text/html": [
       "<table class=\"table table-hover table-striped table-sm table-responsive small\">\n",
       "    <tr>\n",
       "        <th>Measurement date</th>\n",
       "        \n",
       "        <td>December 31, 1924  08:34:54 GMT</td>\n",
       "        \n",
       "    </tr>\n",
       "    <tr>\n",
       "        <th>Experimenter</th>\n",
       "        \n",
       "        <td>mne_anonymize</td>\n",
       "        \n",
       "    </tr>\n",
       "        <th>Participant</th>\n",
       "        \n",
       "            \n",
       "            <td>sub-31</td>\n",
       "            \n",
       "        \n",
       "    </tr>\n",
       "    <tr>\n",
       "        <th>Digitized points</th>\n",
       "        \n",
       "        <td>0 points</td>\n",
       "        \n",
       "    </tr>\n",
       "    <tr>\n",
       "        <th>Good channels</th>\n",
       "        <td>62 EEG</td>\n",
       "    </tr>\n",
       "    <tr>\n",
       "        <th>Bad channels</th>\n",
       "        <td>None</td>\n",
       "    </tr>\n",
       "    <tr>\n",
       "        <th>EOG channels</th>\n",
       "        <td>Not available</td>\n",
       "    </tr>\n",
       "    <tr>\n",
       "        <th>ECG channels</th>\n",
       "        <td>Not available</td>\n",
       "    \n",
       "    <tr>\n",
       "        <th>Sampling frequency</th>\n",
       "        <td>5000.00 Hz</td>\n",
       "    </tr>\n",
       "    \n",
       "    \n",
       "    <tr>\n",
       "        <th>Highpass</th>\n",
       "        <td>30.00 Hz</td>\n",
       "    </tr>\n",
       "    \n",
       "    \n",
       "    <tr>\n",
       "        <th>Lowpass</th>\n",
       "        <td>270.00 Hz</td>\n",
       "    </tr>\n",
       "    \n",
       "    \n",
       "</table>"
      ],
      "text/plain": [
       "<Info | 15 non-empty values\n",
       " bads: []\n",
       " ch_names: Fp1, Fz, F3, F7, FT9, FC5, FC1, C3, T7, TP9, CP5, CP1, Pz, P3, ...\n",
       " chs: 62 EEG\n",
       " custom_ref_applied: True\n",
       " description: Anonymized using a time shift to preserve age at acquisition\n",
       " dig: 62 items (62 EEG)\n",
       " experimenter: mne_anonymize\n",
       " file_id: 4 items (dict)\n",
       " highpass: 30.0 Hz\n",
       " line_freq: 60.0\n",
       " lowpass: 270.0 Hz\n",
       " meas_date: 1924-12-31 08:34:54 UTC\n",
       " meas_id: 4 items (dict)\n",
       " nchan: 62\n",
       " projs: []\n",
       " sfreq: 5000.0 Hz\n",
       " subject_info: 3 items (dict)\n",
       ">"
      ]
     },
     "execution_count": 5,
     "metadata": {},
     "output_type": "execute_result"
    }
   ],
   "source": [
    "epochs.info"
   ]
  },
  {
   "cell_type": "code",
   "execution_count": 6,
   "id": "3093b237",
   "metadata": {},
   "outputs": [],
   "source": [
    "# Use a different sub for generating stim channels if sub has bad Aux channel\n",
    "STIM_SUB, STIM_RUN = get_stim_sub(SUB, RUN)"
   ]
  },
  {
   "cell_type": "code",
   "execution_count": 7,
   "id": "f7d5e461",
   "metadata": {},
   "outputs": [
    {
     "name": "stderr",
     "output_type": "stream",
     "text": [
      "/project2/hcn1/pitch_tracking/scripts/util/io/coherence.py:42: RuntimeWarning: There are channels without locations (n/a) that are not marked as bad: ['leog', 'reog', 'Aux1']\n",
      "  raw = read_raw_bids(bids_path, verbose = False)\n",
      "/project2/hcn1/pitch_tracking/scripts/util/io/coherence.py:42: RuntimeWarning: Not setting position of 1 stim channel found in montage:\n",
      "['Aux1']\n",
      "Consider setting the channel types to be of EEG/sEEG/ECoG/DBS/fNIRS using inst.set_channel_types before calling inst.set_montage, or omit these channels when creating your montage.\n",
      "  raw = read_raw_bids(bids_path, verbose = False)\n"
     ]
    },
    {
     "name": "stdout",
     "output_type": "stream",
     "text": [
      "Used Annotations descriptions: ['100', '150', '200', '250', '50']\n",
      "Not setting metadata\n",
      "6000 matching events found\n",
      "No baseline correction applied\n",
      "0 projection items activated\n",
      "Loading data for 1180 events and 3501 original time points ...\n",
      "0 bad epochs dropped\n",
      "Loading data for 1234 events and 3501 original time points ...\n",
      "0 bad epochs dropped\n",
      "Loading data for 1216 events and 3501 original time points ...\n",
      "0 bad epochs dropped\n",
      "Loading data for 1219 events and 3501 original time points ...\n",
      "0 bad epochs dropped\n",
      "Loading data for 1151 events and 3501 original time points ...\n",
      "0 bad epochs dropped\n",
      "Not setting metadata\n",
      "4801 matching events found\n",
      "Applying baseline correction (mode: mean)\n",
      "0 projection items activated\n"
     ]
    },
    {
     "name": "stderr",
     "output_type": "stream",
     "text": [
      "/home/letitiayhho/.conda/envs/pitch-tracking/lib/python3.10/site-packages/mne/io/meas_info.py:864: UserWarning: Avoid manually setting custom_ref_applied cannot be set directly. Please use method inst.set_eeg_reference() instead.\n",
      "  warnings.warn(f\"Avoid manually setting {self._attributes[key]}\")\n",
      "/home/letitiayhho/.conda/envs/pitch-tracking/lib/python3.10/site-packages/mne/io/meas_info.py:864: UserWarning: Avoid manually setting highpass cannot be set directly. Please use method inst.filter() instead.\n",
      "  warnings.warn(f\"Avoid manually setting {self._attributes[key]}\")\n",
      "/home/letitiayhho/.conda/envs/pitch-tracking/lib/python3.10/site-packages/mne/io/meas_info.py:864: UserWarning: Avoid manually setting lowpass cannot be set directly. Please use method inst.filter() instead.\n",
      "  warnings.warn(f\"Avoid manually setting {self._attributes[key]}\")\n"
     ]
    },
    {
     "name": "stdout",
     "output_type": "stream",
     "text": [
      "0 bad epochs dropped\n"
     ]
    }
   ],
   "source": [
    "# Create epochs from raw data to create simulated stim channels\n",
    "raw_epochs = get_raw_epochs(BIDS_ROOT, STIM_SUB, TASK, STIM_RUN)\n",
    "stim_epochs_array = create_stim_epochs_array(raw_epochs, n_epochs, CONDS)\n",
    "simulated_epochs = create_stim_epochs_object(stim_epochs_array, events, CONDS, FS, RAW_TMIN)"
   ]
  },
  {
   "cell_type": "code",
   "execution_count": 9,
   "id": "b18a81f6",
   "metadata": {},
   "outputs": [],
   "source": [
    "# Crop data so both epoch objects have same windowing\n",
    "simulated_epochs = simulated_epochs.crop(tmin = TMIN, tmax = TMAX)\n",
    "epochs = epochs.crop(tmin = TMIN)"
   ]
  },
  {
   "cell_type": "code",
   "execution_count": 10,
   "id": "c8b5d3b8",
   "metadata": {},
   "outputs": [],
   "source": [
    "# Add simulated channels to data\n",
    "combined_epochs = mne.epochs.add_channels_epochs([epochs, simulated_epochs])"
   ]
  },
  {
   "cell_type": "code",
   "execution_count": 11,
   "id": "73804f8a",
   "metadata": {},
   "outputs": [
    {
     "data": {
      "text/plain": [
       "[0, 1, 2, 3, 4, 5, 6, 7, 8, 9]"
      ]
     },
     "execution_count": 11,
     "metadata": {},
     "output_type": "execute_result"
    }
   ],
   "source": [
    "# n_epochs = 984\n",
    "# for i in range(100, n_epochs, 100):\n",
    "#     print(i)\n",
    "# n_epochs_list = list(range(100, n_epochs, 100))\n",
    "# n_epochs_list.append(n_epochs)\n",
    "# n_epochs_list\n",
    "epoch_indexes = list(range(10))\n",
    "epoch_indexes"
   ]
  },
  {
   "cell_type": "code",
   "execution_count": 26,
   "id": "4d76b0b9",
   "metadata": {},
   "outputs": [],
   "source": [
    "# Sort out indices\n",
    "# Examples:\n",
    "#https://mne.tools/mne-connectivity/stable/auto_examples/dpli_wpli_pli.html#sphx-glr-auto-examples-dpli-wpli-pli-py\n",
    "#https://mne.tools/mne-connectivity/stable/auto_examples/mne_inverse_psi_visual.html#sphx-glr-auto-examples-mne-inverse-psi-visual-py\n",
    "#https://mne.tools/mne-connectivity/stable/auto_examples/mne_inverse_coherence_epochs.html#sphx-glr-auto-examples-mne-inverse-coherence-epochs-py\n",
    "indices = ([0, 0, 0, 0, 0], [1, 2, 3, 4, 5])\n",
    "check_indices(indices)"
   ]
  },
  {
   "cell_type": "code",
   "execution_count": 25,
   "id": "6d9a9ac0",
   "metadata": {},
   "outputs": [
    {
     "name": "stdout",
     "output_type": "stream",
     "text": [
      "start: 0, end: 10\n",
      "Adding metadata with 3 columns\n",
      "Connectivity computation...\n"
     ]
    },
    {
     "data": {
      "application/vnd.jupyter.widget-view+json": {
       "model_id": "25abffa406274d8b9e1dedd78ff8bb5f",
       "version_major": 2,
       "version_minor": 0
      },
      "text/plain": [
       "  0%|          |  : 0/2 [00:00<?,       ?it/s]"
      ]
     },
     "metadata": {},
     "output_type": "display_data"
    },
    {
     "ename": "ValueError",
     "evalue": "If \"indices\" is \"symmetric\", then connectivity data should be the upper-triangular part of the matrix. There are 2 estimated connections. But there should be 2278 estimated connections.",
     "output_type": "error",
     "traceback": [
      "\u001b[0;31m---------------------------------------------------------------------------\u001b[0m",
      "\u001b[0;31mValueError\u001b[0m                                Traceback (most recent call last)",
      "Input \u001b[0;32mIn [25]\u001b[0m, in \u001b[0;36m<cell line: 8>\u001b[0;34m()\u001b[0m\n\u001b[1;32m     22\u001b[0m     \u001b[38;5;66;03m# Compute coherence over 100 epochs\u001b[39;00m\n\u001b[1;32m     23\u001b[0m     cond_epochs_slice \u001b[38;5;241m=\u001b[39m cond_epochs[start:end]\n\u001b[0;32m---> 24\u001b[0m     coh \u001b[38;5;241m=\u001b[39m \u001b[43mspectral_connectivity_time\u001b[49m\u001b[43m(\u001b[49m\n\u001b[1;32m     25\u001b[0m \u001b[43m        \u001b[49m\u001b[43mcond_epochs_slice\u001b[49m\u001b[43m,\u001b[49m\n\u001b[1;32m     26\u001b[0m \u001b[43m        \u001b[49m\u001b[43mfreqs\u001b[49m\u001b[43m \u001b[49m\u001b[38;5;241;43m=\u001b[39;49m\u001b[43m \u001b[49m\u001b[43mFREQS\u001b[49m\u001b[43m,\u001b[49m\n\u001b[1;32m     27\u001b[0m \u001b[43m        \u001b[49m\u001b[43mindices\u001b[49m\u001b[43m \u001b[49m\u001b[38;5;241;43m=\u001b[39;49m\u001b[43m \u001b[49m\u001b[43mindices\u001b[49m\u001b[43m,\u001b[49m\n\u001b[1;32m     28\u001b[0m \u001b[43m        \u001b[49m\u001b[43mmethod\u001b[49m\u001b[43m \u001b[49m\u001b[38;5;241;43m=\u001b[39;49m\u001b[43m \u001b[49m\u001b[38;5;124;43m'\u001b[39;49m\u001b[38;5;124;43mcoh\u001b[39;49m\u001b[38;5;124;43m'\u001b[39;49m\u001b[43m,\u001b[49m\u001b[43m \u001b[49m\n\u001b[1;32m     29\u001b[0m \u001b[43m        \u001b[49m\u001b[43msfreq\u001b[49m\u001b[43m \u001b[49m\u001b[38;5;241;43m=\u001b[39;49m\u001b[43m \u001b[49m\u001b[43mFS\u001b[49m\u001b[43m,\u001b[49m\u001b[43m \u001b[49m\n\u001b[1;32m     30\u001b[0m \u001b[43m        \u001b[49m\u001b[43mn_jobs\u001b[49m\u001b[43m \u001b[49m\u001b[38;5;241;43m=\u001b[39;49m\u001b[43m \u001b[49m\u001b[38;5;241;43m1\u001b[39;49m\u001b[43m)\u001b[49m\n\u001b[1;32m     31\u001b[0m     \u001b[38;5;28;01mbreak\u001b[39;00m\n\u001b[1;32m     33\u001b[0m \u001b[38;5;66;03m# save_file_name = 'subj-' + SUB + '_task-pitch_cond-' + cond + '_coh_by_epoch.pkl'\u001b[39;00m\n\u001b[1;32m     34\u001b[0m \u001b[38;5;66;03m# save_dir = '/project2/hcn1/pitch_tracking/data/bids/derivatives/coherence'\u001b[39;00m\n\u001b[1;32m     35\u001b[0m \u001b[38;5;66;03m# save_path = save_file_name + save_dir\u001b[39;00m\n\u001b[1;32m     36\u001b[0m \u001b[38;5;66;03m# with open(save_path, 'wb') as file:\u001b[39;00m\n\u001b[1;32m     37\u001b[0m \u001b[38;5;66;03m#     pickle.dump(std1, save_path)\u001b[39;00m\n\u001b[1;32m     38\u001b[0m \u001b[38;5;66;03m#     print(f'Object successfully saved to \"{save_path}\"')\u001b[39;00m\n",
      "File \u001b[0;32m~/.conda/envs/pitch-tracking/lib/python3.10/site-packages/mne_connectivity/spectral/time.py:223\u001b[0m, in \u001b[0;36mspectral_connectivity_time\u001b[0;34m(data, names, method, indices, sfreq, foi, sm_times, sm_freqs, sm_kernel, mode, mt_bandwidth, freqs, n_cycles, decim, block_size, n_jobs, verbose)\u001b[0m\n\u001b[1;32m    221\u001b[0m \u001b[38;5;66;03m# create a Connectivity container\u001b[39;00m\n\u001b[1;32m    222\u001b[0m indices \u001b[38;5;241m=\u001b[39m \u001b[38;5;124m'\u001b[39m\u001b[38;5;124msymmetric\u001b[39m\u001b[38;5;124m'\u001b[39m\n\u001b[0;32m--> 223\u001b[0m conn \u001b[38;5;241m=\u001b[39m \u001b[43mEpochSpectroTemporalConnectivity\u001b[49m\u001b[43m(\u001b[49m\n\u001b[1;32m    224\u001b[0m \u001b[43m    \u001b[49m\u001b[43mconn\u001b[49m\u001b[43m,\u001b[49m\u001b[43m \u001b[49m\u001b[43mfreqs\u001b[49m\u001b[38;5;241;43m=\u001b[39;49m\u001b[43mfreqs\u001b[49m\u001b[43m,\u001b[49m\u001b[43m \u001b[49m\u001b[43mtimes\u001b[49m\u001b[38;5;241;43m=\u001b[39;49m\u001b[43mtimes\u001b[49m\u001b[43m,\u001b[49m\n\u001b[1;32m    225\u001b[0m \u001b[43m    \u001b[49m\u001b[43mn_nodes\u001b[49m\u001b[38;5;241;43m=\u001b[39;49m\u001b[43mn_signals\u001b[49m\u001b[43m,\u001b[49m\u001b[43m \u001b[49m\u001b[43mnames\u001b[49m\u001b[38;5;241;43m=\u001b[39;49m\u001b[43mnames\u001b[49m\u001b[43m,\u001b[49m\u001b[43m \u001b[49m\u001b[43mindices\u001b[49m\u001b[38;5;241;43m=\u001b[39;49m\u001b[43mindices\u001b[49m\u001b[43m,\u001b[49m\u001b[43m \u001b[49m\u001b[43mmethod\u001b[49m\u001b[38;5;241;43m=\u001b[39;49m\u001b[43mmethod\u001b[49m\u001b[43m,\u001b[49m\n\u001b[1;32m    226\u001b[0m \u001b[43m    \u001b[49m\u001b[43mspec_method\u001b[49m\u001b[38;5;241;43m=\u001b[39;49m\u001b[43mmode\u001b[49m\u001b[43m,\u001b[49m\u001b[43m \u001b[49m\u001b[43mevents\u001b[49m\u001b[38;5;241;43m=\u001b[39;49m\u001b[43mevents\u001b[49m\u001b[43m,\u001b[49m\u001b[43m \u001b[49m\u001b[43mevent_id\u001b[49m\u001b[38;5;241;43m=\u001b[39;49m\u001b[43mevent_id\u001b[49m\u001b[43m,\u001b[49m\u001b[43m \u001b[49m\u001b[43mmetadata\u001b[49m\u001b[38;5;241;43m=\u001b[39;49m\u001b[43mmetadata\u001b[49m\u001b[43m)\u001b[49m\n\u001b[1;32m    228\u001b[0m \u001b[38;5;28;01mreturn\u001b[39;00m conn\n",
      "File \u001b[0;32m~/.conda/envs/pitch-tracking/lib/python3.10/site-packages/mne_connectivity/base.py:1036\u001b[0m, in \u001b[0;36mEpochSpectroTemporalConnectivity.__init__\u001b[0;34m(self, data, freqs, times, n_nodes, names, indices, method, spec_method, **kwargs)\u001b[0m\n\u001b[1;32m   1033\u001b[0m \u001b[38;5;28;01mdef\u001b[39;00m \u001b[38;5;21m__init__\u001b[39m(\u001b[38;5;28mself\u001b[39m, data, freqs, times, n_nodes,\n\u001b[1;32m   1034\u001b[0m              names\u001b[38;5;241m=\u001b[39m\u001b[38;5;28;01mNone\u001b[39;00m, indices\u001b[38;5;241m=\u001b[39m\u001b[38;5;124m'\u001b[39m\u001b[38;5;124mall\u001b[39m\u001b[38;5;124m'\u001b[39m, method\u001b[38;5;241m=\u001b[39m\u001b[38;5;28;01mNone\u001b[39;00m,\n\u001b[1;32m   1035\u001b[0m              spec_method\u001b[38;5;241m=\u001b[39m\u001b[38;5;28;01mNone\u001b[39;00m, \u001b[38;5;241m*\u001b[39m\u001b[38;5;241m*\u001b[39mkwargs):\n\u001b[0;32m-> 1036\u001b[0m     \u001b[38;5;28;43msuper\u001b[39;49m\u001b[43m(\u001b[49m\u001b[43mEpochSpectroTemporalConnectivity\u001b[49m\u001b[43m,\u001b[49m\u001b[43m \u001b[49m\u001b[38;5;28;43mself\u001b[39;49m\u001b[43m)\u001b[49m\u001b[38;5;241;43m.\u001b[39;49m\u001b[38;5;21;43m__init__\u001b[39;49m\u001b[43m(\u001b[49m\n\u001b[1;32m   1037\u001b[0m \u001b[43m        \u001b[49m\u001b[43mdata\u001b[49m\u001b[43m,\u001b[49m\u001b[43m \u001b[49m\u001b[43mnames\u001b[49m\u001b[38;5;241;43m=\u001b[39;49m\u001b[43mnames\u001b[49m\u001b[43m,\u001b[49m\u001b[43m \u001b[49m\u001b[43mfreqs\u001b[49m\u001b[38;5;241;43m=\u001b[39;49m\u001b[43mfreqs\u001b[49m\u001b[43m,\u001b[49m\u001b[43m \u001b[49m\u001b[43mtimes\u001b[49m\u001b[38;5;241;43m=\u001b[39;49m\u001b[43mtimes\u001b[49m\u001b[43m,\u001b[49m\u001b[43m \u001b[49m\u001b[43mindices\u001b[49m\u001b[38;5;241;43m=\u001b[39;49m\u001b[43mindices\u001b[49m\u001b[43m,\u001b[49m\n\u001b[1;32m   1038\u001b[0m \u001b[43m        \u001b[49m\u001b[43mn_nodes\u001b[49m\u001b[38;5;241;43m=\u001b[39;49m\u001b[43mn_nodes\u001b[49m\u001b[43m,\u001b[49m\u001b[43m \u001b[49m\u001b[43mmethod\u001b[49m\u001b[38;5;241;43m=\u001b[39;49m\u001b[43mmethod\u001b[49m\u001b[43m,\u001b[49m\u001b[43m \u001b[49m\u001b[43mspec_method\u001b[49m\u001b[38;5;241;43m=\u001b[39;49m\u001b[43mspec_method\u001b[49m\u001b[43m,\u001b[49m\n\u001b[1;32m   1039\u001b[0m \u001b[43m        \u001b[49m\u001b[38;5;241;43m*\u001b[39;49m\u001b[38;5;241;43m*\u001b[39;49m\u001b[43mkwargs\u001b[49m\u001b[43m)\u001b[49m\n",
      "File \u001b[0;32m~/.conda/envs/pitch-tracking/lib/python3.10/site-packages/mne_connectivity/base.py:943\u001b[0m, in \u001b[0;36mSpectroTemporalConnectivity.__init__\u001b[0;34m(self, data, freqs, times, n_nodes, names, indices, method, spec_method, n_epochs_used, **kwargs)\u001b[0m\n\u001b[1;32m    940\u001b[0m \u001b[38;5;28;01mdef\u001b[39;00m \u001b[38;5;21m__init__\u001b[39m(\u001b[38;5;28mself\u001b[39m, data, freqs, times, n_nodes, names\u001b[38;5;241m=\u001b[39m\u001b[38;5;28;01mNone\u001b[39;00m,\n\u001b[1;32m    941\u001b[0m              indices\u001b[38;5;241m=\u001b[39m\u001b[38;5;124m'\u001b[39m\u001b[38;5;124mall\u001b[39m\u001b[38;5;124m'\u001b[39m, method\u001b[38;5;241m=\u001b[39m\u001b[38;5;28;01mNone\u001b[39;00m,\n\u001b[1;32m    942\u001b[0m              spec_method\u001b[38;5;241m=\u001b[39m\u001b[38;5;28;01mNone\u001b[39;00m, n_epochs_used\u001b[38;5;241m=\u001b[39m\u001b[38;5;28;01mNone\u001b[39;00m, \u001b[38;5;241m*\u001b[39m\u001b[38;5;241m*\u001b[39mkwargs):\n\u001b[0;32m--> 943\u001b[0m     \u001b[38;5;28;43msuper\u001b[39;49m\u001b[43m(\u001b[49m\u001b[43mSpectroTemporalConnectivity\u001b[49m\u001b[43m,\u001b[49m\u001b[43m \u001b[49m\u001b[38;5;28;43mself\u001b[39;49m\u001b[43m)\u001b[49m\u001b[38;5;241;43m.\u001b[39;49m\u001b[38;5;21;43m__init__\u001b[39;49m\u001b[43m(\u001b[49m\n\u001b[1;32m    944\u001b[0m \u001b[43m        \u001b[49m\u001b[43mdata\u001b[49m\u001b[43m,\u001b[49m\u001b[43m \u001b[49m\u001b[43mnames\u001b[49m\u001b[38;5;241;43m=\u001b[39;49m\u001b[43mnames\u001b[49m\u001b[43m,\u001b[49m\u001b[43m \u001b[49m\u001b[43mmethod\u001b[49m\u001b[38;5;241;43m=\u001b[39;49m\u001b[43mmethod\u001b[49m\u001b[43m,\u001b[49m\u001b[43m \u001b[49m\u001b[43mindices\u001b[49m\u001b[38;5;241;43m=\u001b[39;49m\u001b[43mindices\u001b[49m\u001b[43m,\u001b[49m\n\u001b[1;32m    945\u001b[0m \u001b[43m        \u001b[49m\u001b[43mn_nodes\u001b[49m\u001b[38;5;241;43m=\u001b[39;49m\u001b[43mn_nodes\u001b[49m\u001b[43m,\u001b[49m\u001b[43m \u001b[49m\u001b[43mfreqs\u001b[49m\u001b[38;5;241;43m=\u001b[39;49m\u001b[43mfreqs\u001b[49m\u001b[43m,\u001b[49m\n\u001b[1;32m    946\u001b[0m \u001b[43m        \u001b[49m\u001b[43mspec_method\u001b[49m\u001b[38;5;241;43m=\u001b[39;49m\u001b[43mspec_method\u001b[49m\u001b[43m,\u001b[49m\u001b[43m \u001b[49m\u001b[43mtimes\u001b[49m\u001b[38;5;241;43m=\u001b[39;49m\u001b[43mtimes\u001b[49m\u001b[43m,\u001b[49m\n\u001b[1;32m    947\u001b[0m \u001b[43m        \u001b[49m\u001b[43mn_epochs_used\u001b[49m\u001b[38;5;241;43m=\u001b[39;49m\u001b[43mn_epochs_used\u001b[49m\u001b[43m,\u001b[49m\u001b[43m \u001b[49m\u001b[38;5;241;43m*\u001b[39;49m\u001b[38;5;241;43m*\u001b[39;49m\u001b[43mkwargs\u001b[49m\u001b[43m)\u001b[49m\n",
      "File \u001b[0;32m~/.conda/envs/pitch-tracking/lib/python3.10/site-packages/mne_connectivity/base.py:413\u001b[0m, in \u001b[0;36mBaseConnectivity.__init__\u001b[0;34m(self, data, names, indices, method, n_nodes, events, event_id, metadata, **kwargs)\u001b[0m\n\u001b[1;32m    410\u001b[0m \u001b[38;5;28mself\u001b[39m\u001b[38;5;241m.\u001b[39mmetadata \u001b[38;5;241m=\u001b[39m metadata\n\u001b[1;32m    412\u001b[0m \u001b[38;5;66;03m# check the incoming data structure\u001b[39;00m\n\u001b[0;32m--> 413\u001b[0m \u001b[38;5;28;43mself\u001b[39;49m\u001b[38;5;241;43m.\u001b[39;49m\u001b[43m_check_data_consistency\u001b[49m\u001b[43m(\u001b[49m\u001b[43mdata\u001b[49m\u001b[43m,\u001b[49m\u001b[43m \u001b[49m\u001b[43mindices\u001b[49m\u001b[38;5;241;43m=\u001b[39;49m\u001b[43mindices\u001b[49m\u001b[43m,\u001b[49m\u001b[43m \u001b[49m\u001b[43mn_nodes\u001b[49m\u001b[38;5;241;43m=\u001b[39;49m\u001b[43mn_nodes\u001b[49m\u001b[43m)\u001b[49m\n\u001b[1;32m    414\u001b[0m \u001b[38;5;28mself\u001b[39m\u001b[38;5;241m.\u001b[39m_prepare_xarray(data, names\u001b[38;5;241m=\u001b[39mnames, indices\u001b[38;5;241m=\u001b[39mindices,\n\u001b[1;32m    415\u001b[0m                      n_nodes\u001b[38;5;241m=\u001b[39mn_nodes, method\u001b[38;5;241m=\u001b[39mmethod, events\u001b[38;5;241m=\u001b[39mevents,\n\u001b[1;32m    416\u001b[0m                      event_id\u001b[38;5;241m=\u001b[39mevent_id, \u001b[38;5;241m*\u001b[39m\u001b[38;5;241m*\u001b[39mkwargs)\n",
      "File \u001b[0;32m~/.conda/envs/pitch-tracking/lib/python3.10/site-packages/mne_connectivity/base.py:549\u001b[0m, in \u001b[0;36mBaseConnectivity._check_data_consistency\u001b[0;34m(self, data, indices, n_nodes)\u001b[0m\n\u001b[1;32m    547\u001b[0m expected_len \u001b[38;5;241m=\u001b[39m ((n_nodes \u001b[38;5;241m+\u001b[39m \u001b[38;5;241m1\u001b[39m) \u001b[38;5;241m*\u001b[39m n_nodes) \u001b[38;5;241m/\u001b[39m\u001b[38;5;241m/\u001b[39m \u001b[38;5;241m2\u001b[39m\n\u001b[1;32m    548\u001b[0m \u001b[38;5;28;01mif\u001b[39;00m data_len \u001b[38;5;241m!=\u001b[39m expected_len:\n\u001b[0;32m--> 549\u001b[0m     \u001b[38;5;28;01mraise\u001b[39;00m \u001b[38;5;167;01mValueError\u001b[39;00m(\u001b[38;5;124mf\u001b[39m\u001b[38;5;124m'\u001b[39m\u001b[38;5;124mIf \u001b[39m\u001b[38;5;124m\"\u001b[39m\u001b[38;5;124mindices\u001b[39m\u001b[38;5;124m\"\u001b[39m\u001b[38;5;124m is \u001b[39m\u001b[38;5;124m\"\u001b[39m\u001b[38;5;124msymmetric\u001b[39m\u001b[38;5;124m\"\u001b[39m\u001b[38;5;124m, then \u001b[39m\u001b[38;5;124m'\u001b[39m\n\u001b[1;32m    550\u001b[0m                      \u001b[38;5;124mf\u001b[39m\u001b[38;5;124m'\u001b[39m\u001b[38;5;124mconnectivity data should be the \u001b[39m\u001b[38;5;124m'\u001b[39m\n\u001b[1;32m    551\u001b[0m                      \u001b[38;5;124mf\u001b[39m\u001b[38;5;124m'\u001b[39m\u001b[38;5;124mupper-triangular part of the matrix. There \u001b[39m\u001b[38;5;124m'\u001b[39m\n\u001b[1;32m    552\u001b[0m                      \u001b[38;5;124mf\u001b[39m\u001b[38;5;124m'\u001b[39m\u001b[38;5;124mare \u001b[39m\u001b[38;5;132;01m{\u001b[39;00mdata_len\u001b[38;5;132;01m}\u001b[39;00m\u001b[38;5;124m estimated connections. \u001b[39m\u001b[38;5;124m'\u001b[39m\n\u001b[1;32m    553\u001b[0m                      \u001b[38;5;124mf\u001b[39m\u001b[38;5;124m'\u001b[39m\u001b[38;5;124mBut there should be \u001b[39m\u001b[38;5;132;01m{\u001b[39;00mexpected_len\u001b[38;5;132;01m}\u001b[39;00m\u001b[38;5;124m \u001b[39m\u001b[38;5;124m'\u001b[39m\n\u001b[1;32m    554\u001b[0m                      \u001b[38;5;124mf\u001b[39m\u001b[38;5;124m'\u001b[39m\u001b[38;5;124mestimated connections.\u001b[39m\u001b[38;5;124m'\u001b[39m)\n",
      "\u001b[0;31mValueError\u001b[0m: If \"indices\" is \"symmetric\", then connectivity data should be the upper-triangular part of the matrix. There are 2 estimated connections. But there should be 2278 estimated connections."
     ]
    }
   ],
   "source": [
    "# Compute coherence\n",
    "fmin, fmax = get_fmin_and_fmax(CONDS)\n",
    "coh_df = pd.DataFrame()\n",
    "indices = get_coh_indices(N_CHANS)\n",
    "indices = check_indices(indices)\n",
    "\n",
    "# Compute coherence over each condition\n",
    "for cond in CONDS: \n",
    "    cond_epochs = combined_epochs[cond]\n",
    "    \n",
    "    # Index over n epochs at a time\n",
    "    n = 10\n",
    "    start_indexes = list(range(n, n_epochs, n))\n",
    "    start_indexes.insert(0, 0)\n",
    "    end_indexes = list(range(n, n_epochs, n))\n",
    "    n_epochs = cond_epochs.__len__()\n",
    "    end_indexes.append(n_epochs)\n",
    "    \n",
    "    for start, end in zip(start_indexes, end_indexes):\n",
    "        print(f'start: {start}, end: {end}')\n",
    "        \n",
    "        # Compute coherence over 100 epochs\n",
    "        cond_epochs_slice = cond_epochs[start:end]\n",
    "        coh = spectral_connectivity_time(\n",
    "            cond_epochs_slice,\n",
    "            freqs = FREQS,\n",
    "            indices = indices,\n",
    "            method = 'coh', \n",
    "            sfreq = FS, \n",
    "            n_jobs = 1)\n",
    "        break\n",
    "        \n",
    "    # save_file_name = 'subj-' + SUB + '_task-pitch_cond-' + cond + '_coh_by_epoch.pkl'\n",
    "    # save_dir = '/project2/hcn1/pitch_tracking/data/bids/derivatives/coherence'\n",
    "    # save_path = save_file_name + save_dir\n",
    "    # with open(save_path, 'wb') as file:\n",
    "    #     pickle.dump(std1, save_path)\n",
    "    #     print(f'Object successfully saved to \"{save_path}\"')\n",
    "    break\n",
    "\n"
   ]
  },
  {
   "cell_type": "code",
   "execution_count": 15,
   "id": "d0481e64",
   "metadata": {},
   "outputs": [
    {
     "data": {
      "text/plain": [
       "<EpochSpectroTemporalConnectivity | n_epochs : 10, freq : [50.000000, 250.000000], time : [0.000000, 0.250000], , nave : None, nodes, n_estimated : 67, 2278, ~1.06 GB>"
      ]
     },
     "execution_count": 15,
     "metadata": {},
     "output_type": "execute_result"
    }
   ],
   "source": [
    "coh"
   ]
  },
  {
   "cell_type": "code",
   "execution_count": 24,
   "id": "3ae086dc",
   "metadata": {},
   "outputs": [],
   "source": [
    "indices = check_indices(indices)"
   ]
  },
  {
   "cell_type": "code",
   "execution_count": 15,
   "id": "8b1b3c83",
   "metadata": {},
   "outputs": [
    {
     "data": {
      "text/plain": [
       "[100, 200, 300, 400, 500, 600, 700, 800, 900, 956]"
      ]
     },
     "execution_count": 15,
     "metadata": {},
     "output_type": "execute_result"
    }
   ],
   "source": [
    "n_epochs_list"
   ]
  }
 ],
 "metadata": {
  "kernelspec": {
   "display_name": "Python 3 (ipykernel)",
   "language": "python",
   "name": "python3"
  },
  "language_info": {
   "codemirror_mode": {
    "name": "ipython",
    "version": 3
   },
   "file_extension": ".py",
   "mimetype": "text/x-python",
   "name": "python",
   "nbconvert_exporter": "python",
   "pygments_lexer": "ipython3",
   "version": "3.10.4"
  }
 },
 "nbformat": 4,
 "nbformat_minor": 5
}
