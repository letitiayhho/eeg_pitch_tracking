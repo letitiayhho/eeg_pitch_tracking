{
 "cells": [
  {
   "cell_type": "code",
   "execution_count": 140,
   "id": "1ebddfe1",
   "metadata": {},
   "outputs": [],
   "source": [
    "from mne_bids import BIDSPath, write_raw_bids, get_anonymization_daysback\n",
    "import random\n",
    "import numpy as np\n",
    "import itertools\n",
    "import mne\n",
    "import os\n",
    "import sys\n",
    "import re\n",
    "import glob\n",
    "import pandas as pd\n",
    "import seaborn as sns\n",
    "from bids import BIDSLayout\n",
    "from util.io.iter_raw_paths import iter_raw_paths\n",
    "from statsmodels.stats.anova import AnovaRM\n",
    "import statsmodels.api as sm\n",
    "import statsmodels.formula.api as smf"
   ]
  },
  {
   "cell_type": "markdown",
   "id": "c33674aa",
   "metadata": {},
   "source": [
    "## N1 scores"
   ]
  },
  {
   "cell_type": "code",
   "execution_count": 110,
   "id": "4984d538",
   "metadata": {},
   "outputs": [],
   "source": [
    "files = glob.glob('../data/sleep/*')\n",
    "dfs = []\n",
    "for file in files:\n",
    "    filt = re.compile('(([0-9]|[1-9][0-9]){1,2})')\n",
    "    sub = re.search(filt, file).group(0)\n",
    "\n",
    "    df = pd.read_csv(file, header = None)\n",
    "    N1 = float(df[1][df[0] == 'N1'])\n",
    "    \n",
    "    df = pd.DataFrame({\n",
    "        'sub': [sub],\n",
    "        'N1': [N1],\n",
    "    })\n",
    "    dfs.append(df)\n",
    "N1 = pd.concat(dfs)\n",
    "N1['sub'] = N1['sub'].astype(int) # convert sub to an int"
   ]
  },
  {
   "cell_type": "code",
   "execution_count": 111,
   "id": "15611ca4",
   "metadata": {},
   "outputs": [
    {
     "name": "stdout",
     "output_type": "stream",
     "text": [
      "31\n",
      "17\n"
     ]
    }
   ],
   "source": [
    "# Counts\n",
    "print(sum(N1.N1 == 0))\n",
    "print(sum(N1.N1 > 0))"
   ]
  },
  {
   "cell_type": "markdown",
   "id": "b4722f43",
   "metadata": {},
   "source": [
    "## FFR Power"
   ]
  },
  {
   "cell_type": "code",
   "execution_count": 112,
   "id": "458167bd",
   "metadata": {},
   "outputs": [],
   "source": [
    "power = pd.read_csv('all_stims_power.csv')"
   ]
  },
  {
   "cell_type": "code",
   "execution_count": 113,
   "id": "bd9bd2d2",
   "metadata": {},
   "outputs": [],
   "source": [
    "stim_freqs = (50, 100, 150, 200, 250)\n",
    "all_stims_power = []\n",
    "for stim_freq in stim_freqs:\n",
    "    idx = np.abs(power.frequency - stim_freq).argmin()\n",
    "    hz = power.frequency[idx]\n",
    "    stim_power = power[power.frequency == hz]\n",
    "    stim_power = stim_power[stim_power.stimulus == stim_freq]\n",
    "    stim_power = stim_power.reset_index(drop = True)\n",
    "    \n",
    "    all_stims_power.append(stim_power)\n",
    "all_stims_power = pd.concat(all_stims_power, ignore_index = False)"
   ]
  },
  {
   "cell_type": "code",
   "execution_count": 114,
   "id": "63fc3d03",
   "metadata": {},
   "outputs": [
    {
     "data": {
      "text/html": [
       "<div>\n",
       "<style scoped>\n",
       "    .dataframe tbody tr th:only-of-type {\n",
       "        vertical-align: middle;\n",
       "    }\n",
       "\n",
       "    .dataframe tbody tr th {\n",
       "        vertical-align: top;\n",
       "    }\n",
       "\n",
       "    .dataframe thead th {\n",
       "        text-align: right;\n",
       "    }\n",
       "</style>\n",
       "<table border=\"1\" class=\"dataframe\">\n",
       "  <thead>\n",
       "    <tr style=\"text-align: right;\">\n",
       "      <th></th>\n",
       "      <th>subject</th>\n",
       "      <th>stimulus</th>\n",
       "      <th>index</th>\n",
       "      <th>frequency</th>\n",
       "      <th>power</th>\n",
       "    </tr>\n",
       "  </thead>\n",
       "  <tbody>\n",
       "    <tr>\n",
       "      <th>20</th>\n",
       "      <td>3</td>\n",
       "      <td>50</td>\n",
       "      <td>10.0</td>\n",
       "      <td>49.792531</td>\n",
       "      <td>10.078037</td>\n",
       "    </tr>\n",
       "    <tr>\n",
       "      <th>20</th>\n",
       "      <td>3</td>\n",
       "      <td>100</td>\n",
       "      <td>20.0</td>\n",
       "      <td>99.585062</td>\n",
       "      <td>0.106273</td>\n",
       "    </tr>\n",
       "    <tr>\n",
       "      <th>20</th>\n",
       "      <td>3</td>\n",
       "      <td>150</td>\n",
       "      <td>30.0</td>\n",
       "      <td>149.377593</td>\n",
       "      <td>15.763307</td>\n",
       "    </tr>\n",
       "    <tr>\n",
       "      <th>20</th>\n",
       "      <td>3</td>\n",
       "      <td>200</td>\n",
       "      <td>40.0</td>\n",
       "      <td>199.170124</td>\n",
       "      <td>15.484513</td>\n",
       "    </tr>\n",
       "    <tr>\n",
       "      <th>20</th>\n",
       "      <td>3</td>\n",
       "      <td>250</td>\n",
       "      <td>50.0</td>\n",
       "      <td>248.962656</td>\n",
       "      <td>17.465075</td>\n",
       "    </tr>\n",
       "    <tr>\n",
       "      <th>...</th>\n",
       "      <td>...</td>\n",
       "      <td>...</td>\n",
       "      <td>...</td>\n",
       "      <td>...</td>\n",
       "      <td>...</td>\n",
       "    </tr>\n",
       "    <tr>\n",
       "      <th>34</th>\n",
       "      <td>44</td>\n",
       "      <td>50</td>\n",
       "      <td>10.0</td>\n",
       "      <td>49.792531</td>\n",
       "      <td>14.048093</td>\n",
       "    </tr>\n",
       "    <tr>\n",
       "      <th>34</th>\n",
       "      <td>44</td>\n",
       "      <td>100</td>\n",
       "      <td>20.0</td>\n",
       "      <td>99.585062</td>\n",
       "      <td>12.020207</td>\n",
       "    </tr>\n",
       "    <tr>\n",
       "      <th>34</th>\n",
       "      <td>44</td>\n",
       "      <td>150</td>\n",
       "      <td>30.0</td>\n",
       "      <td>149.377593</td>\n",
       "      <td>14.033119</td>\n",
       "    </tr>\n",
       "    <tr>\n",
       "      <th>34</th>\n",
       "      <td>44</td>\n",
       "      <td>200</td>\n",
       "      <td>40.0</td>\n",
       "      <td>199.170124</td>\n",
       "      <td>16.817670</td>\n",
       "    </tr>\n",
       "    <tr>\n",
       "      <th>34</th>\n",
       "      <td>44</td>\n",
       "      <td>250</td>\n",
       "      <td>50.0</td>\n",
       "      <td>248.962656</td>\n",
       "      <td>5.800191</td>\n",
       "    </tr>\n",
       "  </tbody>\n",
       "</table>\n",
       "<p>200 rows × 5 columns</p>\n",
       "</div>"
      ],
      "text/plain": [
       "    subject  stimulus  index   frequency      power\n",
       "20        3        50   10.0   49.792531  10.078037\n",
       "20        3       100   20.0   99.585062   0.106273\n",
       "20        3       150   30.0  149.377593  15.763307\n",
       "20        3       200   40.0  199.170124  15.484513\n",
       "20        3       250   50.0  248.962656  17.465075\n",
       "..      ...       ...    ...         ...        ...\n",
       "34       44        50   10.0   49.792531  14.048093\n",
       "34       44       100   20.0   99.585062  12.020207\n",
       "34       44       150   30.0  149.377593  14.033119\n",
       "34       44       200   40.0  199.170124  16.817670\n",
       "34       44       250   50.0  248.962656   5.800191\n",
       "\n",
       "[200 rows x 5 columns]"
      ]
     },
     "execution_count": 114,
     "metadata": {},
     "output_type": "execute_result"
    }
   ],
   "source": [
    "all_stims_power = all_stims_power.sort_values(['subject', 'stimulus'])\n",
    "all_stims_power"
   ]
  },
  {
   "cell_type": "markdown",
   "id": "b859461f",
   "metadata": {},
   "source": [
    "#### Add N1 scores to dataframe"
   ]
  },
  {
   "cell_type": "code",
   "execution_count": 115,
   "id": "49f53252",
   "metadata": {},
   "outputs": [],
   "source": [
    "# Remove subs not in both data frames\n",
    "sleep_subs = np.unique(N1['sub'])\n",
    "all_stims_power = all_stims_power[all_stims_power.subject.isin(sleep_subs)] \n",
    "spec_subs = np.unique(all_stims_power.subject)\n",
    "N1 = N1[N1['sub'].isin(spec_subs)]"
   ]
  },
  {
   "cell_type": "code",
   "execution_count": 116,
   "id": "1df52ada",
   "metadata": {},
   "outputs": [
    {
     "name": "stdout",
     "output_type": "stream",
     "text": [
      "    sub         N1\n",
      "0     8   0.000000\n",
      "1     9   0.000000\n",
      "2    15  11.500000\n",
      "3    10   0.000000\n",
      "4    14   0.000000\n",
      "5    16   1.500000\n",
      "6    26   2.500000\n",
      "7    29   0.000000\n",
      "8    36   0.000000\n",
      "9    13   0.000000\n",
      "10   39   0.000000\n",
      "11   17   0.000000\n",
      "12   37   0.000000\n",
      "13   31   0.500000\n",
      "14   23   1.000000\n",
      "15   43   9.000000\n",
      "16   28   9.000000\n",
      "17   40   0.000000\n",
      "18   20   3.500000\n",
      "19   42   0.000000\n",
      "20   30   0.000000\n",
      "21   22   0.000000\n",
      "22   11   3.000000\n",
      "23   34   0.000000\n",
      "24    6   0.000000\n",
      "25   33   0.000000\n",
      "26   18   0.000000\n",
      "27   12  10.500000\n",
      "28   35   0.000000\n",
      "29    7   0.000000\n",
      "30   19   0.000000\n",
      "31   27   0.000000\n",
      "32   44   0.000000\n",
      "33   32   0.000000\n",
      "34   21   0.000000\n",
      "35    5   0.000000\n",
      "36   25   7.500000\n",
      "37   24   4.000000\n",
      "38   38   0.000000\n",
      "39    3   7.483333\n"
     ]
    },
    {
     "name": "stderr",
     "output_type": "stream",
     "text": [
      "/tmp/ipykernel_23909/2743109887.py:8: FutureWarning: The frame.append method is deprecated and will be removed from pandas in a future version. Use pandas.concat instead.\n",
      "  N1 = N1.append(d, ignore_index = True)\n",
      "/tmp/ipykernel_23909/2743109887.py:8: FutureWarning: The frame.append method is deprecated and will be removed from pandas in a future version. Use pandas.concat instead.\n",
      "  N1 = N1.append(d, ignore_index = True)\n",
      "/tmp/ipykernel_23909/2743109887.py:8: FutureWarning: The frame.append method is deprecated and will be removed from pandas in a future version. Use pandas.concat instead.\n",
      "  N1 = N1.append(d, ignore_index = True)\n"
     ]
    }
   ],
   "source": [
    "# Sum N1 scores for subs with two files\n",
    "duplicated_subs = N1['sub'][N1['sub'].duplicated()]\n",
    "for sub in duplicated_subs:\n",
    "    temp = N1[N1['sub'] == sub]\n",
    "    summed_N1 = sum(temp.N1)\n",
    "    N1 = N1[N1['sub'] != sub]\n",
    "    d = {'sub': sub, 'N1': summed_N1}\n",
    "    N1 = N1.append(d, ignore_index = True)\n",
    "N1['sub'] = N1['sub'].astype(int) # convert sub to an int"
   ]
  },
  {
   "cell_type": "code",
   "execution_count": 128,
   "id": "7a21ebcc",
   "metadata": {},
   "outputs": [],
   "source": [
    "# Add to dataframe\n",
    "all_stims_power['N1'] = list(N1.N1)*5\n",
    "all_stims_power['sleep'] = list(N1.N1>0) * 5"
   ]
  },
  {
   "cell_type": "markdown",
   "id": "e6c2ebf9",
   "metadata": {},
   "source": [
    "## Plot"
   ]
  },
  {
   "cell_type": "code",
   "execution_count": 130,
   "id": "30eab5b3",
   "metadata": {},
   "outputs": [
    {
     "data": {
      "text/plain": [
       "<AxesSubplot:xlabel='stimulus', ylabel='power'>"
      ]
     },
     "execution_count": 130,
     "metadata": {},
     "output_type": "execute_result"
    },
    {
     "data": {
      "image/png": "[encoded data removed]",
      "text/plain": [
       "<Figure size 432x288 with 1 Axes>"
      ]
     },
     "metadata": {
      "needs_background": "light"
     },
     "output_type": "display_data"
    }
   ],
   "source": [
    "sns.boxplot(data = all_stims_power, x = 'stimulus', y = 'power', hue = 'sleep')"
   ]
  },
  {
   "cell_type": "markdown",
   "id": "57175342",
   "metadata": {},
   "source": [
    "## Test"
   ]
  },
  {
   "cell_type": "code",
   "execution_count": 145,
   "id": "5c256799",
   "metadata": {},
   "outputs": [
    {
     "name": "stderr",
     "output_type": "stream",
     "text": [
      "/home/letitiayhho/.conda/envs/pitch-tracking/lib/python3.10/site-packages/statsmodels/base/model.py:604: ConvergenceWarning: Maximum Likelihood optimization failed to converge. Check mle_retvals\n",
      "  warnings.warn(\"Maximum Likelihood optimization failed to \"\n",
      "/home/letitiayhho/.conda/envs/pitch-tracking/lib/python3.10/site-packages/statsmodels/regression/mixed_linear_model.py:2200: ConvergenceWarning: Retrying MixedLM optimization with lbfgs\n",
      "  warnings.warn(\n"
     ]
    },
    {
     "name": "stdout",
     "output_type": "stream",
     "text": [
      "            Mixed Linear Model Regression Results\n",
      "=============================================================\n",
      "Model:              MixedLM   Dependent Variable:   power    \n",
      "No. Observations:   200       Method:               REML     \n",
      "No. Groups:         2         Scale:                30.5948  \n",
      "Min. group size:    65        Log-Likelihood:       -619.4462\n",
      "Max. group size:    135       Converged:            Yes      \n",
      "Mean group size:    100.0                                    \n",
      "-------------------------------------------------------------\n",
      "                   Coef.  Std.Err.   z    P>|z| [0.025 0.975]\n",
      "-------------------------------------------------------------\n",
      "Intercept           9.493    0.872 10.891 0.000  7.785 11.202\n",
      "C(stimulus)[T.100] -3.002    1.236 -2.428 0.015 -5.425 -0.578\n",
      "C(stimulus)[T.150] -0.775    1.235 -0.628 0.530 -3.195  1.645\n",
      "C(stimulus)[T.200]  1.726    1.237  1.395 0.163 -0.698  4.150\n",
      "C(stimulus)[T.250]  3.708    1.237  2.998 0.003  1.283  6.132\n",
      "Group Var           0.000                                    \n",
      "=============================================================\n",
      "\n"
     ]
    },
    {
     "name": "stderr",
     "output_type": "stream",
     "text": [
      "/home/letitiayhho/.conda/envs/pitch-tracking/lib/python3.10/site-packages/statsmodels/regression/mixed_linear_model.py:2237: ConvergenceWarning: The MLE may be on the boundary of the parameter space.\n",
      "  warnings.warn(msg, ConvergenceWarning)\n",
      "/home/letitiayhho/.conda/envs/pitch-tracking/lib/python3.10/site-packages/statsmodels/regression/mixed_linear_model.py:2261: ConvergenceWarning: The Hessian matrix at the estimated parameter values is not positive definite.\n",
      "  warnings.warn(msg, ConvergenceWarning)\n"
     ]
    }
   ],
   "source": [
    "# Mixed effects model\n",
    "md = smf.mixedlm(\"power ~ C(stimulus)\", groups=all_stims_power[\"sleep\"], data = all_stims_power)\n",
    "mdf = md.fit()\n",
    "print(mdf.summary())"
   ]
  },
  {
   "cell_type": "code",
   "execution_count": 146,
   "id": "f6a38bc7",
   "metadata": {},
   "outputs": [
    {
     "name": "stdout",
     "output_type": "stream",
     "text": [
      "            Mixed Linear Model Regression Results\n",
      "=============================================================\n",
      "Model:              MixedLM   Dependent Variable:   power    \n",
      "No. Observations:   200       Method:               REML     \n",
      "No. Groups:         40        Scale:                14.2574  \n",
      "Min. group size:    5         Log-Likelihood:       -581.3192\n",
      "Max. group size:    5         Converged:            Yes      \n",
      "Mean group size:    5.0                                      \n",
      "-------------------------------------------------------------\n",
      "                   Coef.  Std.Err.   z    P>|z| [0.025 0.975]\n",
      "-------------------------------------------------------------\n",
      "Intercept           9.447    0.890 10.608 0.000  7.701 11.192\n",
      "C(stimulus)[T.100] -3.025    0.848 -3.567 0.000 -4.687 -1.363\n",
      "C(stimulus)[T.150] -0.822    0.859 -0.957 0.339 -2.506  0.862\n",
      "C(stimulus)[T.200]  1.726    0.844  2.044 0.041  0.071  3.381\n",
      "C(stimulus)[T.250]  3.708    0.844  4.391 0.000  2.053  5.362\n",
      "C(sleep)[T.True]    0.187    0.637  0.293 0.770 -1.062  1.435\n",
      "Group Var          16.446    1.295                           \n",
      "=============================================================\n",
      "\n"
     ]
    }
   ],
   "source": [
    "# Mixed effects model, sleep as categorical\n",
    "md = smf.mixedlm(\"power ~ C(stimulus) + C(sleep)\", groups=all_stims_power[\"subject\"], data = all_stims_power)\n",
    "mdf = md.fit()\n",
    "print(mdf.summary())"
   ]
  },
  {
   "cell_type": "code",
   "execution_count": 148,
   "id": "aa43ae45",
   "metadata": {},
   "outputs": [
    {
     "name": "stdout",
     "output_type": "stream",
     "text": [
      "            Mixed Linear Model Regression Results\n",
      "=============================================================\n",
      "Model:              MixedLM   Dependent Variable:   power    \n",
      "No. Observations:   200       Method:               REML     \n",
      "No. Groups:         40        Scale:                14.2558  \n",
      "Min. group size:    5         Log-Likelihood:       -583.1765\n",
      "Max. group size:    5         Converged:            Yes      \n",
      "Mean group size:    5.0                                      \n",
      "-------------------------------------------------------------\n",
      "                   Coef.  Std.Err.   z    P>|z| [0.025 0.975]\n",
      "-------------------------------------------------------------\n",
      "Intercept           9.443    0.885 10.674 0.000  7.709 11.177\n",
      "C(stimulus)[T.100] -3.042    0.850 -3.577 0.000 -4.709 -1.375\n",
      "C(stimulus)[T.150] -0.863    0.873 -0.989 0.323 -2.574  0.848\n",
      "C(stimulus)[T.200]  1.757    0.848  2.072 0.038  0.095  3.419\n",
      "C(stimulus)[T.250]  3.717    0.845  4.401 0.000  2.062  5.373\n",
      "N1                  0.038    0.096  0.396 0.692 -0.150  0.226\n",
      "Group Var          16.420    1.293                           \n",
      "=============================================================\n",
      "\n"
     ]
    }
   ],
   "source": [
    "# Mixed effects model, N1 as continuous\n",
    "md = smf.mixedlm(\"power ~ C(stimulus) + N1\", groups=all_stims_power[\"subject\"], data = all_stims_power)\n",
    "mdf = md.fit()\n",
    "print(mdf.summary())"
   ]
  }
 ],
 "metadata": {
  "kernelspec": {
   "display_name": "Python 3 (ipykernel)",
   "language": "python",
   "name": "python3"
  },
  "language_info": {
   "codemirror_mode": {
    "name": "ipython",
    "version": 3
   },
   "file_extension": ".py",
   "mimetype": "text/x-python",
   "name": "python",
   "nbconvert_exporter": "python",
   "pygments_lexer": "ipython3",
   "version": "3.10.4"
  }
 },
 "nbformat": 4,
 "nbformat_minor": 5
}
