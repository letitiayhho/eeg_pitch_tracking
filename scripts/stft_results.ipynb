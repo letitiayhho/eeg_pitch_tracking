{
 "cells": [
  {
   "cell_type": "code",
   "execution_count": 2,
   "id": "87e8bd17",
   "metadata": {},
   "outputs": [],
   "source": [
    "import glob\n",
    "import os\n",
    "import re\n",
    "import mne\n",
    "import sys\n",
    "import itertools\n",
    "import pandas as pd\n",
    "import numpy as np\n",
    "import matplotlib.pyplot as plt\n",
    "from mne_bids import BIDSPath, read_raw_bids"
   ]
  },
  {
   "cell_type": "code",
   "execution_count": 18,
   "id": "2c78a3a4",
   "metadata": {},
   "outputs": [
    {
     "name": "stdout",
     "output_type": "stream",
     "text": [
      "../data/bids/derivatives/decoding/sub-7/sub-7_task-pitch_run-1_desc-stft_power.npy\n",
      "../data/bids/derivatives/decoding/sub-23/sub-23_task-pitch_run-1_desc-stft_power.npy\n",
      "Number of trials don't match, events file has 3700 events, stft_power file has 3702 trials\n",
      "../data/bids/derivatives/decoding/sub-28/sub-28_task-pitch_run-1_desc-stft_power.npy\n",
      "../data/bids/derivatives/decoding/sub-34/sub-34_task-pitch_run-1_desc-stft_power.npy\n",
      "../data/bids/derivatives/decoding/sub-39/sub-39_task-pitch_run-1_desc-stft_power.npy\n",
      "../data/bids/derivatives/decoding/sub-40/sub-40_task-pitch_run-1_desc-stft_power.npy\n",
      "../data/bids/derivatives/decoding/sub-27/sub-27_task-pitch_run-1_desc-stft_power.npy\n",
      "../data/bids/derivatives/decoding/sub-8/sub-8_task-pitch_run-1_desc-stft_power.npy\n",
      "../data/bids/derivatives/decoding/sub-33/sub-33_task-pitch_run-1_desc-stft_power.npy\n",
      "../data/bids/derivatives/decoding/sub-38/sub-38_task-pitch_run-1_desc-stft_power.npy\n",
      "../data/bids/derivatives/decoding/sub-38/sub-38_task-pitch_run-2_desc-stft_power.npy\n",
      "../data/bids/derivatives/decoding/sub-13/sub-13_task-pitch_run-1_desc-stft_power.npy\n",
      "../data/bids/derivatives/decoding/sub-44/sub-44_task-pitch_run-1_desc-stft_power.npy\n",
      "../data/bids/derivatives/decoding/sub-32/sub-32_task-pitch_run-1_desc-stft_power.npy\n",
      "../data/bids/derivatives/decoding/sub-37/sub-37_task-pitch_run-1_desc-stft_power.npy\n",
      "../data/bids/derivatives/decoding/sub-12/sub-12_task-pitch_run-1_desc-stft_power.npy\n",
      "../data/bids/derivatives/decoding/sub-17/sub-17_task-pitch_run-1_desc-stft_power.npy\n",
      "../data/bids/derivatives/decoding/sub-9/sub-9_task-pitch_run-1_desc-stft_power.npy\n",
      "../data/bids/derivatives/decoding/sub-43/sub-43_task-pitch_run-1_desc-stft_power.npy\n",
      "../data/bids/derivatives/decoding/sub-36/sub-36_task-pitch_run-1_desc-stft_power.npy\n",
      "../data/bids/derivatives/decoding/sub-11/sub-11_task-pitch_run-1_desc-stft_power.npy\n",
      "../data/bids/derivatives/decoding/sub-16/sub-16_task-pitch_run-1_desc-stft_power.npy\n",
      "../data/bids/derivatives/decoding/sub-42/sub-42_task-pitch_run-1_desc-stft_power.npy\n",
      "../data/bids/derivatives/decoding/sub-22/sub-22_task-pitch_run-1_desc-stft_power.npy\n",
      "../data/bids/derivatives/decoding/sub-10/sub-10_task-pitch_run-1_desc-stft_power.npy\n",
      "../data/bids/derivatives/decoding/sub-15/sub-15_task-pitch_run-1_desc-stft_power.npy\n",
      "../data/bids/derivatives/decoding/sub-21/sub-21_task-pitch_run-1_desc-stft_power.npy\n",
      "../data/bids/derivatives/decoding/sub-26/sub-26_task-pitch_run-1_desc-stft_power.npy\n",
      "../data/bids/derivatives/decoding/sub-5/sub-5_task-pitch_run-1_desc-stft_power.npy\n",
      "../data/bids/derivatives/decoding/sub-3/sub-3_task-pitch_run-1_desc-stft_power.npy\n",
      "../data/bids/derivatives/decoding/sub-3/sub-3_task-pitch_run-2_desc-stft_power.npy\n",
      "../data/bids/derivatives/decoding/sub-14/sub-14_task-pitch_run-1_desc-stft_power.npy\n",
      "../data/bids/derivatives/decoding/sub-19/sub-19_task-pitch_run-1_desc-stft_power.npy\n",
      "../data/bids/derivatives/decoding/sub-20/sub-20_task-pitch_run-1_desc-stft_power.npy\n",
      "../data/bids/derivatives/decoding/sub-25/sub-25_task-pitch_run-1_desc-stft_power.npy\n",
      "../data/bids/derivatives/decoding/sub-31/sub-31_task-pitch_run-1_desc-stft_power.npy\n",
      "../data/bids/derivatives/decoding/sub-6/sub-6_task-pitch_run-1_desc-stft_power.npy\n",
      "../data/bids/derivatives/decoding/sub-18/sub-18_task-pitch_run-1_desc-stft_power.npy\n",
      "../data/bids/derivatives/decoding/sub-4/sub-4_task-pitch_run-2_desc-stft_power.npy\n",
      "../data/bids/derivatives/decoding/sub-4/sub-4_task-pitch_run-1_desc-stft_power.npy\n",
      "../data/bids/derivatives/decoding/sub-24/sub-24_task-pitch_run-1_desc-stft_power.npy\n",
      "../data/bids/derivatives/decoding/sub-24/sub-24_task-pitch_run-2_desc-stft_power.npy\n",
      "../data/bids/derivatives/decoding/sub-29/sub-29_task-pitch_run-1_desc-stft_power.npy\n",
      "Number of trials don't match, events file has 2388 events, stft_power file has 4775 trials\n",
      "../data/bids/derivatives/decoding/sub-30/sub-30_task-pitch_run-1_desc-stft_power.npy\n",
      "../data/bids/derivatives/decoding/sub-35/sub-35_task-pitch_run-1_desc-stft_power.npy\n"
     ]
    }
   ],
   "source": [
    "# Read stft_power files and append all to data frame\n",
    "first_sub = True\n",
    "power = np.empty([])\n",
    "events = np.empty([])\n",
    "\n",
    "for fpath in glob.glob(\"../data/bids/derivatives/decoding/*/*stft_power*\"):\n",
    "    print(fpath)\n",
    "\n",
    "    # Average over all channels\n",
    "    sub_power = np.load(fpath)\n",
    "    sub_power = np.mean(sub_power, axis = 1) \n",
    "       \n",
    "    # Get event codes\n",
    "    m = re.search('sub-(\\d{1,2})_', fpath)\n",
    "    sub = m.group(1)\n",
    "    m = re.search('run-(\\d)', fpath)\n",
    "    run = m.group(1)\n",
    "    sub_events = np.load(f\"../data/bids/derivatives/preprocessing/sub-{sub}/sub-{sub}_run-{run}_events.npy\")\n",
    "    \n",
    "    if first_sub == True:\n",
    "        power = sub_power # n_epochs, n_freqs, n_windows\n",
    "        events = sub_events\n",
    "        first_sub = False\n",
    "    if len(sub_events) != np.shape(sub_power)[0]:\n",
    "        print(f\"Number of trials don't match, events file has {len(sub_events)} events, stft_power file has {np.shape(sub_power)[0]} trials\")\n",
    "        continue\n",
    "    else:\n",
    "        try: \n",
    "            power = np.append(power, sub_power, axis = 0)\n",
    "            events = np.append(events, sub_events, axis = 0)\n",
    "        except:\n",
    "            print(\"ValueError: stft coefficients have the wrong shape, skipping subject\")\n",
    "            continue"
   ]
  },
  {
   "cell_type": "code",
   "execution_count": 23,
   "id": "fb695fbf",
   "metadata": {},
   "outputs": [
    {
     "data": {
      "text/plain": [
       "(164936, 5, 19)"
      ]
     },
     "execution_count": 23,
     "metadata": {},
     "output_type": "execute_result"
    }
   ],
   "source": [
    "np.shape(power)"
   ]
  },
  {
   "cell_type": "code",
   "execution_count": 42,
   "id": "04770b42",
   "metadata": {},
   "outputs": [],
   "source": [
    "indexes = np.where(events == 250)\n",
    "power_250 = power[indexes,4,:]\n",
    "power_250 = np.squeeze(power_250)\n",
    "power_250 = np.mean(power_250, axis = 0)"
   ]
  },
  {
   "cell_type": "code",
   "execution_count": 44,
   "id": "86947870",
   "metadata": {},
   "outputs": [
    {
     "data": {
      "text/plain": [
       "[<matplotlib.lines.Line2D at 0x7fa991472aa0>]"
      ]
     },
     "execution_count": 44,
     "metadata": {},
     "output_type": "execute_result"
    },
    {
     "data": {
      "image/png": "[encoded data removed]",
      "text/plain": [
       "<Figure size 432x288 with 1 Axes>"
      ]
     },
     "metadata": {
      "needs_background": "light"
     },
     "output_type": "display_data"
    }
   ],
   "source": [
    "np.shape(power_250)\n",
    "x = list(range(len(power_250)))\n",
    "plt.plot(x, power_250)"
   ]
  },
  {
   "cell_type": "code",
   "execution_count": 45,
   "id": "db10c660",
   "metadata": {},
   "outputs": [
    {
     "data": {
      "text/plain": [
       "[<matplotlib.lines.Line2D at 0x7fa9893bd1e0>]"
      ]
     },
     "execution_count": 45,
     "metadata": {},
     "output_type": "execute_result"
    },
    {
     "data": {
      "image/png": "[encoded data removed]",
      "text/plain": [
       "<Figure size 432x288 with 1 Axes>"
      ]
     },
     "metadata": {
      "needs_background": "light"
     },
     "output_type": "display_data"
    }
   ],
   "source": [
    "indexes = np.where(events == 50)\n",
    "power_50 = power[indexes,0,:]\n",
    "power_50 = np.squeeze(power_50)\n",
    "power_50 = np.mean(power_50, axis = 0)\n",
    "np.shape(power_50)\n",
    "x = list(range(len(power_50)))\n",
    "plt.plot(x, power_50)"
   ]
  },
  {
   "cell_type": "code",
   "execution_count": null,
   "id": "679530cc",
   "metadata": {},
   "outputs": [],
   "source": []
  },
  {
   "cell_type": "code",
   "execution_count": 15,
   "id": "02f02011",
   "metadata": {},
   "outputs": [
    {
     "name": "stdout",
     "output_type": "stream",
     "text": [
      "Reading power values from: ../data/bids/derivatives/decoding/sub-7/sub-7_task-pitch_run-1_desc-stft_power.npy\n",
      "Reading events from: ../data/bids/derivatives/preprocessing//sub-7/sub-7_run-1_events.npy\n",
      "3841\n",
      "Reading power values from: ../data/bids/derivatives/decoding/sub-28/sub-28_task-pitch_run-1_desc-stft_power.npy\n",
      "Reading events from: ../data/bids/derivatives/preprocessing//sub-28/sub-28_run-1_events.npy\n",
      "2384\n",
      "[200  50 250 ... 100 150 100]\n",
      "ValueError: mismatching number of trials, 4768 and 2384\n",
      "Reading power values from: ../data/bids/derivatives/decoding/sub-34/sub-34_task-pitch_run-1_desc-stft_power.npy\n",
      "Reading events from: ../data/bids/derivatives/preprocessing//sub-34/sub-34_run-1_events.npy\n",
      "1921\n",
      "Reading power values from: ../data/bids/derivatives/decoding/sub-39/sub-39_task-pitch_run-1_desc-stft_power.npy\n",
      "Reading events from: ../data/bids/derivatives/preprocessing//sub-39/sub-39_run-1_events.npy\n",
      "2221\n",
      "[250 250 200 ... 100  50 100]\n",
      "ValueError: mismatching number of trials, 4441 and 2221\n",
      "Reading power values from: ../data/bids/derivatives/decoding/sub-40/sub-40_task-pitch_run-1_desc-stft_power.npy\n",
      "Reading events from: ../data/bids/derivatives/preprocessing//sub-40/sub-40_run-1_events.npy\n",
      "3841\n",
      "Reading power values from: ../data/bids/derivatives/decoding/sub-27/sub-27_task-pitch_run-1_desc-stft_power.npy\n",
      "Reading events from: ../data/bids/derivatives/preprocessing//sub-27/sub-27_run-1_events.npy\n",
      "2362\n",
      "[150 200 150 ... 200 150 200]\n",
      "ValueError: mismatching number of trials, 4723 and 2362\n",
      "Reading power values from: ../data/bids/derivatives/decoding/sub-8/sub-8_task-pitch_run-1_desc-stft_power.npy\n",
      "Reading events from: ../data/bids/derivatives/preprocessing//sub-8/sub-8_run-1_events.npy\n",
      "3841\n",
      "Reading power values from: ../data/bids/derivatives/decoding/sub-33/sub-33_task-pitch_run-1_desc-stft_power.npy\n",
      "Reading events from: ../data/bids/derivatives/preprocessing//sub-33/sub-33_run-1_events.npy\n",
      "2391\n",
      "[100  50 200 ... 100 250 250]\n",
      "ValueError: mismatching number of trials, 4782 and 2391\n",
      "Reading power values from: ../data/bids/derivatives/decoding/sub-38/sub-38_task-pitch_run-1_desc-stft_power.npy\n",
      "Reading events from: ../data/bids/derivatives/preprocessing//sub-38/sub-38_run-1_events.npy\n",
      "2881\n",
      "Reading power values from: ../data/bids/derivatives/decoding/sub-38/sub-38_task-pitch_run-2_desc-stft_power.npy\n",
      "Reading events from: ../data/bids/derivatives/preprocessing//sub-38/sub-38_run-2_events.npy\n",
      "558\n",
      "Reading power values from: ../data/bids/derivatives/decoding/sub-13/sub-13_task-pitch_run-1_desc-stft_power.npy\n",
      "Reading events from: ../data/bids/derivatives/preprocessing//sub-13/sub-13_run-1_events.npy\n",
      "3463\n",
      "Reading power values from: ../data/bids/derivatives/decoding/sub-44/sub-44_task-pitch_run-1_desc-stft_power.npy\n",
      "Reading events from: ../data/bids/derivatives/preprocessing//sub-44/sub-44_run-1_events.npy\n",
      "2150\n",
      "[150 250 100 ...  50 250 250]\n",
      "ValueError: mismatching number of trials, 4299 and 2150\n",
      "Reading power values from: ../data/bids/derivatives/decoding/sub-32/sub-32_task-pitch_run-1_desc-stft_power.npy\n",
      "Reading events from: ../data/bids/derivatives/preprocessing//sub-32/sub-32_run-1_events.npy\n",
      "2386\n",
      "[250 100 100 ... 150 150 100]\n",
      "ValueError: mismatching number of trials, 4771 and 2386\n",
      "Reading power values from: ../data/bids/derivatives/decoding/sub-37/sub-37_task-pitch_run-1_desc-stft_power.npy\n",
      "Reading events from: ../data/bids/derivatives/preprocessing//sub-37/sub-37_run-1_events.npy\n",
      "3841\n",
      "Reading power values from: ../data/bids/derivatives/decoding/sub-12/sub-12_task-pitch_run-1_desc-stft_power.npy\n",
      "Reading events from: ../data/bids/derivatives/preprocessing//sub-12/sub-12_run-1_events.npy\n",
      "2293\n",
      "[100 150 250 ... 100 250 250]\n",
      "ValueError: mismatching number of trials, 4585 and 2293\n",
      "Reading power values from: ../data/bids/derivatives/decoding/sub-17/sub-17_task-pitch_run-1_desc-stft_power.npy\n",
      "Reading events from: ../data/bids/derivatives/preprocessing//sub-17/sub-17_run-1_events.npy\n",
      "3841\n",
      "Reading power values from: ../data/bids/derivatives/decoding/sub-9/sub-9_task-pitch_run-1_desc-stft_power.npy\n",
      "Reading events from: ../data/bids/derivatives/preprocessing//sub-9/sub-9_run-1_events.npy\n",
      "1922\n",
      "Reading power values from: ../data/bids/derivatives/decoding/sub-43/sub-43_task-pitch_run-1_desc-stft_power.npy\n",
      "Reading events from: ../data/bids/derivatives/preprocessing//sub-43/sub-43_run-1_events.npy\n",
      "2398\n",
      "[250 150 250 ... 200 250 100]\n",
      "ValueError: mismatching number of trials, 4795 and 2398\n",
      "Reading power values from: ../data/bids/derivatives/decoding/sub-36/sub-36_task-pitch_run-1_desc-stft_power.npy\n",
      "Reading events from: ../data/bids/derivatives/preprocessing//sub-36/sub-36_run-1_events.npy\n",
      "2400\n",
      "[250 100 100 ...  50  50  50]\n",
      "ValueError: mismatching number of trials, 4800 and 2400\n",
      "Reading power values from: ../data/bids/derivatives/decoding/sub-11/sub-11_task-pitch_run-1_desc-stft_power.npy\n",
      "Reading events from: ../data/bids/derivatives/preprocessing//sub-11/sub-11_run-1_events.npy\n",
      "2394\n",
      "[200 150 100 ... 200 100 250]\n",
      "ValueError: mismatching number of trials, 4788 and 2394\n",
      "Reading power values from: ../data/bids/derivatives/decoding/sub-16/sub-16_task-pitch_run-1_desc-stft_power.npy\n",
      "Reading events from: ../data/bids/derivatives/preprocessing//sub-16/sub-16_run-1_events.npy\n",
      "3841\n",
      "Reading power values from: ../data/bids/derivatives/decoding/sub-42/sub-42_task-pitch_run-1_desc-stft_power.npy\n",
      "Reading events from: ../data/bids/derivatives/preprocessing//sub-42/sub-42_run-1_events.npy\n",
      "3696\n",
      "Reading power values from: ../data/bids/derivatives/decoding/sub-22/sub-22_task-pitch_run-1_desc-stft_power.npy\n",
      "Reading events from: ../data/bids/derivatives/preprocessing//sub-22/sub-22_run-1_events.npy\n",
      "3841\n",
      "Reading power values from: ../data/bids/derivatives/decoding/sub-10/sub-10_task-pitch_run-1_desc-stft_power.npy\n",
      "Reading events from: ../data/bids/derivatives/preprocessing//sub-10/sub-10_run-1_events.npy\n",
      "3841\n",
      "Reading power values from: ../data/bids/derivatives/decoding/sub-15/sub-15_task-pitch_run-1_desc-stft_power.npy\n",
      "Reading events from: ../data/bids/derivatives/preprocessing//sub-15/sub-15_run-1_events.npy\n",
      "3841\n",
      "Reading power values from: ../data/bids/derivatives/decoding/sub-21/sub-21_task-pitch_run-1_desc-stft_power.npy\n",
      "Reading events from: ../data/bids/derivatives/preprocessing//sub-21/sub-21_run-1_events.npy\n",
      "3841\n",
      "Reading power values from: ../data/bids/derivatives/decoding/sub-26/sub-26_task-pitch_run-1_desc-stft_power.npy\n",
      "Reading events from: ../data/bids/derivatives/preprocessing//sub-26/sub-26_run-1_events.npy\n",
      "3841\n",
      "Reading power values from: ../data/bids/derivatives/decoding/sub-5/sub-5_task-pitch_run-1_desc-stft_power.npy\n",
      "Reading events from: ../data/bids/derivatives/preprocessing//sub-5/sub-5_run-1_events.npy\n",
      "3841\n",
      "Reading power values from: ../data/bids/derivatives/decoding/sub-3/sub-3_task-pitch_run-1_desc-stft_power.npy\n",
      "Reading events from: ../data/bids/derivatives/preprocessing//sub-3/sub-3_run-1_events.npy\n",
      "2332\n",
      "Reading power values from: ../data/bids/derivatives/decoding/sub-3/sub-3_task-pitch_run-2_desc-stft_power.npy\n",
      "Reading events from: ../data/bids/derivatives/preprocessing//sub-3/sub-3_run-2_events.npy\n",
      "2329\n",
      "Reading power values from: ../data/bids/derivatives/decoding/sub-14/sub-14_task-pitch_run-1_desc-stft_power.npy\n",
      "Reading events from: ../data/bids/derivatives/preprocessing//sub-14/sub-14_run-1_events.npy\n",
      "2362\n",
      "[150  50 150 ... 100 100 200]\n",
      "ValueError: mismatching number of trials, 4724 and 2362\n",
      "Reading power values from: ../data/bids/derivatives/decoding/sub-19/sub-19_task-pitch_run-1_desc-stft_power.npy\n",
      "Reading events from: ../data/bids/derivatives/preprocessing//sub-19/sub-19_run-1_events.npy\n",
      "3841\n",
      "Reading power values from: ../data/bids/derivatives/decoding/sub-20/sub-20_task-pitch_run-1_desc-stft_power.npy\n",
      "Reading events from: ../data/bids/derivatives/preprocessing//sub-20/sub-20_run-1_events.npy\n",
      "3841\n",
      "Reading power values from: ../data/bids/derivatives/decoding/sub-31/sub-31_task-pitch_run-1_desc-stft_power.npy\n",
      "Reading events from: ../data/bids/derivatives/preprocessing//sub-31/sub-31_run-1_events.npy\n",
      "2401\n",
      "[ 50  50 150 ...  50 250  50]\n",
      "ValueError: mismatching number of trials, 4801 and 2401\n",
      "Reading power values from: ../data/bids/derivatives/decoding/sub-6/sub-6_task-pitch_run-1_desc-stft_power.npy\n"
     ]
    },
    {
     "name": "stdout",
     "output_type": "stream",
     "text": [
      "Reading events from: ../data/bids/derivatives/preprocessing//sub-6/sub-6_run-1_events.npy\n",
      "2388\n",
      "[100  50 100 ...  50 150 250]\n",
      "ValueError: mismatching number of trials, 4775 and 2388\n",
      "Reading power values from: ../data/bids/derivatives/decoding/sub-18/sub-18_task-pitch_run-1_desc-stft_power.npy\n",
      "Reading events from: ../data/bids/derivatives/preprocessing//sub-18/sub-18_run-1_events.npy\n",
      "2379\n",
      "[150 200 200 ... 150  50 100]\n",
      "ValueError: mismatching number of trials, 4757 and 2379\n",
      "Reading power values from: ../data/bids/derivatives/decoding/sub-4/sub-4_task-pitch_run-2_desc-stft_power.npy\n",
      "Reading events from: ../data/bids/derivatives/preprocessing//sub-4/sub-4_run-2_events.npy\n",
      "1921\n",
      "Reading power values from: ../data/bids/derivatives/decoding/sub-4/sub-4_task-pitch_run-1_desc-stft_power.npy\n",
      "Reading events from: ../data/bids/derivatives/preprocessing//sub-4/sub-4_run-1_events.npy\n",
      "2416\n",
      "Reading power values from: ../data/bids/derivatives/decoding/sub-29/sub-29_task-pitch_run-1_desc-stft_power.npy\n",
      "Reading events from: ../data/bids/derivatives/preprocessing//sub-29/sub-29_run-1_events.npy\n",
      "2388\n",
      "[150 150 200 ... 200 200 150]\n",
      "ValueError: mismatching number of trials, 4775 and 2388\n",
      "Reading power values from: ../data/bids/derivatives/decoding/sub-30/sub-30_task-pitch_run-1_desc-stft_power.npy\n",
      "Reading events from: ../data/bids/derivatives/preprocessing//sub-30/sub-30_run-1_events.npy\n",
      "2387\n",
      "[250 150  50 ... 100 100 150]\n",
      "ValueError: mismatching number of trials, 4774 and 2387\n",
      "Reading power values from: ../data/bids/derivatives/decoding/sub-35/sub-35_task-pitch_run-1_desc-stft_power.npy\n",
      "Reading events from: ../data/bids/derivatives/preprocessing//sub-35/sub-35_run-1_events.npy\n",
      "2338\n",
      "[100  50 150 ...  50 100 150]\n",
      "ValueError: mismatching number of trials, 4676 and 2338\n"
     ]
    }
   ],
   "source": [
    "def get_sub_and_run(fpath):\n",
    "    sub = re.findall(r'sub-(\\d{1,2})', fpath)[0]\n",
    "    run = re.findall(r'run-(\\d{1})', fpath)[0]\n",
    "    return(sub, run)\n",
    "\n",
    "# def recode_events(events):\n",
    "#     mapping = {10001: 100, 10002: 150, 10003: 200, 10004: 250, 10005: 50}\n",
    "#     recoded_events = np.vectorize(mapping.get)(events)\n",
    "#     return(recoded_events)\n",
    "\n",
    "# # Get coordinates of all channels \n",
    "# epoch_paths = glob.glob('../data/bids/derivatives/preprocessing/*/*res-hi*fif.gz')\n",
    "# pattern = re.compile('sub-(\\d{1,2})_')\n",
    "# epoch_sub_order = list(map(pattern.findall, epoch_paths))\n",
    "# epoch_sub_order = list(itertools.chain(*epoch_sub_order))\n",
    "# pattern = re.compile('run-(\\d{1,2})_')\n",
    "# epoch_run_order = list(map(pattern.findall, epoch_paths))\n",
    "# epoch_run_order = list(itertools.chain(*epoch_run_order))\n",
    "\n",
    "npy_paths = glob.glob('../data/bids/derivatives/decoding/*/*stft_power*')\n",
    "power = np.empty([])\n",
    "events = np.empty([])\n",
    "first_sub = True\n",
    "\n",
    "# for each captrak file\n",
    "for npy_path in npy_paths:\n",
    "    \n",
    "    # get power\n",
    "    print(f\"Reading power values from: {npy_path}\")\n",
    "    sub_power = np.load(npy_path)\n",
    "    \n",
    "    # average over all channels\n",
    "    sub_power = np.mean(sub_power, axis = 1)\n",
    "    \n",
    "    # get subject and run\n",
    "    sub, run = get_sub_and_run(npy_path)\n",
    "    \n",
    "    # find the right events file\n",
    "    root = '../data/bids/derivatives/preprocessing/'\n",
    "    events_path = f'{root}/sub-{sub}/sub-{sub}_run-{run}_events.npy'\n",
    "    print(f\"Reading events from: {events_path}\")\n",
    "    sub_events = np.load(events_path)\n",
    "\n",
    "    # compare trial length\n",
    "    epoch_trials = np.shape(sub_power)[0]\n",
    "    event_trials = len(sub_events)\n",
    "    print(event_trials) # so many have 3841 events lol why\n",
    "    if epoch_trials != event_trials:\n",
    "        print(sub_events)\n",
    "        print(f\"ValueError: mismatching number of trials, {epoch_trials} and {event_trials}\")\n",
    "    \n",
    "#     # add to arrays\n",
    "#     if first_sub == True:\n",
    "#         power = sub_power\n",
    "#         events = sub_events\n",
    "#         first_sub = False\n",
    "#     else:\n",
    "#         try: \n",
    "#             power = np.append(power, sub_power, axis = 0)\n",
    "#             events = np.append(events, sub_events)\n",
    "#         except:\n",
    "#             print(\"ValueError: stft coefficients have the wrong shape, skipping subject\")\n",
    "#             continue"
   ]
  },
  {
   "cell_type": "code",
   "execution_count": 13,
   "id": "577e0a22",
   "metadata": {},
   "outputs": [
    {
     "name": "stdout",
     "output_type": "stream",
     "text": [
      "../data/bids/derivatives/decoding/sub-7/sub-7_task-pitch_run-1_desc-stft_power.npy\n",
      "(3841, 5, 19)\n",
      "(3841, 5, 19)\n",
      "../data/bids/derivatives/decoding/sub-28/sub-28_task-pitch_run-1_desc-stft_power.npy\n",
      "(4768, 5, 19)\n",
      "(8609, 5, 19)\n",
      "../data/bids/derivatives/decoding/sub-34/sub-34_task-pitch_run-1_desc-stft_power.npy\n",
      "(1921, 5, 19)\n",
      "(10530, 5, 19)\n",
      "../data/bids/derivatives/decoding/sub-39/sub-39_task-pitch_run-1_desc-stft_power.npy\n",
      "(4441, 5, 19)\n",
      "(14971, 5, 19)\n",
      "../data/bids/derivatives/decoding/sub-40/sub-40_task-pitch_run-1_desc-stft_power.npy\n",
      "(3841, 5, 19)\n",
      "(18812, 5, 19)\n",
      "../data/bids/derivatives/decoding/sub-27/sub-27_task-pitch_run-1_desc-stft_power.npy\n",
      "(4723, 5, 19)\n",
      "(23535, 5, 19)\n",
      "../data/bids/derivatives/decoding/sub-8/sub-8_task-pitch_run-1_desc-stft_power.npy\n",
      "(3841, 5, 19)\n",
      "(27376, 5, 19)\n",
      "../data/bids/derivatives/decoding/sub-33/sub-33_task-pitch_run-1_desc-stft_power.npy\n",
      "(4782, 5, 19)\n",
      "(32158, 5, 19)\n",
      "../data/bids/derivatives/decoding/sub-38/sub-38_task-pitch_run-1_desc-stft_power.npy\n",
      "(2881, 5, 19)\n",
      "(35039, 5, 19)\n",
      "../data/bids/derivatives/decoding/sub-38/sub-38_task-pitch_run-2_desc-stft_power.npy\n",
      "(558, 5, 19)\n",
      "(35597, 5, 19)\n",
      "../data/bids/derivatives/decoding/sub-13/sub-13_task-pitch_run-1_desc-stft_power.npy\n",
      "(3463, 5, 19)\n",
      "(39060, 5, 19)\n",
      "../data/bids/derivatives/decoding/sub-44/sub-44_task-pitch_run-1_desc-stft_power.npy\n",
      "(4299, 5, 19)\n",
      "(43359, 5, 19)\n",
      "../data/bids/derivatives/decoding/sub-32/sub-32_task-pitch_run-1_desc-stft_power.npy\n",
      "(4771, 5, 19)\n",
      "(48130, 5, 19)\n",
      "../data/bids/derivatives/decoding/sub-37/sub-37_task-pitch_run-1_desc-stft_power.npy\n",
      "(3841, 5, 19)\n",
      "(51971, 5, 19)\n",
      "../data/bids/derivatives/decoding/sub-12/sub-12_task-pitch_run-1_desc-stft_power.npy\n",
      "(4585, 5, 19)\n",
      "(56556, 5, 19)\n",
      "../data/bids/derivatives/decoding/sub-17/sub-17_task-pitch_run-1_desc-stft_power.npy\n",
      "(3841, 5, 19)\n",
      "(60397, 5, 19)\n",
      "../data/bids/derivatives/decoding/sub-9/sub-9_task-pitch_run-1_desc-stft_power.npy\n",
      "(1922, 5, 19)\n",
      "(62319, 5, 19)\n",
      "../data/bids/derivatives/decoding/sub-43/sub-43_task-pitch_run-1_desc-stft_power.npy\n",
      "(4795, 5, 19)\n",
      "(67114, 5, 19)\n",
      "../data/bids/derivatives/decoding/sub-36/sub-36_task-pitch_run-1_desc-stft_power.npy\n",
      "(4800, 5, 19)\n",
      "(71914, 5, 19)\n",
      "../data/bids/derivatives/decoding/sub-11/sub-11_task-pitch_run-1_desc-stft_power.npy\n",
      "(4788, 5, 19)\n",
      "(76702, 5, 19)\n",
      "../data/bids/derivatives/decoding/sub-16/sub-16_task-pitch_run-1_desc-stft_power.npy\n",
      "(3841, 5, 19)\n",
      "(80543, 5, 19)\n",
      "../data/bids/derivatives/decoding/sub-42/sub-42_task-pitch_run-1_desc-stft_power.npy\n",
      "(3696, 5, 19)\n",
      "(84239, 5, 19)\n",
      "../data/bids/derivatives/decoding/sub-2/sub-2_task-pitch_run-1_desc-stft_power.npy\n",
      "ValueError: stft coefficients have the wrong shape, skipping subject\n",
      "../data/bids/derivatives/decoding/sub-22/sub-22_task-pitch_run-1_desc-stft_power.npy\n",
      "(3841, 5, 19)\n",
      "(88080, 5, 19)\n",
      "../data/bids/derivatives/decoding/sub-10/sub-10_task-pitch_run-1_desc-stft_power.npy\n",
      "(3841, 5, 19)\n",
      "(91921, 5, 19)\n",
      "../data/bids/derivatives/decoding/sub-15/sub-15_task-pitch_run-1_desc-stft_power.npy\n",
      "(3841, 5, 19)\n",
      "(95762, 5, 19)\n",
      "../data/bids/derivatives/decoding/sub-21/sub-21_task-pitch_run-1_desc-stft_power.npy\n",
      "(3841, 5, 19)\n",
      "(99603, 5, 19)\n",
      "../data/bids/derivatives/decoding/sub-26/sub-26_task-pitch_run-1_desc-stft_power.npy\n",
      "(3841, 5, 19)\n",
      "(103444, 5, 19)\n",
      "../data/bids/derivatives/decoding/sub-5/sub-5_task-pitch_run-1_desc-stft_power.npy\n",
      "(3841, 5, 19)\n",
      "(107285, 5, 19)\n",
      "../data/bids/derivatives/decoding/sub-3/sub-3_task-pitch_run-1_desc-stft_power.npy\n",
      "(2332, 5, 19)\n",
      "(109617, 5, 19)\n",
      "../data/bids/derivatives/decoding/sub-3/sub-3_task-pitch_run-2_desc-stft_power.npy\n",
      "(2329, 5, 19)\n",
      "(111946, 5, 19)\n",
      "../data/bids/derivatives/decoding/sub-14/sub-14_task-pitch_run-1_desc-stft_power.npy\n",
      "(4724, 5, 19)\n",
      "(116670, 5, 19)\n",
      "../data/bids/derivatives/decoding/sub-19/sub-19_task-pitch_run-1_desc-stft_power.npy\n",
      "(3841, 5, 19)\n",
      "(120511, 5, 19)\n",
      "../data/bids/derivatives/decoding/sub-20/sub-20_task-pitch_run-1_desc-stft_power.npy\n",
      "(3841, 5, 19)\n",
      "(124352, 5, 19)\n",
      "../data/bids/derivatives/decoding/sub-31/sub-31_task-pitch_run-1_desc-stft_power.npy\n",
      "ValueError: stft coefficients have the wrong shape, skipping subject\n",
      "../data/bids/derivatives/decoding/sub-6/sub-6_task-pitch_run-1_desc-stft_power.npy\n",
      "(4775, 5, 19)\n",
      "(129127, 5, 19)\n",
      "../data/bids/derivatives/decoding/sub-18/sub-18_task-pitch_run-1_desc-stft_power.npy\n",
      "(4757, 5, 19)\n",
      "(133884, 5, 19)\n",
      "../data/bids/derivatives/decoding/sub-4/sub-4_task-pitch_run-2_desc-stft_power.npy\n",
      "(1921, 5, 19)\n",
      "(135805, 5, 19)\n",
      "../data/bids/derivatives/decoding/sub-4/sub-4_task-pitch_run-1_desc-stft_power.npy\n",
      "(2416, 5, 19)\n",
      "(138221, 5, 19)\n",
      "../data/bids/derivatives/decoding/sub-29/sub-29_task-pitch_run-1_desc-stft_power.npy\n",
      "(4775, 5, 19)\n",
      "(142996, 5, 19)\n",
      "../data/bids/derivatives/decoding/sub-30/sub-30_task-pitch_run-1_desc-stft_power.npy\n",
      "(4774, 5, 19)\n",
      "(147770, 5, 19)\n",
      "../data/bids/derivatives/decoding/sub-35/sub-35_task-pitch_run-1_desc-stft_power.npy\n",
      "(4676, 5, 19)\n",
      "(152446, 5, 19)\n"
     ]
    }
   ],
   "source": [
    "# Read stft_power files and append all to data frame\n",
    "first_sub = True\n",
    "power = np.empty([])\n",
    "\n",
    "for fpath in glob.glob(\"../data/bids/derivatives/decoding/*/*stft_power*\"):\n",
    "    print(fpath)\n",
    "    sub_power = np.load(fpath)\n",
    "\n",
    "    # Average over all channels\n",
    "    sub_power = np.mean(sub_power, axis = 1)\n",
    "    \n",
    "    if first_sub == True:\n",
    "        power = sub_power\n",
    "        first_sub = False\n",
    "    else:\n",
    "        try: \n",
    "            power = np.append(power, sub_power, axis = 0)\n",
    "        except:\n",
    "            print(\"ValueError: stft coefficients have the wrong shape, skipping subject\")\n",
    "            continue\n",
    "            \n",
    "            \n",
    "#     try: \n",
    "    print(np.shape(sub_power)) # n_epochs, n_freqs, n_windows\n",
    "    print(np.shape(power))\n",
    "#     power = np.stack([power, sub_power]) # CHANGE STACKING\n",
    "#     except:\n",
    "#         print(\"ValueError: subject is probably missing a channel, skipping file\")\n",
    "#         continue"
   ]
  },
  {
   "cell_type": "code",
   "execution_count": 14,
   "id": "8e5a33d6",
   "metadata": {},
   "outputs": [
    {
     "data": {
      "text/plain": [
       "(152446, 5, 19)"
      ]
     },
     "execution_count": 14,
     "metadata": {},
     "output_type": "execute_result"
    }
   ],
   "source": [
    "# want it to be n_epochs, n_freqs*n_chans, n_windows"
   ]
  },
  {
   "cell_type": "code",
   "execution_count": 10,
   "id": "b3007ccc",
   "metadata": {},
   "outputs": [
    {
     "data": {
      "text/plain": [
       "(4553, 19)"
      ]
     },
     "execution_count": 10,
     "metadata": {},
     "output_type": "execute_result"
    }
   ],
   "source": [
    "np.shape(sub_power)"
   ]
  },
  {
   "cell_type": "code",
   "execution_count": 11,
   "id": "0dbe1c2b",
   "metadata": {},
   "outputs": [
    {
     "data": {
      "text/plain": [
       "'/project2/hcn1/pitch_tracking/scripts'"
      ]
     },
     "execution_count": 11,
     "metadata": {},
     "output_type": "execute_result"
    }
   ],
   "source": [
    "os.getcwd()"
   ]
  },
  {
   "cell_type": "code",
   "execution_count": null,
   "id": "dee9fe9c",
   "metadata": {},
   "outputs": [],
   "source": []
  }
 ],
 "metadata": {
  "kernelspec": {
   "display_name": "Python 3 (ipykernel)",
   "language": "python",
   "name": "python3"
  },
  "language_info": {
   "codemirror_mode": {
    "name": "ipython",
    "version": 3
   },
   "file_extension": ".py",
   "mimetype": "text/x-python",
   "name": "python",
   "nbconvert_exporter": "python",
   "pygments_lexer": "ipython3",
   "version": "3.10.4"
  }
 },
 "nbformat": 4,
 "nbformat_minor": 5
}
