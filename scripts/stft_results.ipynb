{
 "cells": [
  {
   "cell_type": "code",
   "execution_count": 7,
   "id": "87e8bd17",
   "metadata": {},
   "outputs": [],
   "source": [
    "import glob\n",
    "import os\n",
    "import re\n",
    "import mne\n",
    "import sys\n",
    "import itertools\n",
    "import pandas as pd\n",
    "import numpy as np\n",
    "import matplotlib.pyplot as plt\n",
    "from mne_bids import BIDSPath, read_raw_bids\n"
   ]
  },
  {
   "cell_type": "code",
   "execution_count": 5,
   "id": "631309c5",
   "metadata": {
    "scrolled": false
   },
   "outputs": [
    {
     "name": "stderr",
     "output_type": "stream",
     "text": [
      "/tmp/ipykernel_19753/3040300095.py:4: RuntimeWarning: This filename (../data/bids/derivatives/preprocessing/sub-7/sub-7_task-pitch_run-1_res-hi_desc-clean_epo.fif.gz) does not conform to MNE naming conventions. All events files should end with .eve, -eve.fif, -eve.fif.gz, -eve.lst, -eve.txt, _eve.fif, _eve.fif.gz, _eve.lst, _eve.txt or -annot.fif\n",
      "  events = mne.read_events(path)[:,2]\n"
     ]
    },
    {
     "name": "stdout",
     "output_type": "stream",
     "text": [
      "[10001 10002 10003 10004 10005]\n"
     ]
    },
    {
     "name": "stderr",
     "output_type": "stream",
     "text": [
      "/tmp/ipykernel_19753/3040300095.py:4: RuntimeWarning: This filename (../data/bids/derivatives/preprocessing/sub-28/sub-28_task-pitch_run-1_res-hi_desc-clean_epo.fif.gz) does not conform to MNE naming conventions. All events files should end with .eve, -eve.fif, -eve.fif.gz, -eve.lst, -eve.txt, _eve.fif, _eve.fif.gz, _eve.lst, _eve.txt or -annot.fif\n",
      "  events = mne.read_events(path)[:,2]\n"
     ]
    },
    {
     "name": "stdout",
     "output_type": "stream",
     "text": [
      "[10001 10002 10003 10004 10005]\n"
     ]
    },
    {
     "name": "stderr",
     "output_type": "stream",
     "text": [
      "/tmp/ipykernel_19753/3040300095.py:4: RuntimeWarning: This filename (../data/bids/derivatives/preprocessing/sub-34/sub-34_task-pitch_run-1_res-hi_desc-clean_epo.fif.gz) does not conform to MNE naming conventions. All events files should end with .eve, -eve.fif, -eve.fif.gz, -eve.lst, -eve.txt, _eve.fif, _eve.fif.gz, _eve.lst, _eve.txt or -annot.fif\n",
      "  events = mne.read_events(path)[:,2]\n"
     ]
    },
    {
     "name": "stdout",
     "output_type": "stream",
     "text": [
      "[10001 10002 10003 10004 10005]\n"
     ]
    },
    {
     "name": "stderr",
     "output_type": "stream",
     "text": [
      "/tmp/ipykernel_19753/3040300095.py:4: RuntimeWarning: This filename (../data/bids/derivatives/preprocessing/sub-39/sub-39_task-pitch_run-1_res-hi_desc-clean_epo.fif.gz) does not conform to MNE naming conventions. All events files should end with .eve, -eve.fif, -eve.fif.gz, -eve.lst, -eve.txt, _eve.fif, _eve.fif.gz, _eve.lst, _eve.txt or -annot.fif\n",
      "  events = mne.read_events(path)[:,2]\n"
     ]
    },
    {
     "name": "stdout",
     "output_type": "stream",
     "text": [
      "[10001 10002 10003 10004 10005]\n"
     ]
    },
    {
     "name": "stderr",
     "output_type": "stream",
     "text": [
      "/tmp/ipykernel_19753/3040300095.py:4: RuntimeWarning: This filename (../data/bids/derivatives/preprocessing/sub-40/sub-40_task-pitch_run-1_res-hi_desc-clean_epo.fif.gz) does not conform to MNE naming conventions. All events files should end with .eve, -eve.fif, -eve.fif.gz, -eve.lst, -eve.txt, _eve.fif, _eve.fif.gz, _eve.lst, _eve.txt or -annot.fif\n",
      "  events = mne.read_events(path)[:,2]\n"
     ]
    },
    {
     "name": "stdout",
     "output_type": "stream",
     "text": [
      "[10001 10002 10003 10004 10005]\n"
     ]
    },
    {
     "name": "stderr",
     "output_type": "stream",
     "text": [
      "/tmp/ipykernel_19753/3040300095.py:4: RuntimeWarning: This filename (../data/bids/derivatives/preprocessing/sub-27/sub-27_task-pitch_run-1_res-hi_desc-clean_epo.fif.gz) does not conform to MNE naming conventions. All events files should end with .eve, -eve.fif, -eve.fif.gz, -eve.lst, -eve.txt, _eve.fif, _eve.fif.gz, _eve.lst, _eve.txt or -annot.fif\n",
      "  events = mne.read_events(path)[:,2]\n"
     ]
    },
    {
     "name": "stdout",
     "output_type": "stream",
     "text": [
      "[10001 10002 10003 10004 10005]\n"
     ]
    },
    {
     "name": "stderr",
     "output_type": "stream",
     "text": [
      "/tmp/ipykernel_19753/3040300095.py:4: RuntimeWarning: This filename (../data/bids/derivatives/preprocessing/sub-8/sub-8_task-pitch_run-1_res-hi_desc-clean_epo.fif.gz) does not conform to MNE naming conventions. All events files should end with .eve, -eve.fif, -eve.fif.gz, -eve.lst, -eve.txt, _eve.fif, _eve.fif.gz, _eve.lst, _eve.txt or -annot.fif\n",
      "  events = mne.read_events(path)[:,2]\n"
     ]
    },
    {
     "ename": "KeyboardInterrupt",
     "evalue": "",
     "output_type": "error",
     "traceback": [
      "\u001b[0;31m---------------------------------------------------------------------------\u001b[0m",
      "\u001b[0;31mKeyboardInterrupt\u001b[0m                         Traceback (most recent call last)",
      "Input \u001b[0;32mIn [5]\u001b[0m, in \u001b[0;36m<cell line: 3>\u001b[0;34m()\u001b[0m\n\u001b[1;32m      1\u001b[0m epoch_paths \u001b[38;5;241m=\u001b[39m glob\u001b[38;5;241m.\u001b[39mglob(\u001b[38;5;124m'\u001b[39m\u001b[38;5;124m../data/bids/derivatives/preprocessing/*/*res-hi*fif.gz\u001b[39m\u001b[38;5;124m'\u001b[39m)\n\u001b[1;32m      3\u001b[0m \u001b[38;5;28;01mfor\u001b[39;00m path \u001b[38;5;129;01min\u001b[39;00m epoch_paths:\n\u001b[0;32m----> 4\u001b[0m     events \u001b[38;5;241m=\u001b[39m \u001b[43mmne\u001b[49m\u001b[38;5;241;43m.\u001b[39;49m\u001b[43mread_events\u001b[49m\u001b[43m(\u001b[49m\u001b[43mpath\u001b[49m\u001b[43m)\u001b[49m[:,\u001b[38;5;241m2\u001b[39m]\n\u001b[1;32m      5\u001b[0m     \u001b[38;5;28mprint\u001b[39m(np\u001b[38;5;241m.\u001b[39munique(events))\n",
      "File \u001b[0;32m<decorator-gen-199>:12\u001b[0m, in \u001b[0;36mread_events\u001b[0;34m(filename, include, exclude, mask, mask_type, return_event_id, verbose)\u001b[0m\n",
      "File \u001b[0;32m~/.conda/envs/pitch-tracking/lib/python3.10/site-packages/mne/event.py:258\u001b[0m, in \u001b[0;36mread_events\u001b[0;34m(filename, include, exclude, mask, mask_type, return_event_id, verbose)\u001b[0m\n\u001b[1;32m    256\u001b[0m ext \u001b[38;5;241m=\u001b[39m op\u001b[38;5;241m.\u001b[39msplitext(filename)[\u001b[38;5;241m1\u001b[39m]\u001b[38;5;241m.\u001b[39mlower()\n\u001b[1;32m    257\u001b[0m \u001b[38;5;28;01mif\u001b[39;00m ext \u001b[38;5;241m==\u001b[39m \u001b[38;5;124m'\u001b[39m\u001b[38;5;124m.fif\u001b[39m\u001b[38;5;124m'\u001b[39m \u001b[38;5;129;01mor\u001b[39;00m ext \u001b[38;5;241m==\u001b[39m \u001b[38;5;124m'\u001b[39m\u001b[38;5;124m.gz\u001b[39m\u001b[38;5;124m'\u001b[39m:\n\u001b[0;32m--> 258\u001b[0m     fid, tree, _ \u001b[38;5;241m=\u001b[39m \u001b[43mfiff_open\u001b[49m\u001b[43m(\u001b[49m\u001b[43mfilename\u001b[49m\u001b[43m)\u001b[49m\n\u001b[1;32m    259\u001b[0m     \u001b[38;5;28;01mwith\u001b[39;00m fid \u001b[38;5;28;01mas\u001b[39;00m f:\n\u001b[1;32m    260\u001b[0m         event_list, event_id \u001b[38;5;241m=\u001b[39m _read_events_fif(f, tree)\n",
      "File \u001b[0;32m<decorator-gen-7>:12\u001b[0m, in \u001b[0;36mfiff_open\u001b[0;34m(fname, preload, verbose)\u001b[0m\n",
      "File \u001b[0;32m~/.conda/envs/pitch-tracking/lib/python3.10/site-packages/mne/io/open.py:126\u001b[0m, in \u001b[0;36mfiff_open\u001b[0;34m(fname, preload, verbose)\u001b[0m\n\u001b[1;32m    124\u001b[0m fid \u001b[38;5;241m=\u001b[39m _fiff_get_fid(fname)\n\u001b[1;32m    125\u001b[0m \u001b[38;5;28;01mtry\u001b[39;00m:\n\u001b[0;32m--> 126\u001b[0m     \u001b[38;5;28;01mreturn\u001b[39;00m \u001b[43m_fiff_open\u001b[49m\u001b[43m(\u001b[49m\u001b[43mfname\u001b[49m\u001b[43m,\u001b[49m\u001b[43m \u001b[49m\u001b[43mfid\u001b[49m\u001b[43m,\u001b[49m\u001b[43m \u001b[49m\u001b[43mpreload\u001b[49m\u001b[43m)\u001b[49m\n\u001b[1;32m    127\u001b[0m \u001b[38;5;28;01mexcept\u001b[39;00m \u001b[38;5;167;01mException\u001b[39;00m:\n\u001b[1;32m    128\u001b[0m     fid\u001b[38;5;241m.\u001b[39mclose()\n",
      "File \u001b[0;32m~/.conda/envs/pitch-tracking/lib/python3.10/site-packages/mne/io/open.py:175\u001b[0m, in \u001b[0;36m_fiff_open\u001b[0;34m(fname, fid, preload)\u001b[0m\n\u001b[1;32m    173\u001b[0m \u001b[38;5;28;01mwhile\u001b[39;00m tag\u001b[38;5;241m.\u001b[39mnext \u001b[38;5;241m>\u001b[39m\u001b[38;5;241m=\u001b[39m \u001b[38;5;241m0\u001b[39m:\n\u001b[1;32m    174\u001b[0m     pos \u001b[38;5;241m=\u001b[39m fid\u001b[38;5;241m.\u001b[39mtell()\n\u001b[0;32m--> 175\u001b[0m     tag \u001b[38;5;241m=\u001b[39m \u001b[43mread_tag_info\u001b[49m\u001b[43m(\u001b[49m\u001b[43mfid\u001b[49m\u001b[43m)\u001b[49m\n\u001b[1;32m    176\u001b[0m     \u001b[38;5;28;01mif\u001b[39;00m tag \u001b[38;5;129;01mis\u001b[39;00m \u001b[38;5;28;01mNone\u001b[39;00m:\n\u001b[1;32m    177\u001b[0m         \u001b[38;5;28;01mbreak\u001b[39;00m  \u001b[38;5;66;03m# HACK : to fix file ending with empty tag...\u001b[39;00m\n",
      "File \u001b[0;32m~/.conda/envs/pitch-tracking/lib/python3.10/site-packages/mne/io/tag.py:69\u001b[0m, in \u001b[0;36mread_tag_info\u001b[0;34m(fid)\u001b[0m\n\u001b[1;32m     67\u001b[0m     \u001b[38;5;28;01mreturn\u001b[39;00m \u001b[38;5;28;01mNone\u001b[39;00m\n\u001b[1;32m     68\u001b[0m \u001b[38;5;28;01mif\u001b[39;00m tag\u001b[38;5;241m.\u001b[39mnext \u001b[38;5;241m==\u001b[39m \u001b[38;5;241m0\u001b[39m:\n\u001b[0;32m---> 69\u001b[0m     \u001b[43mfid\u001b[49m\u001b[38;5;241;43m.\u001b[39;49m\u001b[43mseek\u001b[49m\u001b[43m(\u001b[49m\u001b[43mtag\u001b[49m\u001b[38;5;241;43m.\u001b[39;49m\u001b[43msize\u001b[49m\u001b[43m,\u001b[49m\u001b[43m \u001b[49m\u001b[38;5;241;43m1\u001b[39;49m\u001b[43m)\u001b[49m\n\u001b[1;32m     70\u001b[0m \u001b[38;5;28;01melif\u001b[39;00m tag\u001b[38;5;241m.\u001b[39mnext \u001b[38;5;241m>\u001b[39m \u001b[38;5;241m0\u001b[39m:\n\u001b[1;32m     71\u001b[0m     fid\u001b[38;5;241m.\u001b[39mseek(tag\u001b[38;5;241m.\u001b[39mnext, \u001b[38;5;241m0\u001b[39m)\n",
      "File \u001b[0;32m~/.conda/envs/pitch-tracking/lib/python3.10/gzip.py:393\u001b[0m, in \u001b[0;36mGzipFile.seek\u001b[0;34m(self, offset, whence)\u001b[0m\n\u001b[1;32m    391\u001b[0m \u001b[38;5;28;01melif\u001b[39;00m \u001b[38;5;28mself\u001b[39m\u001b[38;5;241m.\u001b[39mmode \u001b[38;5;241m==\u001b[39m READ:\n\u001b[1;32m    392\u001b[0m     \u001b[38;5;28mself\u001b[39m\u001b[38;5;241m.\u001b[39m_check_not_closed()\n\u001b[0;32m--> 393\u001b[0m     \u001b[38;5;28;01mreturn\u001b[39;00m \u001b[38;5;28;43mself\u001b[39;49m\u001b[38;5;241;43m.\u001b[39;49m\u001b[43m_buffer\u001b[49m\u001b[38;5;241;43m.\u001b[39;49m\u001b[43mseek\u001b[49m\u001b[43m(\u001b[49m\u001b[43moffset\u001b[49m\u001b[43m,\u001b[49m\u001b[43m \u001b[49m\u001b[43mwhence\u001b[49m\u001b[43m)\u001b[49m\n\u001b[1;32m    395\u001b[0m \u001b[38;5;28;01mreturn\u001b[39;00m \u001b[38;5;28mself\u001b[39m\u001b[38;5;241m.\u001b[39moffset\n",
      "File \u001b[0;32m~/.conda/envs/pitch-tracking/lib/python3.10/_compression.py:153\u001b[0m, in \u001b[0;36mDecompressReader.seek\u001b[0;34m(self, offset, whence)\u001b[0m\n\u001b[1;32m    151\u001b[0m \u001b[38;5;66;03m# Read and discard data until we reach the desired position.\u001b[39;00m\n\u001b[1;32m    152\u001b[0m \u001b[38;5;28;01mwhile\u001b[39;00m offset \u001b[38;5;241m>\u001b[39m \u001b[38;5;241m0\u001b[39m:\n\u001b[0;32m--> 153\u001b[0m     data \u001b[38;5;241m=\u001b[39m \u001b[38;5;28;43mself\u001b[39;49m\u001b[38;5;241;43m.\u001b[39;49m\u001b[43mread\u001b[49m\u001b[43m(\u001b[49m\u001b[38;5;28;43mmin\u001b[39;49m\u001b[43m(\u001b[49m\u001b[43mio\u001b[49m\u001b[38;5;241;43m.\u001b[39;49m\u001b[43mDEFAULT_BUFFER_SIZE\u001b[49m\u001b[43m,\u001b[49m\u001b[43m \u001b[49m\u001b[43moffset\u001b[49m\u001b[43m)\u001b[49m\u001b[43m)\u001b[49m\n\u001b[1;32m    154\u001b[0m     \u001b[38;5;28;01mif\u001b[39;00m \u001b[38;5;129;01mnot\u001b[39;00m data:\n\u001b[1;32m    155\u001b[0m         \u001b[38;5;28;01mbreak\u001b[39;00m\n",
      "File \u001b[0;32m~/.conda/envs/pitch-tracking/lib/python3.10/gzip.py:496\u001b[0m, in \u001b[0;36m_GzipReader.read\u001b[0;34m(self, size)\u001b[0m\n\u001b[1;32m    493\u001b[0m \u001b[38;5;66;03m# Read a chunk of data from the file\u001b[39;00m\n\u001b[1;32m    494\u001b[0m buf \u001b[38;5;241m=\u001b[39m \u001b[38;5;28mself\u001b[39m\u001b[38;5;241m.\u001b[39m_fp\u001b[38;5;241m.\u001b[39mread(io\u001b[38;5;241m.\u001b[39mDEFAULT_BUFFER_SIZE)\n\u001b[0;32m--> 496\u001b[0m uncompress \u001b[38;5;241m=\u001b[39m \u001b[38;5;28;43mself\u001b[39;49m\u001b[38;5;241;43m.\u001b[39;49m\u001b[43m_decompressor\u001b[49m\u001b[38;5;241;43m.\u001b[39;49m\u001b[43mdecompress\u001b[49m\u001b[43m(\u001b[49m\u001b[43mbuf\u001b[49m\u001b[43m,\u001b[49m\u001b[43m \u001b[49m\u001b[43msize\u001b[49m\u001b[43m)\u001b[49m\n\u001b[1;32m    497\u001b[0m \u001b[38;5;28;01mif\u001b[39;00m \u001b[38;5;28mself\u001b[39m\u001b[38;5;241m.\u001b[39m_decompressor\u001b[38;5;241m.\u001b[39munconsumed_tail \u001b[38;5;241m!=\u001b[39m \u001b[38;5;124mb\u001b[39m\u001b[38;5;124m\"\u001b[39m\u001b[38;5;124m\"\u001b[39m:\n\u001b[1;32m    498\u001b[0m     \u001b[38;5;28mself\u001b[39m\u001b[38;5;241m.\u001b[39m_fp\u001b[38;5;241m.\u001b[39mprepend(\u001b[38;5;28mself\u001b[39m\u001b[38;5;241m.\u001b[39m_decompressor\u001b[38;5;241m.\u001b[39munconsumed_tail)\n",
      "\u001b[0;31mKeyboardInterrupt\u001b[0m: "
     ]
    }
   ],
   "source": [
    "epoch_paths = glob.glob('../data/bids/derivatives/preprocessing/*/*res-hi*fif.gz')\n",
    "\n",
    "for path in epoch_paths:`\n",
    "    events = mne.read_events(path)[:,2]\n",
    "    print(np.unique(events))"
   ]
  },
  {
   "cell_type": "code",
   "execution_count": 11,
   "id": "b60cef9b",
   "metadata": {},
   "outputs": [
    {
     "name": "stdout",
     "output_type": "stream",
     "text": [
      "../data/bids/sub-40/eeg/sub-40_task-TEST_run-1\n"
     ]
    },
    {
     "ename": "FileNotFoundError",
     "evalue": "File does not exist: ../data/bids/sub-40/eeg/sub-40_task-TEST_run-1_eeg",
     "output_type": "error",
     "traceback": [
      "\u001b[0;31m---------------------------------------------------------------------------\u001b[0m",
      "\u001b[0;31mFileNotFoundError\u001b[0m                         Traceback (most recent call last)",
      "Input \u001b[0;32mIn [11]\u001b[0m, in \u001b[0;36m<cell line: 8>\u001b[0;34m()\u001b[0m\n\u001b[1;32m      1\u001b[0m bids_path \u001b[38;5;241m=\u001b[39m BIDSPath(root \u001b[38;5;241m=\u001b[39m \u001b[38;5;124m'\u001b[39m\u001b[38;5;124m../data/bids\u001b[39m\u001b[38;5;124m'\u001b[39m,\n\u001b[1;32m      2\u001b[0m                     subject \u001b[38;5;241m=\u001b[39m \u001b[38;5;124m'\u001b[39m\u001b[38;5;124m40\u001b[39m\u001b[38;5;124m'\u001b[39m,\n\u001b[1;32m      3\u001b[0m                     task \u001b[38;5;241m=\u001b[39m \u001b[38;5;124m'\u001b[39m\u001b[38;5;124mTEST\u001b[39m\u001b[38;5;124m'\u001b[39m,\n\u001b[1;32m      4\u001b[0m                     run \u001b[38;5;241m=\u001b[39m \u001b[38;5;124m'\u001b[39m\u001b[38;5;124m1\u001b[39m\u001b[38;5;124m'\u001b[39m,\n\u001b[1;32m      5\u001b[0m                     datatype \u001b[38;5;241m=\u001b[39m \u001b[38;5;124m'\u001b[39m\u001b[38;5;124meeg\u001b[39m\u001b[38;5;124m'\u001b[39m,\n\u001b[1;32m      6\u001b[0m                     )\n\u001b[1;32m      7\u001b[0m \u001b[38;5;28mprint\u001b[39m(bids_path)\n\u001b[0;32m----> 8\u001b[0m raw \u001b[38;5;241m=\u001b[39m \u001b[43mread_raw_bids\u001b[49m\u001b[43m(\u001b[49m\u001b[43mbids_path\u001b[49m\u001b[43m,\u001b[49m\u001b[43m \u001b[49m\u001b[43mverbose\u001b[49m\u001b[43m \u001b[49m\u001b[38;5;241;43m=\u001b[39;49m\u001b[43m \u001b[49m\u001b[38;5;28;43;01mFalse\u001b[39;49;00m\u001b[43m)\u001b[49m\n\u001b[1;32m      9\u001b[0m raw \u001b[38;5;241m=\u001b[39m raw\u001b[38;5;241m.\u001b[39mpick_types(eeg \u001b[38;5;241m=\u001b[39m \u001b[38;5;28;01mTrue\u001b[39;00m)\n\u001b[1;32m     10\u001b[0m events, events_ids \u001b[38;5;241m=\u001b[39m mne\u001b[38;5;241m.\u001b[39mevents_from_annotations(raw)\n",
      "File \u001b[0;32m<decorator-gen-579>:10\u001b[0m, in \u001b[0;36mread_raw_bids\u001b[0;34m(bids_path, extra_params, verbose)\u001b[0m\n",
      "File \u001b[0;32m~/.conda/envs/pitch-tracking/lib/python3.10/site-packages/mne_bids/read.py:683\u001b[0m, in \u001b[0;36mread_raw_bids\u001b[0;34m(bids_path, extra_params, verbose)\u001b[0m\n\u001b[1;32m    680\u001b[0m             \u001b[38;5;28;01mbreak\u001b[39;00m\n\u001b[1;32m    682\u001b[0m \u001b[38;5;28;01mif\u001b[39;00m \u001b[38;5;129;01mnot\u001b[39;00m raw_path\u001b[38;5;241m.\u001b[39mexists():\n\u001b[0;32m--> 683\u001b[0m     \u001b[38;5;28;01mraise\u001b[39;00m \u001b[38;5;167;01mFileNotFoundError\u001b[39;00m(\u001b[38;5;124mf\u001b[39m\u001b[38;5;124m'\u001b[39m\u001b[38;5;124mFile does not exist: \u001b[39m\u001b[38;5;132;01m{\u001b[39;00mraw_path\u001b[38;5;132;01m}\u001b[39;00m\u001b[38;5;124m'\u001b[39m)\n\u001b[1;32m    684\u001b[0m \u001b[38;5;28;01mif\u001b[39;00m config_path \u001b[38;5;129;01mis\u001b[39;00m \u001b[38;5;129;01mnot\u001b[39;00m \u001b[38;5;28;01mNone\u001b[39;00m \u001b[38;5;129;01mand\u001b[39;00m \u001b[38;5;129;01mnot\u001b[39;00m config_path\u001b[38;5;241m.\u001b[39mexists():\n\u001b[1;32m    685\u001b[0m     \u001b[38;5;28;01mraise\u001b[39;00m \u001b[38;5;167;01mFileNotFoundError\u001b[39;00m(\u001b[38;5;124mf\u001b[39m\u001b[38;5;124m'\u001b[39m\u001b[38;5;124mconfig directory not found: \u001b[39m\u001b[38;5;132;01m{\u001b[39;00mconfig_path\u001b[38;5;132;01m}\u001b[39;00m\u001b[38;5;124m'\u001b[39m)\n",
      "\u001b[0;31mFileNotFoundError\u001b[0m: File does not exist: ../data/bids/sub-40/eeg/sub-40_task-TEST_run-1_eeg"
     ]
    }
   ],
   "source": [
    "bids_path = BIDSPath(root = '../data/bids',\n",
    "                    subject = '40',\n",
    "                    task = 'pitch',\n",
    "                    run = '1',\n",
    "                    datatype = 'eeg',\n",
    "                    )\n",
    "print(bids_path)\n",
    "raw = read_raw_bids(bids_path, verbose = False)\n",
    "raw = raw.pick_types(eeg = True)\n",
    "events, events_ids = mne.events_from_annotations(raw)\n",
    "events_ids"
   ]
  },
  {
   "cell_type": "code",
   "execution_count": 10,
   "id": "09ccc720",
   "metadata": {},
   "outputs": [
    {
     "data": {
      "text/plain": [
       "BIDSPath(\n",
       "root: ../data/bids\n",
       "datatype: eeg\n",
       "basename: sub-40_task-pitch_run-1)"
      ]
     },
     "execution_count": 10,
     "metadata": {},
     "output_type": "execute_result"
    }
   ],
   "source": [
    "bids_path"
   ]
  },
  {
   "cell_type": "code",
   "execution_count": 144,
   "id": "b25ee607",
   "metadata": {},
   "outputs": [
    {
     "name": "stdout",
     "output_type": "stream",
     "text": [
      "{0: 8, 1: 70, 2: 82, 3: 28, 4: 63, 5: 0, 6: 5, 7: 50, 8: 81, 9: 4, 10: 23, 11: 65, 12: 76, 13: 60, 14: 24, 15: 42, 16: 77, 17: 38, 18: 56, 19: 75, 20: 35, 21: 88, 22: 19, 23: 29, 24: 31, 25: 91, 26: 85, 27: 9, 28: 53, 29: 41, 30: 21, 31: 90, 32: 33, 33: 69, 34: 84, 35: 87, 36: 95, 37: 97, 38: 62, 39: 12, 40: 20, 41: 89, 42: 37, 43: 59, 44: 1, 45: 74, 46: 11, 47: 79, 48: 14, 49: 54, 50: 16, 51: 26, 52: 51, 53: 45, 54: 6, 55: 98, 56: 30, 57: 44, 58: 72, 59: 43, 60: 15, 61: 94, 62: 18, 63: 13, 64: 22, 65: 10, 66: 58, 67: 71, 68: 64, 69: 3, 70: 40, 71: 34, 72: 27, 73: 52, 74: 7, 75: 48, 76: 61, 77: 93, 78: 99, 79: 39, 80: 2, 81: 67, 82: 55, 83: 49, 84: 68, 85: 80, 86: 36, 87: 78, 88: 96, 89: 25, 90: 46, 91: 32, 92: 73, 93: 47, 94: 86, 95: 57, 96: 83, 97: 17, 98: 92, 99: 66}\n",
      "[[66 92 98 ... 37 79  8]\n",
      " [31  0  8 ... 29 66 77]\n",
      " [50  4 42 ... 97  9 36]\n",
      " ...\n",
      " [26 41 89 ... 49 68 98]\n",
      " [32 66 89 ... 22 49 58]\n",
      " [72 13  1 ... 54 76 43]]\n",
      "[ 8 70 82 28 63  0  5 50 81  4 23 65 76 60 24 42 77 38 56 75 35 88 19 29\n",
      " 31 91 85  9 53 41 21 90 33 69 84 87 95 97 62 12 20 89 37 59  1 74 11 79\n",
      " 14 54 16 26 51 45  6 98 30 44 72 43 15 94 18 13 22 10 58 71 64  3 40 34\n",
      " 27 52  7 48 61 93 99 39  2 67 55 49 68 80 36 78 96 25 46 32 73 47 86 57\n",
      " 83 17 92 66]\n",
      "[[58 73 92 ... 97 39 81]\n",
      " [90  8 81 ... 41 58 93]\n",
      " [16 63 37 ... 17  4 95]\n",
      " ...\n",
      " [85 89 25 ... 54 64 92]\n",
      " [33 58 25 ... 19 54 72]\n",
      " [27 60 70 ...  6 61 59]]\n"
     ]
    }
   ],
   "source": [
    "np.random.seed(123)\n",
    "\n",
    "sources = range(100)\n",
    "outs = [a for a in range(100)]\n",
    "np.random.shuffle(outs)\n",
    "mapping = {sources[a]:outs[a] for a in(range(len(sources)))}\n",
    "print(mapping)\n",
    "\n",
    "np.random.seed(123)\n",
    "input_array = np.random.randint(0,100, (1000,1000))\n",
    "print(input_array)\n",
    "\n",
    "# k = np.array(list(mapping.keys()))\n",
    "v = np.array(list(mapping.values()))\n",
    "print(v)\n",
    "\n",
    "# mapping_ar = np.zeros(k.max()+1,dtype=v.dtype) #k,v from approach #1\n",
    "# mapping_ar[k] = v\n",
    "out = v[input_array]\n",
    "print(out)\n"
   ]
  },
  {
   "cell_type": "code",
   "execution_count": null,
   "id": "34fcdea2",
   "metadata": {},
   "outputs": [],
   "source": [
    "raw"
   ]
  },
  {
   "cell_type": "code",
   "execution_count": 192,
   "id": "9fc1e0ad",
   "metadata": {},
   "outputs": [
    {
     "name": "stdout",
     "output_type": "stream",
     "text": [
      "Used Annotations descriptions: ['100', '150', '200', '250', '50']\n"
     ]
    }
   ],
   "source": [
    "raw_events, raw_events_ids = mne.events_from_annotations(raw)\n"
   ]
  },
  {
   "cell_type": "code",
   "execution_count": 193,
   "id": "f464e9ce",
   "metadata": {},
   "outputs": [
    {
     "data": {
      "text/plain": [
       "{'100': 10001, '150': 10002, '200': 10003, '250': 10004, '50': 10005}"
      ]
     },
     "execution_count": 193,
     "metadata": {},
     "output_type": "execute_result"
    }
   ],
   "source": [
    "raw_events_ids"
   ]
  },
  {
   "cell_type": "code",
   "execution_count": null,
   "id": "74be1387",
   "metadata": {},
   "outputs": [],
   "source": [
    "# check event ids of bids data"
   ]
  },
  {
   "cell_type": "code",
   "execution_count": 186,
   "id": "67d0792d",
   "metadata": {},
   "outputs": [
    {
     "name": "stdout",
     "output_type": "stream",
     "text": [
      "Reading /project2/hcn1/pitch_tracking/scripts/../data/bids/derivatives/preprocessing/sub-35/sub-35_task-pitch_run-1_res-hi_desc-clean_epo.fif.gz ...\n",
      "    Found the data of interest:\n",
      "        t =    -200.00 ...     250.00 ms\n",
      "        0 CTF compensation matrices available\n",
      "Reading /project2/hcn1/pitch_tracking/scripts/../data/bids/derivatives/preprocessing/sub-35/sub-35_task-pitch_run-1_res-hi_desc-clean_epo.fif-1.gz ...\n",
      "    Found the data of interest:\n",
      "        t =    -200.00 ...     250.00 ms\n",
      "        0 CTF compensation matrices available\n",
      "Not setting metadata\n",
      "4676 matching events found\n",
      "No baseline correction applied\n",
      "0 projection items activated\n"
     ]
    }
   ],
   "source": [
    "epochs = mne.read_epochs(epoch_path, preload = False)\n",
    "events = epochs.events"
   ]
  },
  {
   "cell_type": "code",
   "execution_count": 190,
   "id": "ba6b4cf1",
   "metadata": {},
   "outputs": [
    {
     "name": "stdout",
     "output_type": "stream",
     "text": [
      "    Rejecting  epoch based on EEG : ['TP10']\n",
      "    Rejecting  epoch based on EEG : ['TP10']\n"
     ]
    },
    {
     "ename": "ValueError",
     "evalue": "No matching events found for 100 (event id 10001)",
     "output_type": "error",
     "traceback": [
      "\u001b[0;31m---------------------------------------------------------------------------\u001b[0m",
      "\u001b[0;31mValueError\u001b[0m                                Traceback (most recent call last)",
      "Input \u001b[0;32mIn [190]\u001b[0m, in \u001b[0;36m<cell line: 2>\u001b[0;34m()\u001b[0m\n\u001b[1;32m      1\u001b[0m event_id \u001b[38;5;241m=\u001b[39m {\u001b[38;5;124m'\u001b[39m\u001b[38;5;124m100\u001b[39m\u001b[38;5;124m'\u001b[39m: \u001b[38;5;241m10001\u001b[39m, \u001b[38;5;124m'\u001b[39m\u001b[38;5;124m150\u001b[39m\u001b[38;5;124m'\u001b[39m: \u001b[38;5;241m10002\u001b[39m, \u001b[38;5;124m'\u001b[39m\u001b[38;5;124m200\u001b[39m\u001b[38;5;124m'\u001b[39m: \u001b[38;5;241m10003\u001b[39m, \u001b[38;5;124m'\u001b[39m\u001b[38;5;124m250\u001b[39m\u001b[38;5;124m'\u001b[39m: \u001b[38;5;241m10004\u001b[39m, \u001b[38;5;124m'\u001b[39m\u001b[38;5;124m50\u001b[39m\u001b[38;5;124m'\u001b[39m: \u001b[38;5;241m10005\u001b[39m}\n\u001b[0;32m----> 2\u001b[0m \u001b[43mmne\u001b[49m\u001b[38;5;241;43m.\u001b[39;49m\u001b[43mEpochsArray\u001b[49m\u001b[43m(\u001b[49m\u001b[43mepochs\u001b[49m\u001b[43m,\u001b[49m\u001b[43m \u001b[49m\n\u001b[1;32m      3\u001b[0m \u001b[43m               \u001b[49m\u001b[43mepochs\u001b[49m\u001b[38;5;241;43m.\u001b[39;49m\u001b[43minfo\u001b[49m\u001b[43m,\u001b[49m\u001b[43m \u001b[49m\n\u001b[1;32m      4\u001b[0m \u001b[43m               \u001b[49m\u001b[43mevent_id\u001b[49m\u001b[43m \u001b[49m\u001b[38;5;241;43m=\u001b[39;49m\u001b[43m \u001b[49m\u001b[43mevent_id\u001b[49m\u001b[43m)\u001b[49m\n",
      "File \u001b[0;32m<decorator-gen-257>:12\u001b[0m, in \u001b[0;36m__init__\u001b[0;34m(self, data, info, events, tmin, event_id, reject, flat, reject_tmin, reject_tmax, baseline, proj, on_missing, metadata, selection, verbose)\u001b[0m\n",
      "File \u001b[0;32m~/.conda/envs/pitch-tracking/lib/python3.10/site-packages/mne/epochs.py:2800\u001b[0m, in \u001b[0;36mEpochsArray.__init__\u001b[0;34m(self, data, info, events, tmin, event_id, reject, flat, reject_tmin, reject_tmax, baseline, proj, on_missing, metadata, selection, verbose)\u001b[0m\n\u001b[1;32m   2797\u001b[0m info \u001b[38;5;241m=\u001b[39m info\u001b[38;5;241m.\u001b[39mcopy()  \u001b[38;5;66;03m# do not modify original info\u001b[39;00m\n\u001b[1;32m   2798\u001b[0m tmax \u001b[38;5;241m=\u001b[39m (data\u001b[38;5;241m.\u001b[39mshape[\u001b[38;5;241m2\u001b[39m] \u001b[38;5;241m-\u001b[39m \u001b[38;5;241m1\u001b[39m) \u001b[38;5;241m/\u001b[39m info[\u001b[38;5;124m'\u001b[39m\u001b[38;5;124msfreq\u001b[39m\u001b[38;5;124m'\u001b[39m] \u001b[38;5;241m+\u001b[39m tmin\n\u001b[0;32m-> 2800\u001b[0m \u001b[38;5;28;43msuper\u001b[39;49m\u001b[43m(\u001b[49m\u001b[43mEpochsArray\u001b[49m\u001b[43m,\u001b[49m\u001b[43m \u001b[49m\u001b[38;5;28;43mself\u001b[39;49m\u001b[43m)\u001b[49m\u001b[38;5;241;43m.\u001b[39;49m\u001b[38;5;21;43m__init__\u001b[39;49m\u001b[43m(\u001b[49m\n\u001b[1;32m   2801\u001b[0m \u001b[43m    \u001b[49m\u001b[43minfo\u001b[49m\u001b[43m,\u001b[49m\u001b[43m \u001b[49m\u001b[43mdata\u001b[49m\u001b[43m,\u001b[49m\u001b[43m \u001b[49m\u001b[43mevents\u001b[49m\u001b[43m,\u001b[49m\u001b[43m \u001b[49m\u001b[43mevent_id\u001b[49m\u001b[43m,\u001b[49m\u001b[43m \u001b[49m\u001b[43mtmin\u001b[49m\u001b[43m,\u001b[49m\u001b[43m \u001b[49m\u001b[43mtmax\u001b[49m\u001b[43m,\u001b[49m\u001b[43m \u001b[49m\u001b[43mbaseline\u001b[49m\u001b[43m,\u001b[49m\n\u001b[1;32m   2802\u001b[0m \u001b[43m    \u001b[49m\u001b[43mreject\u001b[49m\u001b[38;5;241;43m=\u001b[39;49m\u001b[43mreject\u001b[49m\u001b[43m,\u001b[49m\u001b[43m \u001b[49m\u001b[43mflat\u001b[49m\u001b[38;5;241;43m=\u001b[39;49m\u001b[43mflat\u001b[49m\u001b[43m,\u001b[49m\u001b[43m \u001b[49m\u001b[43mreject_tmin\u001b[49m\u001b[38;5;241;43m=\u001b[39;49m\u001b[43mreject_tmin\u001b[49m\u001b[43m,\u001b[49m\n\u001b[1;32m   2803\u001b[0m \u001b[43m    \u001b[49m\u001b[43mreject_tmax\u001b[49m\u001b[38;5;241;43m=\u001b[39;49m\u001b[43mreject_tmax\u001b[49m\u001b[43m,\u001b[49m\u001b[43m \u001b[49m\u001b[43mdecim\u001b[49m\u001b[38;5;241;43m=\u001b[39;49m\u001b[38;5;241;43m1\u001b[39;49m\u001b[43m,\u001b[49m\u001b[43m \u001b[49m\u001b[43mmetadata\u001b[49m\u001b[38;5;241;43m=\u001b[39;49m\u001b[43mmetadata\u001b[49m\u001b[43m,\u001b[49m\n\u001b[1;32m   2804\u001b[0m \u001b[43m    \u001b[49m\u001b[43mselection\u001b[49m\u001b[38;5;241;43m=\u001b[39;49m\u001b[43mselection\u001b[49m\u001b[43m,\u001b[49m\u001b[43m \u001b[49m\u001b[43mproj\u001b[49m\u001b[38;5;241;43m=\u001b[39;49m\u001b[43mproj\u001b[49m\u001b[43m,\u001b[49m\u001b[43m \u001b[49m\u001b[43mon_missing\u001b[49m\u001b[38;5;241;43m=\u001b[39;49m\u001b[43mon_missing\u001b[49m\u001b[43m,\u001b[49m\n\u001b[1;32m   2805\u001b[0m \u001b[43m    \u001b[49m\u001b[43mverbose\u001b[49m\u001b[38;5;241;43m=\u001b[39;49m\u001b[43mverbose\u001b[49m\u001b[43m)\u001b[49m\n\u001b[1;32m   2806\u001b[0m \u001b[38;5;28;01mif\u001b[39;00m \u001b[38;5;28mself\u001b[39m\u001b[38;5;241m.\u001b[39mbaseline \u001b[38;5;129;01mis\u001b[39;00m \u001b[38;5;129;01mnot\u001b[39;00m \u001b[38;5;28;01mNone\u001b[39;00m:\n\u001b[1;32m   2807\u001b[0m     \u001b[38;5;28mself\u001b[39m\u001b[38;5;241m.\u001b[39m_do_baseline \u001b[38;5;241m=\u001b[39m \u001b[38;5;28;01mTrue\u001b[39;00m\n",
      "File \u001b[0;32m<decorator-gen-242>:12\u001b[0m, in \u001b[0;36m__init__\u001b[0;34m(self, info, data, events, event_id, tmin, tmax, baseline, raw, picks, reject, flat, decim, reject_tmin, reject_tmax, detrend, proj, on_missing, preload_at_end, selection, drop_log, filename, metadata, event_repeated, verbose, raw_sfreq, annotations)\u001b[0m\n",
      "File \u001b[0;32m~/.conda/envs/pitch-tracking/lib/python3.10/site-packages/mne/epochs.py:423\u001b[0m, in \u001b[0;36mBaseEpochs.__init__\u001b[0;34m(***failed resolving arguments***)\u001b[0m\n\u001b[1;32m    420\u001b[0m     \u001b[38;5;28;01mif\u001b[39;00m val \u001b[38;5;129;01mnot\u001b[39;00m \u001b[38;5;129;01min\u001b[39;00m events[:, \u001b[38;5;241m2\u001b[39m]:\n\u001b[1;32m    421\u001b[0m         msg \u001b[38;5;241m=\u001b[39m (\u001b[38;5;124m'\u001b[39m\u001b[38;5;124mNo matching events found for \u001b[39m\u001b[38;5;132;01m%s\u001b[39;00m\u001b[38;5;124m \u001b[39m\u001b[38;5;124m'\u001b[39m\n\u001b[1;32m    422\u001b[0m                \u001b[38;5;124m'\u001b[39m\u001b[38;5;124m(event id \u001b[39m\u001b[38;5;132;01m%i\u001b[39;00m\u001b[38;5;124m)\u001b[39m\u001b[38;5;124m'\u001b[39m \u001b[38;5;241m%\u001b[39m (key, val))\n\u001b[0;32m--> 423\u001b[0m         \u001b[43m_on_missing\u001b[49m\u001b[43m(\u001b[49m\u001b[43mon_missing\u001b[49m\u001b[43m,\u001b[49m\u001b[43m \u001b[49m\u001b[43mmsg\u001b[49m\u001b[43m)\u001b[49m\n\u001b[1;32m    425\u001b[0m \u001b[38;5;66;03m# ensure metadata matches original events size\u001b[39;00m\n\u001b[1;32m    426\u001b[0m \u001b[38;5;28mself\u001b[39m\u001b[38;5;241m.\u001b[39mselection \u001b[38;5;241m=\u001b[39m np\u001b[38;5;241m.\u001b[39marange(\u001b[38;5;28mlen\u001b[39m(events))\n",
      "File \u001b[0;32m~/.conda/envs/pitch-tracking/lib/python3.10/site-packages/mne/utils/check.py:872\u001b[0m, in \u001b[0;36m_on_missing\u001b[0;34m(on_missing, msg, name, error_klass)\u001b[0m\n\u001b[1;32m    870\u001b[0m on_missing \u001b[38;5;241m=\u001b[39m \u001b[38;5;124m'\u001b[39m\u001b[38;5;124mwarn\u001b[39m\u001b[38;5;124m'\u001b[39m \u001b[38;5;28;01mif\u001b[39;00m on_missing \u001b[38;5;241m==\u001b[39m \u001b[38;5;124m'\u001b[39m\u001b[38;5;124mwarning\u001b[39m\u001b[38;5;124m'\u001b[39m \u001b[38;5;28;01melse\u001b[39;00m on_missing\n\u001b[1;32m    871\u001b[0m \u001b[38;5;28;01mif\u001b[39;00m on_missing \u001b[38;5;241m==\u001b[39m \u001b[38;5;124m'\u001b[39m\u001b[38;5;124mraise\u001b[39m\u001b[38;5;124m'\u001b[39m:\n\u001b[0;32m--> 872\u001b[0m     \u001b[38;5;28;01mraise\u001b[39;00m error_klass(msg)\n\u001b[1;32m    873\u001b[0m \u001b[38;5;28;01melif\u001b[39;00m on_missing \u001b[38;5;241m==\u001b[39m \u001b[38;5;124m'\u001b[39m\u001b[38;5;124mwarn\u001b[39m\u001b[38;5;124m'\u001b[39m:\n\u001b[1;32m    874\u001b[0m     warn(msg)\n",
      "\u001b[0;31mValueError\u001b[0m: No matching events found for 100 (event id 10001)"
     ]
    }
   ],
   "source": [
    "mapping = {10001: 100, 10002: 150, 10003: 200, 10004: 250, 10005: 50}\n",
    "mne.EpochsArray(epochs, \n",
    "               epochs.info, \n",
    "               event_id = event_id)"
   ]
  },
  {
   "cell_type": "code",
   "execution_count": null,
   "id": "460db2d8",
   "metadata": {},
   "outputs": [],
   "source": []
  },
  {
   "cell_type": "code",
   "execution_count": 66,
   "id": "02f02011",
   "metadata": {},
   "outputs": [
    {
     "name": "stdout",
     "output_type": "stream",
     "text": [
      "Reading power values from: ../data/bids/derivatives/decoding/sub-7/sub-7_task-pitch_run-1_desc-stft_power.npy\n",
      "Reading events from epoch file: ../data/bids/derivatives/preprocessing/sub-7/sub-7_task-pitch_run-1_res-hi_desc-clean_epo.fif.gz\n"
     ]
    },
    {
     "name": "stderr",
     "output_type": "stream",
     "text": [
      "/tmp/ipykernel_13242/3623981500.py:39: RuntimeWarning: This filename (../data/bids/derivatives/preprocessing/sub-7/sub-7_task-pitch_run-1_res-hi_desc-clean_epo.fif.gz) does not conform to MNE naming conventions. All events files should end with .eve, -eve.fif, -eve.fif.gz, -eve.lst, -eve.txt, _eve.fif, _eve.fif.gz, _eve.lst, _eve.txt or -annot.fif\n",
      "  events = mne.read_events(epoch_path)\n",
      "/home/letitiayhho/.conda/envs/pitch-tracking/lib/python3.10/site-packages/numpy/core/fromnumeric.py:2007: VisibleDeprecationWarning: Creating an ndarray from ragged nested sequences (which is a list-or-tuple of lists-or-tuples-or ndarrays with different lengths or shapes) is deprecated. If you meant to do this, you must specify 'dtype=object' when creating the ndarray.\n",
      "  result = asarray(a).shape\n"
     ]
    },
    {
     "name": "stdout",
     "output_type": "stream",
     "text": [
      "Reading power values from: ../data/bids/derivatives/decoding/sub-28/sub-28_task-pitch_run-1_desc-stft_power.npy\n"
     ]
    },
    {
     "name": "stderr",
     "output_type": "stream",
     "text": [
      "/tmp/ipykernel_13242/3623981500.py:39: RuntimeWarning: This filename (../data/bids/derivatives/preprocessing/sub-28/sub-28_task-pitch_run-1_res-hi_desc-clean_epo.fif.gz) does not conform to MNE naming conventions. All events files should end with .eve, -eve.fif, -eve.fif.gz, -eve.lst, -eve.txt, _eve.fif, _eve.fif.gz, _eve.lst, _eve.txt or -annot.fif\n",
      "  events = mne.read_events(epoch_path)\n"
     ]
    },
    {
     "name": "stdout",
     "output_type": "stream",
     "text": [
      "Reading events from epoch file: ../data/bids/derivatives/preprocessing/sub-28/sub-28_task-pitch_run-1_res-hi_desc-clean_epo.fif.gz\n",
      "Reading power values from: ../data/bids/derivatives/decoding/sub-34/sub-34_task-pitch_run-1_desc-stft_power.npy\n",
      "Reading events from epoch file: ../data/bids/derivatives/preprocessing/sub-34/sub-34_task-pitch_run-1_res-hi_desc-clean_epo.fif.gz\n"
     ]
    },
    {
     "name": "stderr",
     "output_type": "stream",
     "text": [
      "/tmp/ipykernel_13242/3623981500.py:39: RuntimeWarning: This filename (../data/bids/derivatives/preprocessing/sub-34/sub-34_task-pitch_run-1_res-hi_desc-clean_epo.fif.gz) does not conform to MNE naming conventions. All events files should end with .eve, -eve.fif, -eve.fif.gz, -eve.lst, -eve.txt, _eve.fif, _eve.fif.gz, _eve.lst, _eve.txt or -annot.fif\n",
      "  events = mne.read_events(epoch_path)\n"
     ]
    },
    {
     "name": "stdout",
     "output_type": "stream",
     "text": [
      "Reading power values from: ../data/bids/derivatives/decoding/sub-39/sub-39_task-pitch_run-1_desc-stft_power.npy\n",
      "Reading events from epoch file: ../data/bids/derivatives/preprocessing/sub-39/sub-39_task-pitch_run-1_res-hi_desc-clean_epo.fif.gz\n"
     ]
    },
    {
     "name": "stderr",
     "output_type": "stream",
     "text": [
      "/tmp/ipykernel_13242/3623981500.py:39: RuntimeWarning: This filename (../data/bids/derivatives/preprocessing/sub-39/sub-39_task-pitch_run-1_res-hi_desc-clean_epo.fif.gz) does not conform to MNE naming conventions. All events files should end with .eve, -eve.fif, -eve.fif.gz, -eve.lst, -eve.txt, _eve.fif, _eve.fif.gz, _eve.lst, _eve.txt or -annot.fif\n",
      "  events = mne.read_events(epoch_path)\n"
     ]
    },
    {
     "name": "stdout",
     "output_type": "stream",
     "text": [
      "Reading power values from: ../data/bids/derivatives/decoding/sub-40/sub-40_task-pitch_run-1_desc-stft_power.npy\n",
      "Reading events from epoch file: ../data/bids/derivatives/preprocessing/sub-40/sub-40_task-pitch_run-1_res-hi_desc-clean_epo.fif.gz\n"
     ]
    },
    {
     "name": "stderr",
     "output_type": "stream",
     "text": [
      "/tmp/ipykernel_13242/3623981500.py:39: RuntimeWarning: This filename (../data/bids/derivatives/preprocessing/sub-40/sub-40_task-pitch_run-1_res-hi_desc-clean_epo.fif.gz) does not conform to MNE naming conventions. All events files should end with .eve, -eve.fif, -eve.fif.gz, -eve.lst, -eve.txt, _eve.fif, _eve.fif.gz, _eve.lst, _eve.txt or -annot.fif\n",
      "  events = mne.read_events(epoch_path)\n"
     ]
    },
    {
     "name": "stdout",
     "output_type": "stream",
     "text": [
      "Reading power values from: ../data/bids/derivatives/decoding/sub-27/sub-27_task-pitch_run-1_desc-stft_power.npy\n",
      "Reading events from epoch file: ../data/bids/derivatives/preprocessing/sub-27/sub-27_task-pitch_run-1_res-hi_desc-clean_epo.fif.gz\n"
     ]
    },
    {
     "name": "stderr",
     "output_type": "stream",
     "text": [
      "/tmp/ipykernel_13242/3623981500.py:39: RuntimeWarning: This filename (../data/bids/derivatives/preprocessing/sub-27/sub-27_task-pitch_run-1_res-hi_desc-clean_epo.fif.gz) does not conform to MNE naming conventions. All events files should end with .eve, -eve.fif, -eve.fif.gz, -eve.lst, -eve.txt, _eve.fif, _eve.fif.gz, _eve.lst, _eve.txt or -annot.fif\n",
      "  events = mne.read_events(epoch_path)\n"
     ]
    },
    {
     "name": "stdout",
     "output_type": "stream",
     "text": [
      "Reading power values from: ../data/bids/derivatives/decoding/sub-8/sub-8_task-pitch_run-1_desc-stft_power.npy\n",
      "Reading events from epoch file: ../data/bids/derivatives/preprocessing/sub-8/sub-8_task-pitch_run-1_res-hi_desc-clean_epo.fif.gz\n"
     ]
    },
    {
     "name": "stderr",
     "output_type": "stream",
     "text": [
      "/tmp/ipykernel_13242/3623981500.py:39: RuntimeWarning: This filename (../data/bids/derivatives/preprocessing/sub-8/sub-8_task-pitch_run-1_res-hi_desc-clean_epo.fif.gz) does not conform to MNE naming conventions. All events files should end with .eve, -eve.fif, -eve.fif.gz, -eve.lst, -eve.txt, _eve.fif, _eve.fif.gz, _eve.lst, _eve.txt or -annot.fif\n",
      "  events = mne.read_events(epoch_path)\n"
     ]
    },
    {
     "name": "stdout",
     "output_type": "stream",
     "text": [
      "Reading power values from: ../data/bids/derivatives/decoding/sub-33/sub-33_task-pitch_run-1_desc-stft_power.npy\n",
      "Reading events from epoch file: ../data/bids/derivatives/preprocessing/sub-33/sub-33_task-pitch_run-1_res-hi_desc-clean_epo.fif.gz\n"
     ]
    },
    {
     "name": "stderr",
     "output_type": "stream",
     "text": [
      "/tmp/ipykernel_13242/3623981500.py:39: RuntimeWarning: This filename (../data/bids/derivatives/preprocessing/sub-33/sub-33_task-pitch_run-1_res-hi_desc-clean_epo.fif.gz) does not conform to MNE naming conventions. All events files should end with .eve, -eve.fif, -eve.fif.gz, -eve.lst, -eve.txt, _eve.fif, _eve.fif.gz, _eve.lst, _eve.txt or -annot.fif\n",
      "  events = mne.read_events(epoch_path)\n"
     ]
    },
    {
     "name": "stdout",
     "output_type": "stream",
     "text": [
      "Reading power values from: ../data/bids/derivatives/decoding/sub-38/sub-38_task-pitch_run-1_desc-stft_power.npy\n",
      "Reading events from epoch file: ../data/bids/derivatives/preprocessing/sub-38/sub-38_task-pitch_run-1_res-hi_desc-clean_epo.fif.gz\n"
     ]
    },
    {
     "name": "stderr",
     "output_type": "stream",
     "text": [
      "/tmp/ipykernel_13242/3623981500.py:39: RuntimeWarning: This filename (../data/bids/derivatives/preprocessing/sub-38/sub-38_task-pitch_run-1_res-hi_desc-clean_epo.fif.gz) does not conform to MNE naming conventions. All events files should end with .eve, -eve.fif, -eve.fif.gz, -eve.lst, -eve.txt, _eve.fif, _eve.fif.gz, _eve.lst, _eve.txt or -annot.fif\n",
      "  events = mne.read_events(epoch_path)\n"
     ]
    },
    {
     "name": "stdout",
     "output_type": "stream",
     "text": [
      "Reading power values from: ../data/bids/derivatives/decoding/sub-38/sub-38_task-pitch_run-2_desc-stft_power.npy\n",
      "Reading events from epoch file: ../data/bids/derivatives/preprocessing/sub-38/sub-38_task-pitch_run-2_res-hi_desc-clean_epo.fif.gz\n"
     ]
    },
    {
     "name": "stderr",
     "output_type": "stream",
     "text": [
      "/tmp/ipykernel_13242/3623981500.py:39: RuntimeWarning: This filename (../data/bids/derivatives/preprocessing/sub-38/sub-38_task-pitch_run-2_res-hi_desc-clean_epo.fif.gz) does not conform to MNE naming conventions. All events files should end with .eve, -eve.fif, -eve.fif.gz, -eve.lst, -eve.txt, _eve.fif, _eve.fif.gz, _eve.lst, _eve.txt or -annot.fif\n",
      "  events = mne.read_events(epoch_path)\n"
     ]
    },
    {
     "name": "stdout",
     "output_type": "stream",
     "text": [
      "Reading power values from: ../data/bids/derivatives/decoding/sub-13/sub-13_task-pitch_run-1_desc-stft_power.npy\n",
      "Reading events from epoch file: ../data/bids/derivatives/preprocessing/sub-13/sub-13_task-pitch_run-1_res-hi_desc-clean_epo.fif.gz\n"
     ]
    },
    {
     "name": "stderr",
     "output_type": "stream",
     "text": [
      "/tmp/ipykernel_13242/3623981500.py:39: RuntimeWarning: This filename (../data/bids/derivatives/preprocessing/sub-13/sub-13_task-pitch_run-1_res-hi_desc-clean_epo.fif.gz) does not conform to MNE naming conventions. All events files should end with .eve, -eve.fif, -eve.fif.gz, -eve.lst, -eve.txt, _eve.fif, _eve.fif.gz, _eve.lst, _eve.txt or -annot.fif\n",
      "  events = mne.read_events(epoch_path)\n"
     ]
    },
    {
     "name": "stdout",
     "output_type": "stream",
     "text": [
      "Reading power values from: ../data/bids/derivatives/decoding/sub-44/sub-44_task-pitch_run-1_desc-stft_power.npy\n",
      "Reading events from epoch file: ../data/bids/derivatives/preprocessing/sub-44/sub-44_task-pitch_run-1_res-hi_desc-clean_epo.fif.gz\n"
     ]
    },
    {
     "name": "stderr",
     "output_type": "stream",
     "text": [
      "/tmp/ipykernel_13242/3623981500.py:39: RuntimeWarning: This filename (../data/bids/derivatives/preprocessing/sub-44/sub-44_task-pitch_run-1_res-hi_desc-clean_epo.fif.gz) does not conform to MNE naming conventions. All events files should end with .eve, -eve.fif, -eve.fif.gz, -eve.lst, -eve.txt, _eve.fif, _eve.fif.gz, _eve.lst, _eve.txt or -annot.fif\n",
      "  events = mne.read_events(epoch_path)\n"
     ]
    },
    {
     "name": "stdout",
     "output_type": "stream",
     "text": [
      "Reading power values from: ../data/bids/derivatives/decoding/sub-32/sub-32_task-pitch_run-1_desc-stft_power.npy\n",
      "Reading events from epoch file: ../data/bids/derivatives/preprocessing/sub-32/sub-32_task-pitch_run-1_res-hi_desc-clean_epo.fif.gz\n"
     ]
    },
    {
     "name": "stderr",
     "output_type": "stream",
     "text": [
      "/tmp/ipykernel_13242/3623981500.py:39: RuntimeWarning: This filename (../data/bids/derivatives/preprocessing/sub-32/sub-32_task-pitch_run-1_res-hi_desc-clean_epo.fif.gz) does not conform to MNE naming conventions. All events files should end with .eve, -eve.fif, -eve.fif.gz, -eve.lst, -eve.txt, _eve.fif, _eve.fif.gz, _eve.lst, _eve.txt or -annot.fif\n",
      "  events = mne.read_events(epoch_path)\n"
     ]
    },
    {
     "name": "stdout",
     "output_type": "stream",
     "text": [
      "Reading power values from: ../data/bids/derivatives/decoding/sub-37/sub-37_task-pitch_run-1_desc-stft_power.npy\n",
      "Reading events from epoch file: ../data/bids/derivatives/preprocessing/sub-37/sub-37_task-pitch_run-1_res-hi_desc-clean_epo.fif.gz\n"
     ]
    },
    {
     "name": "stderr",
     "output_type": "stream",
     "text": [
      "/tmp/ipykernel_13242/3623981500.py:39: RuntimeWarning: This filename (../data/bids/derivatives/preprocessing/sub-37/sub-37_task-pitch_run-1_res-hi_desc-clean_epo.fif.gz) does not conform to MNE naming conventions. All events files should end with .eve, -eve.fif, -eve.fif.gz, -eve.lst, -eve.txt, _eve.fif, _eve.fif.gz, _eve.lst, _eve.txt or -annot.fif\n",
      "  events = mne.read_events(epoch_path)\n"
     ]
    },
    {
     "name": "stdout",
     "output_type": "stream",
     "text": [
      "Reading power values from: ../data/bids/derivatives/decoding/sub-12/sub-12_task-pitch_run-1_desc-stft_power.npy\n",
      "Reading events from epoch file: ../data/bids/derivatives/preprocessing/sub-12/sub-12_task-pitch_run-1_res-hi_desc-clean_epo.fif.gz\n"
     ]
    },
    {
     "name": "stderr",
     "output_type": "stream",
     "text": [
      "/tmp/ipykernel_13242/3623981500.py:39: RuntimeWarning: This filename (../data/bids/derivatives/preprocessing/sub-12/sub-12_task-pitch_run-1_res-hi_desc-clean_epo.fif.gz) does not conform to MNE naming conventions. All events files should end with .eve, -eve.fif, -eve.fif.gz, -eve.lst, -eve.txt, _eve.fif, _eve.fif.gz, _eve.lst, _eve.txt or -annot.fif\n",
      "  events = mne.read_events(epoch_path)\n"
     ]
    },
    {
     "name": "stdout",
     "output_type": "stream",
     "text": [
      "Reading power values from: ../data/bids/derivatives/decoding/sub-17/sub-17_task-pitch_run-1_desc-stft_power.npy\n",
      "Reading events from epoch file: ../data/bids/derivatives/preprocessing/sub-17/sub-17_task-pitch_run-1_res-hi_desc-clean_epo.fif.gz\n"
     ]
    },
    {
     "name": "stderr",
     "output_type": "stream",
     "text": [
      "/tmp/ipykernel_13242/3623981500.py:39: RuntimeWarning: This filename (../data/bids/derivatives/preprocessing/sub-17/sub-17_task-pitch_run-1_res-hi_desc-clean_epo.fif.gz) does not conform to MNE naming conventions. All events files should end with .eve, -eve.fif, -eve.fif.gz, -eve.lst, -eve.txt, _eve.fif, _eve.fif.gz, _eve.lst, _eve.txt or -annot.fif\n",
      "  events = mne.read_events(epoch_path)\n"
     ]
    },
    {
     "name": "stdout",
     "output_type": "stream",
     "text": [
      "Reading power values from: ../data/bids/derivatives/decoding/sub-9/sub-9_task-pitch_run-1_desc-stft_power.npy\n",
      "Reading events from epoch file: ../data/bids/derivatives/preprocessing/sub-9/sub-9_task-pitch_run-1_res-hi_desc-clean_epo.fif.gz\n"
     ]
    },
    {
     "name": "stderr",
     "output_type": "stream",
     "text": [
      "/tmp/ipykernel_13242/3623981500.py:39: RuntimeWarning: This filename (../data/bids/derivatives/preprocessing/sub-9/sub-9_task-pitch_run-1_res-hi_desc-clean_epo.fif.gz) does not conform to MNE naming conventions. All events files should end with .eve, -eve.fif, -eve.fif.gz, -eve.lst, -eve.txt, _eve.fif, _eve.fif.gz, _eve.lst, _eve.txt or -annot.fif\n",
      "  events = mne.read_events(epoch_path)\n"
     ]
    },
    {
     "name": "stdout",
     "output_type": "stream",
     "text": [
      "Reading power values from: ../data/bids/derivatives/decoding/sub-43/sub-43_task-pitch_run-1_desc-stft_power.npy\n",
      "Reading events from epoch file: ../data/bids/derivatives/preprocessing/sub-43/sub-43_task-pitch_run-1_res-hi_desc-clean_epo.fif.gz\n"
     ]
    },
    {
     "name": "stderr",
     "output_type": "stream",
     "text": [
      "/tmp/ipykernel_13242/3623981500.py:39: RuntimeWarning: This filename (../data/bids/derivatives/preprocessing/sub-43/sub-43_task-pitch_run-1_res-hi_desc-clean_epo.fif.gz) does not conform to MNE naming conventions. All events files should end with .eve, -eve.fif, -eve.fif.gz, -eve.lst, -eve.txt, _eve.fif, _eve.fif.gz, _eve.lst, _eve.txt or -annot.fif\n",
      "  events = mne.read_events(epoch_path)\n"
     ]
    },
    {
     "name": "stdout",
     "output_type": "stream",
     "text": [
      "Reading power values from: ../data/bids/derivatives/decoding/sub-36/sub-36_task-pitch_run-1_desc-stft_power.npy\n",
      "Reading events from epoch file: ../data/bids/derivatives/preprocessing/sub-36/sub-36_task-pitch_run-1_res-hi_desc-clean_epo.fif.gz\n"
     ]
    },
    {
     "name": "stderr",
     "output_type": "stream",
     "text": [
      "/tmp/ipykernel_13242/3623981500.py:39: RuntimeWarning: This filename (../data/bids/derivatives/preprocessing/sub-36/sub-36_task-pitch_run-1_res-hi_desc-clean_epo.fif.gz) does not conform to MNE naming conventions. All events files should end with .eve, -eve.fif, -eve.fif.gz, -eve.lst, -eve.txt, _eve.fif, _eve.fif.gz, _eve.lst, _eve.txt or -annot.fif\n",
      "  events = mne.read_events(epoch_path)\n"
     ]
    },
    {
     "name": "stdout",
     "output_type": "stream",
     "text": [
      "Reading power values from: ../data/bids/derivatives/decoding/sub-11/sub-11_task-pitch_run-1_desc-stft_power.npy\n",
      "Reading events from epoch file: ../data/bids/derivatives/preprocessing/sub-11/sub-11_task-pitch_run-1_res-hi_desc-clean_epo.fif.gz\n"
     ]
    },
    {
     "name": "stderr",
     "output_type": "stream",
     "text": [
      "/tmp/ipykernel_13242/3623981500.py:39: RuntimeWarning: This filename (../data/bids/derivatives/preprocessing/sub-11/sub-11_task-pitch_run-1_res-hi_desc-clean_epo.fif.gz) does not conform to MNE naming conventions. All events files should end with .eve, -eve.fif, -eve.fif.gz, -eve.lst, -eve.txt, _eve.fif, _eve.fif.gz, _eve.lst, _eve.txt or -annot.fif\n",
      "  events = mne.read_events(epoch_path)\n"
     ]
    },
    {
     "name": "stdout",
     "output_type": "stream",
     "text": [
      "Reading power values from: ../data/bids/derivatives/decoding/sub-16/sub-16_task-pitch_run-1_desc-stft_power.npy\n",
      "Reading events from epoch file: ../data/bids/derivatives/preprocessing/sub-16/sub-16_task-pitch_run-1_res-hi_desc-clean_epo.fif.gz\n"
     ]
    },
    {
     "name": "stderr",
     "output_type": "stream",
     "text": [
      "/tmp/ipykernel_13242/3623981500.py:39: RuntimeWarning: This filename (../data/bids/derivatives/preprocessing/sub-16/sub-16_task-pitch_run-1_res-hi_desc-clean_epo.fif.gz) does not conform to MNE naming conventions. All events files should end with .eve, -eve.fif, -eve.fif.gz, -eve.lst, -eve.txt, _eve.fif, _eve.fif.gz, _eve.lst, _eve.txt or -annot.fif\n",
      "  events = mne.read_events(epoch_path)\n"
     ]
    },
    {
     "name": "stdout",
     "output_type": "stream",
     "text": [
      "Reading power values from: ../data/bids/derivatives/decoding/sub-42/sub-42_task-pitch_run-1_desc-stft_power.npy\n",
      "Reading events from epoch file: ../data/bids/derivatives/preprocessing/sub-42/sub-42_task-pitch_run-1_res-hi_desc-clean_epo.fif.gz\n"
     ]
    },
    {
     "name": "stderr",
     "output_type": "stream",
     "text": [
      "/tmp/ipykernel_13242/3623981500.py:39: RuntimeWarning: This filename (../data/bids/derivatives/preprocessing/sub-42/sub-42_task-pitch_run-1_res-hi_desc-clean_epo.fif.gz) does not conform to MNE naming conventions. All events files should end with .eve, -eve.fif, -eve.fif.gz, -eve.lst, -eve.txt, _eve.fif, _eve.fif.gz, _eve.lst, _eve.txt or -annot.fif\n",
      "  events = mne.read_events(epoch_path)\n"
     ]
    },
    {
     "name": "stdout",
     "output_type": "stream",
     "text": [
      "Reading power values from: ../data/bids/derivatives/decoding/sub-22/sub-22_task-pitch_run-1_desc-stft_power.npy\n",
      "Reading events from epoch file: ../data/bids/derivatives/preprocessing/sub-22/sub-22_task-pitch_run-1_res-hi_desc-clean_epo.fif.gz\n"
     ]
    },
    {
     "name": "stderr",
     "output_type": "stream",
     "text": [
      "/tmp/ipykernel_13242/3623981500.py:39: RuntimeWarning: This filename (../data/bids/derivatives/preprocessing/sub-22/sub-22_task-pitch_run-1_res-hi_desc-clean_epo.fif.gz) does not conform to MNE naming conventions. All events files should end with .eve, -eve.fif, -eve.fif.gz, -eve.lst, -eve.txt, _eve.fif, _eve.fif.gz, _eve.lst, _eve.txt or -annot.fif\n",
      "  events = mne.read_events(epoch_path)\n"
     ]
    },
    {
     "name": "stdout",
     "output_type": "stream",
     "text": [
      "Reading power values from: ../data/bids/derivatives/decoding/sub-10/sub-10_task-pitch_run-1_desc-stft_power.npy\n",
      "Reading events from epoch file: ../data/bids/derivatives/preprocessing/sub-10/sub-10_task-pitch_run-1_res-hi_desc-clean_epo.fif.gz\n"
     ]
    },
    {
     "name": "stderr",
     "output_type": "stream",
     "text": [
      "/tmp/ipykernel_13242/3623981500.py:39: RuntimeWarning: This filename (../data/bids/derivatives/preprocessing/sub-10/sub-10_task-pitch_run-1_res-hi_desc-clean_epo.fif.gz) does not conform to MNE naming conventions. All events files should end with .eve, -eve.fif, -eve.fif.gz, -eve.lst, -eve.txt, _eve.fif, _eve.fif.gz, _eve.lst, _eve.txt or -annot.fif\n",
      "  events = mne.read_events(epoch_path)\n"
     ]
    },
    {
     "name": "stdout",
     "output_type": "stream",
     "text": [
      "Reading power values from: ../data/bids/derivatives/decoding/sub-15/sub-15_task-pitch_run-1_desc-stft_power.npy\n",
      "Reading events from epoch file: ../data/bids/derivatives/preprocessing/sub-15/sub-15_task-pitch_run-1_res-hi_desc-clean_epo.fif.gz\n"
     ]
    },
    {
     "name": "stderr",
     "output_type": "stream",
     "text": [
      "/tmp/ipykernel_13242/3623981500.py:39: RuntimeWarning: This filename (../data/bids/derivatives/preprocessing/sub-15/sub-15_task-pitch_run-1_res-hi_desc-clean_epo.fif.gz) does not conform to MNE naming conventions. All events files should end with .eve, -eve.fif, -eve.fif.gz, -eve.lst, -eve.txt, _eve.fif, _eve.fif.gz, _eve.lst, _eve.txt or -annot.fif\n",
      "  events = mne.read_events(epoch_path)\n"
     ]
    },
    {
     "name": "stdout",
     "output_type": "stream",
     "text": [
      "Reading power values from: ../data/bids/derivatives/decoding/sub-21/sub-21_task-pitch_run-1_desc-stft_power.npy\n",
      "Reading events from epoch file: ../data/bids/derivatives/preprocessing/sub-21/sub-21_task-pitch_run-1_res-hi_desc-clean_epo.fif.gz\n"
     ]
    },
    {
     "name": "stderr",
     "output_type": "stream",
     "text": [
      "/tmp/ipykernel_13242/3623981500.py:39: RuntimeWarning: This filename (../data/bids/derivatives/preprocessing/sub-21/sub-21_task-pitch_run-1_res-hi_desc-clean_epo.fif.gz) does not conform to MNE naming conventions. All events files should end with .eve, -eve.fif, -eve.fif.gz, -eve.lst, -eve.txt, _eve.fif, _eve.fif.gz, _eve.lst, _eve.txt or -annot.fif\n",
      "  events = mne.read_events(epoch_path)\n"
     ]
    },
    {
     "name": "stdout",
     "output_type": "stream",
     "text": [
      "Reading power values from: ../data/bids/derivatives/decoding/sub-26/sub-26_task-pitch_run-1_desc-stft_power.npy\n",
      "Reading events from epoch file: ../data/bids/derivatives/preprocessing/sub-26/sub-26_task-pitch_run-1_res-hi_desc-clean_epo.fif.gz\n"
     ]
    },
    {
     "name": "stderr",
     "output_type": "stream",
     "text": [
      "/tmp/ipykernel_13242/3623981500.py:39: RuntimeWarning: This filename (../data/bids/derivatives/preprocessing/sub-26/sub-26_task-pitch_run-1_res-hi_desc-clean_epo.fif.gz) does not conform to MNE naming conventions. All events files should end with .eve, -eve.fif, -eve.fif.gz, -eve.lst, -eve.txt, _eve.fif, _eve.fif.gz, _eve.lst, _eve.txt or -annot.fif\n",
      "  events = mne.read_events(epoch_path)\n"
     ]
    },
    {
     "name": "stdout",
     "output_type": "stream",
     "text": [
      "Reading power values from: ../data/bids/derivatives/decoding/sub-5/sub-5_task-pitch_run-1_desc-stft_power.npy\n",
      "Reading events from epoch file: ../data/bids/derivatives/preprocessing/sub-5/sub-5_task-pitch_run-1_res-hi_desc-clean_epo.fif.gz\n"
     ]
    },
    {
     "name": "stderr",
     "output_type": "stream",
     "text": [
      "/tmp/ipykernel_13242/3623981500.py:39: RuntimeWarning: This filename (../data/bids/derivatives/preprocessing/sub-5/sub-5_task-pitch_run-1_res-hi_desc-clean_epo.fif.gz) does not conform to MNE naming conventions. All events files should end with .eve, -eve.fif, -eve.fif.gz, -eve.lst, -eve.txt, _eve.fif, _eve.fif.gz, _eve.lst, _eve.txt or -annot.fif\n",
      "  events = mne.read_events(epoch_path)\n"
     ]
    },
    {
     "name": "stdout",
     "output_type": "stream",
     "text": [
      "Reading power values from: ../data/bids/derivatives/decoding/sub-3/sub-3_task-pitch_run-1_desc-stft_power.npy\n",
      "Reading events from epoch file: ../data/bids/derivatives/preprocessing/sub-3/sub-3_task-pitch_run-1_res-hi_desc-clean_epo.fif.gz\n"
     ]
    },
    {
     "name": "stderr",
     "output_type": "stream",
     "text": [
      "/tmp/ipykernel_13242/3623981500.py:39: RuntimeWarning: This filename (../data/bids/derivatives/preprocessing/sub-3/sub-3_task-pitch_run-1_res-hi_desc-clean_epo.fif.gz) does not conform to MNE naming conventions. All events files should end with .eve, -eve.fif, -eve.fif.gz, -eve.lst, -eve.txt, _eve.fif, _eve.fif.gz, _eve.lst, _eve.txt or -annot.fif\n",
      "  events = mne.read_events(epoch_path)\n"
     ]
    },
    {
     "name": "stdout",
     "output_type": "stream",
     "text": [
      "Reading power values from: ../data/bids/derivatives/decoding/sub-3/sub-3_task-pitch_run-2_desc-stft_power.npy\n",
      "Reading events from epoch file: ../data/bids/derivatives/preprocessing/sub-3/sub-3_task-pitch_run-2_res-hi_desc-clean_epo.fif.gz\n"
     ]
    },
    {
     "name": "stderr",
     "output_type": "stream",
     "text": [
      "/tmp/ipykernel_13242/3623981500.py:39: RuntimeWarning: This filename (../data/bids/derivatives/preprocessing/sub-3/sub-3_task-pitch_run-2_res-hi_desc-clean_epo.fif.gz) does not conform to MNE naming conventions. All events files should end with .eve, -eve.fif, -eve.fif.gz, -eve.lst, -eve.txt, _eve.fif, _eve.fif.gz, _eve.lst, _eve.txt or -annot.fif\n",
      "  events = mne.read_events(epoch_path)\n"
     ]
    },
    {
     "name": "stdout",
     "output_type": "stream",
     "text": [
      "Reading power values from: ../data/bids/derivatives/decoding/sub-14/sub-14_task-pitch_run-1_desc-stft_power.npy\n",
      "Reading events from epoch file: ../data/bids/derivatives/preprocessing/sub-14/sub-14_task-pitch_run-1_res-hi_desc-clean_epo.fif.gz\n"
     ]
    },
    {
     "name": "stderr",
     "output_type": "stream",
     "text": [
      "/tmp/ipykernel_13242/3623981500.py:39: RuntimeWarning: This filename (../data/bids/derivatives/preprocessing/sub-14/sub-14_task-pitch_run-1_res-hi_desc-clean_epo.fif.gz) does not conform to MNE naming conventions. All events files should end with .eve, -eve.fif, -eve.fif.gz, -eve.lst, -eve.txt, _eve.fif, _eve.fif.gz, _eve.lst, _eve.txt or -annot.fif\n",
      "  events = mne.read_events(epoch_path)\n"
     ]
    },
    {
     "name": "stdout",
     "output_type": "stream",
     "text": [
      "Reading power values from: ../data/bids/derivatives/decoding/sub-19/sub-19_task-pitch_run-1_desc-stft_power.npy\n",
      "Reading events from epoch file: ../data/bids/derivatives/preprocessing/sub-19/sub-19_task-pitch_run-1_res-hi_desc-clean_epo.fif.gz\n"
     ]
    },
    {
     "name": "stderr",
     "output_type": "stream",
     "text": [
      "/tmp/ipykernel_13242/3623981500.py:39: RuntimeWarning: This filename (../data/bids/derivatives/preprocessing/sub-19/sub-19_task-pitch_run-1_res-hi_desc-clean_epo.fif.gz) does not conform to MNE naming conventions. All events files should end with .eve, -eve.fif, -eve.fif.gz, -eve.lst, -eve.txt, _eve.fif, _eve.fif.gz, _eve.lst, _eve.txt or -annot.fif\n",
      "  events = mne.read_events(epoch_path)\n"
     ]
    },
    {
     "name": "stdout",
     "output_type": "stream",
     "text": [
      "Reading power values from: ../data/bids/derivatives/decoding/sub-20/sub-20_task-pitch_run-1_desc-stft_power.npy\n",
      "Reading events from epoch file: ../data/bids/derivatives/preprocessing/sub-20/sub-20_task-pitch_run-1_res-hi_desc-clean_epo.fif.gz\n"
     ]
    },
    {
     "name": "stderr",
     "output_type": "stream",
     "text": [
      "/tmp/ipykernel_13242/3623981500.py:39: RuntimeWarning: This filename (../data/bids/derivatives/preprocessing/sub-20/sub-20_task-pitch_run-1_res-hi_desc-clean_epo.fif.gz) does not conform to MNE naming conventions. All events files should end with .eve, -eve.fif, -eve.fif.gz, -eve.lst, -eve.txt, _eve.fif, _eve.fif.gz, _eve.lst, _eve.txt or -annot.fif\n",
      "  events = mne.read_events(epoch_path)\n"
     ]
    },
    {
     "name": "stdout",
     "output_type": "stream",
     "text": [
      "Reading power values from: ../data/bids/derivatives/decoding/sub-31/sub-31_task-pitch_run-1_desc-stft_power.npy\n",
      "Reading events from epoch file: ../data/bids/derivatives/preprocessing/sub-31/sub-31_task-pitch_run-1_res-hi_desc-clean_epo.fif.gz\n"
     ]
    },
    {
     "name": "stderr",
     "output_type": "stream",
     "text": [
      "/tmp/ipykernel_13242/3623981500.py:39: RuntimeWarning: This filename (../data/bids/derivatives/preprocessing/sub-31/sub-31_task-pitch_run-1_res-hi_desc-clean_epo.fif.gz) does not conform to MNE naming conventions. All events files should end with .eve, -eve.fif, -eve.fif.gz, -eve.lst, -eve.txt, _eve.fif, _eve.fif.gz, _eve.lst, _eve.txt or -annot.fif\n",
      "  events = mne.read_events(epoch_path)\n"
     ]
    },
    {
     "name": "stdout",
     "output_type": "stream",
     "text": [
      "Reading power values from: ../data/bids/derivatives/decoding/sub-6/sub-6_task-pitch_run-1_desc-stft_power.npy\n",
      "Reading events from epoch file: ../data/bids/derivatives/preprocessing/sub-6/sub-6_task-pitch_run-1_res-hi_desc-clean_epo.fif.gz\n"
     ]
    },
    {
     "name": "stderr",
     "output_type": "stream",
     "text": [
      "/tmp/ipykernel_13242/3623981500.py:39: RuntimeWarning: This filename (../data/bids/derivatives/preprocessing/sub-6/sub-6_task-pitch_run-1_res-hi_desc-clean_epo.fif.gz) does not conform to MNE naming conventions. All events files should end with .eve, -eve.fif, -eve.fif.gz, -eve.lst, -eve.txt, _eve.fif, _eve.fif.gz, _eve.lst, _eve.txt or -annot.fif\n",
      "  events = mne.read_events(epoch_path)\n"
     ]
    },
    {
     "name": "stdout",
     "output_type": "stream",
     "text": [
      "Reading power values from: ../data/bids/derivatives/decoding/sub-18/sub-18_task-pitch_run-1_desc-stft_power.npy\n",
      "Reading events from epoch file: ../data/bids/derivatives/preprocessing/sub-18/sub-18_task-pitch_run-1_res-hi_desc-clean_epo.fif.gz\n"
     ]
    },
    {
     "name": "stderr",
     "output_type": "stream",
     "text": [
      "/tmp/ipykernel_13242/3623981500.py:39: RuntimeWarning: This filename (../data/bids/derivatives/preprocessing/sub-18/sub-18_task-pitch_run-1_res-hi_desc-clean_epo.fif.gz) does not conform to MNE naming conventions. All events files should end with .eve, -eve.fif, -eve.fif.gz, -eve.lst, -eve.txt, _eve.fif, _eve.fif.gz, _eve.lst, _eve.txt or -annot.fif\n",
      "  events = mne.read_events(epoch_path)\n"
     ]
    },
    {
     "name": "stdout",
     "output_type": "stream",
     "text": [
      "Reading power values from: ../data/bids/derivatives/decoding/sub-4/sub-4_task-pitch_run-2_desc-stft_power.npy\n",
      "Reading events from epoch file: ../data/bids/derivatives/preprocessing/sub-4/sub-4_task-pitch_run-2_res-hi_desc-clean_epo.fif.gz\n"
     ]
    },
    {
     "name": "stderr",
     "output_type": "stream",
     "text": [
      "/tmp/ipykernel_13242/3623981500.py:39: RuntimeWarning: This filename (../data/bids/derivatives/preprocessing/sub-4/sub-4_task-pitch_run-2_res-hi_desc-clean_epo.fif.gz) does not conform to MNE naming conventions. All events files should end with .eve, -eve.fif, -eve.fif.gz, -eve.lst, -eve.txt, _eve.fif, _eve.fif.gz, _eve.lst, _eve.txt or -annot.fif\n",
      "  events = mne.read_events(epoch_path)\n"
     ]
    },
    {
     "name": "stdout",
     "output_type": "stream",
     "text": [
      "Reading power values from: ../data/bids/derivatives/decoding/sub-4/sub-4_task-pitch_run-1_desc-stft_power.npy\n",
      "Reading events from epoch file: ../data/bids/derivatives/preprocessing/sub-4/sub-4_task-pitch_run-1_res-hi_desc-clean_epo.fif.gz\n"
     ]
    },
    {
     "name": "stderr",
     "output_type": "stream",
     "text": [
      "/tmp/ipykernel_13242/3623981500.py:39: RuntimeWarning: This filename (../data/bids/derivatives/preprocessing/sub-4/sub-4_task-pitch_run-1_res-hi_desc-clean_epo.fif.gz) does not conform to MNE naming conventions. All events files should end with .eve, -eve.fif, -eve.fif.gz, -eve.lst, -eve.txt, _eve.fif, _eve.fif.gz, _eve.lst, _eve.txt or -annot.fif\n",
      "  events = mne.read_events(epoch_path)\n"
     ]
    },
    {
     "name": "stdout",
     "output_type": "stream",
     "text": [
      "Reading power values from: ../data/bids/derivatives/decoding/sub-29/sub-29_task-pitch_run-1_desc-stft_power.npy\n",
      "Reading events from epoch file: ../data/bids/derivatives/preprocessing/sub-29/sub-29_task-pitch_run-1_res-hi_desc-clean_epo.fif.gz\n"
     ]
    },
    {
     "name": "stderr",
     "output_type": "stream",
     "text": [
      "/tmp/ipykernel_13242/3623981500.py:39: RuntimeWarning: This filename (../data/bids/derivatives/preprocessing/sub-29/sub-29_task-pitch_run-1_res-hi_desc-clean_epo.fif.gz) does not conform to MNE naming conventions. All events files should end with .eve, -eve.fif, -eve.fif.gz, -eve.lst, -eve.txt, _eve.fif, _eve.fif.gz, _eve.lst, _eve.txt or -annot.fif\n",
      "  events = mne.read_events(epoch_path)\n"
     ]
    },
    {
     "name": "stdout",
     "output_type": "stream",
     "text": [
      "Reading power values from: ../data/bids/derivatives/decoding/sub-30/sub-30_task-pitch_run-1_desc-stft_power.npy\n",
      "Reading events from epoch file: ../data/bids/derivatives/preprocessing/sub-30/sub-30_task-pitch_run-1_res-hi_desc-clean_epo.fif.gz\n"
     ]
    },
    {
     "name": "stderr",
     "output_type": "stream",
     "text": [
      "/tmp/ipykernel_13242/3623981500.py:39: RuntimeWarning: This filename (../data/bids/derivatives/preprocessing/sub-30/sub-30_task-pitch_run-1_res-hi_desc-clean_epo.fif.gz) does not conform to MNE naming conventions. All events files should end with .eve, -eve.fif, -eve.fif.gz, -eve.lst, -eve.txt, _eve.fif, _eve.fif.gz, _eve.lst, _eve.txt or -annot.fif\n",
      "  events = mne.read_events(epoch_path)\n"
     ]
    },
    {
     "name": "stdout",
     "output_type": "stream",
     "text": [
      "Reading power values from: ../data/bids/derivatives/decoding/sub-35/sub-35_task-pitch_run-1_desc-stft_power.npy\n",
      "Reading events from epoch file: ../data/bids/derivatives/preprocessing/sub-35/sub-35_task-pitch_run-1_res-hi_desc-clean_epo.fif.gz\n"
     ]
    },
    {
     "name": "stderr",
     "output_type": "stream",
     "text": [
      "/tmp/ipykernel_13242/3623981500.py:39: RuntimeWarning: This filename (../data/bids/derivatives/preprocessing/sub-35/sub-35_task-pitch_run-1_res-hi_desc-clean_epo.fif.gz) does not conform to MNE naming conventions. All events files should end with .eve, -eve.fif, -eve.fif.gz, -eve.lst, -eve.txt, _eve.fif, _eve.fif.gz, _eve.lst, _eve.txt or -annot.fif\n",
      "  events = mne.read_events(epoch_path)\n"
     ]
    }
   ],
   "source": [
    "def get_sub_and_run(fpath):\n",
    "    sub = re.findall(r'sub-(\\d{1,2})', npy_path)[0]\n",
    "    run = re.findall(r'run-(\\d{1})', npy_path)[0]\n",
    "    return(sub, run)\n",
    "\n",
    "def recode_events(events):\n",
    "    mapping = {10001: 100, 10002: 150, 10003: 200, 10004: 250, 10005: 50}\n",
    "    recoded_events = np.vectorize(mapping.get)(events)\n",
    "    return(recoded_events)\n",
    "\n",
    "# Get coordinates of all channels \n",
    "epoch_paths = glob.glob('../data/bids/derivatives/preprocessing/*/*res-hi*fif.gz')\n",
    "pattern = re.compile('sub-(\\d{1,2})_')\n",
    "epoch_sub_order = list(map(pattern.findall, epoch_paths))\n",
    "epoch_sub_order = list(itertools.chain(*epoch_sub_order))\n",
    "pattern = re.compile('run-(\\d{1,2})_')\n",
    "epoch_run_order = list(map(pattern.findall, epoch_paths))\n",
    "epoch_run_order = list(itertools.chain(*epoch_run_order))\n",
    "\n",
    "npy_paths = glob.glob('../data/bids/derivatives/decoding/*/*stft_power*')\n",
    "power = np.empty([])\n",
    "\n",
    "# for each captrak file\n",
    "for i, npy_path in enumerate(npy_paths):\n",
    "    \n",
    "    # get power\n",
    "    print(f\"Reading power values from: {npy_path}\")\n",
    "    sub_power = np.load(fpath)\n",
    "    \n",
    "    # get subject and run\n",
    "    sub, run = get_sub_and_run(fpath)\n",
    "    \n",
    "    # find the right epochs file\n",
    "    run_indices = [ind for ind, ele in enumerate(epoch_run_order) if ele == run]\n",
    "    sub_indices = [ind for ind, ele in enumerate(epoch_sub_order) if ele == sub]\n",
    "    ind = list(set(run_indices) & set(sub_indices))[0]\n",
    "    epoch_path = epoch_paths[ind]\n",
    "    epoch_sub, epoch_run = get_sub_and_run(epoch_path)\n",
    "    if (epoch_sub != sub) & (epoch_run != run):\n",
    "        sys.exit(\"Epoch file does not match stft_power file\")\n",
    "    \n",
    "    # read events\n",
    "    print(f\"Reading events from epoch file: {epoch_path}\")\n",
    "    events = mne.read_events(epoch_path)\n",
    "    events = recode_events(events)\n",
    "\n",
    "    # add events to power array\n",
    "    sub_power = [sub_power, events]\n",
    "    print(np.shape(sub_power))\n",
    "#     # get captrak file\n",
    "#     dig = mne.channels.read_dig_captrak(fname = captrak_path)\n",
    "    \n",
    "#     # load epochs object for same subject\n",
    "#     ind = epoch_sub_order.index('43')\n",
    "#     epoch_fpath = epoch_paths[ind]\n",
    "#     print(f\"Reading info from epoch file: {epoch_fpath}\")\n",
    "#     info = mne.io.read_info(epoch_fpath)\n",
    "\n",
    "#     # get coordinates\n",
    "#     ch_names = info.ch_names\n",
    "#     if len(ch_names) != N_CHANS:\n",
    "#         print(f\"ValueError: Incorrect number of channels, skipping subject {sub}!\")\n",
    "#         continue\n",
    "#     try:\n",
    "#         pos = np.stack([dig.get_positions()['ch_pos'][ch] for ch in ch_names])\n",
    "#     except:\n",
    "#         print(f\"KeyError: {captrak_path} is incomplete, likely missing FCz, skipping subject {sub}!\")\n",
    "#         continue\n",
    "        \n",
    "#     # Add to list\n",
    "#     pos = pos[..., np.newaxis]\n",
    "#     if i == 0:\n",
    "#         poss = pos\n",
    "#     else:\n",
    "#         poss = np.append(poss, pos, axis = 2)\n",
    "#     print(np.shape(poss))"
   ]
  },
  {
   "cell_type": "code",
   "execution_count": 142,
   "id": "ed2f1952",
   "metadata": {},
   "outputs": [
    {
     "data": {
      "text/plain": [
       "{0: 8,\n",
       " 1: 70,\n",
       " 2: 82,\n",
       " 3: 28,\n",
       " 4: 63,\n",
       " 5: 0,\n",
       " 6: 5,\n",
       " 7: 50,\n",
       " 8: 81,\n",
       " 9: 4,\n",
       " 10: 23,\n",
       " 11: 65,\n",
       " 12: 76,\n",
       " 13: 60,\n",
       " 14: 24,\n",
       " 15: 42,\n",
       " 16: 77,\n",
       " 17: 38,\n",
       " 18: 56,\n",
       " 19: 75,\n",
       " 20: 35,\n",
       " 21: 88,\n",
       " 22: 19,\n",
       " 23: 29,\n",
       " 24: 31,\n",
       " 25: 91,\n",
       " 26: 85,\n",
       " 27: 9,\n",
       " 28: 53,\n",
       " 29: 41,\n",
       " 30: 21,\n",
       " 31: 90,\n",
       " 32: 33,\n",
       " 33: 69,\n",
       " 34: 84,\n",
       " 35: 87,\n",
       " 36: 95,\n",
       " 37: 97,\n",
       " 38: 62,\n",
       " 39: 12,\n",
       " 40: 20,\n",
       " 41: 89,\n",
       " 42: 37,\n",
       " 43: 59,\n",
       " 44: 1,\n",
       " 45: 74,\n",
       " 46: 11,\n",
       " 47: 79,\n",
       " 48: 14,\n",
       " 49: 54,\n",
       " 50: 16,\n",
       " 51: 26,\n",
       " 52: 51,\n",
       " 53: 45,\n",
       " 54: 6,\n",
       " 55: 98,\n",
       " 56: 30,\n",
       " 57: 44,\n",
       " 58: 72,\n",
       " 59: 43,\n",
       " 60: 15,\n",
       " 61: 94,\n",
       " 62: 18,\n",
       " 63: 13,\n",
       " 64: 22,\n",
       " 65: 10,\n",
       " 66: 58,\n",
       " 67: 71,\n",
       " 68: 64,\n",
       " 69: 3,\n",
       " 70: 40,\n",
       " 71: 34,\n",
       " 72: 27,\n",
       " 73: 52,\n",
       " 74: 7,\n",
       " 75: 48,\n",
       " 76: 61,\n",
       " 77: 93,\n",
       " 78: 99,\n",
       " 79: 39,\n",
       " 80: 2,\n",
       " 81: 67,\n",
       " 82: 55,\n",
       " 83: 49,\n",
       " 84: 68,\n",
       " 85: 80,\n",
       " 86: 36,\n",
       " 87: 78,\n",
       " 88: 96,\n",
       " 89: 25,\n",
       " 90: 46,\n",
       " 91: 32,\n",
       " 92: 73,\n",
       " 93: 47,\n",
       " 94: 86,\n",
       " 95: 57,\n",
       " 96: 83,\n",
       " 97: 17,\n",
       " 98: 92,\n",
       " 99: 66}"
      ]
     },
     "execution_count": 142,
     "metadata": {},
     "output_type": "execute_result"
    }
   ],
   "source": [
    "mapping"
   ]
  },
  {
   "cell_type": "code",
   "execution_count": 140,
   "id": "aebfe30f",
   "metadata": {},
   "outputs": [
    {
     "data": {
      "text/plain": [
       "array([ 8, 70, 82, 28, 63,  0,  5, 50, 81,  4, 23, 65, 76, 60, 24, 42, 77,\n",
       "       38, 56, 75, 35, 88, 19, 29, 31, 91, 85,  9, 53, 41, 21, 90, 33, 69,\n",
       "       84, 87, 95, 97, 62, 12, 20, 89, 37, 59,  1, 74, 11, 79, 14, 54, 16,\n",
       "       26, 51, 45,  6, 98, 30, 44, 72, 43, 15, 94, 18, 13, 22, 10, 58, 71,\n",
       "       64,  3, 40, 34, 27, 52,  7, 48, 61, 93, 99, 39,  2, 67, 55, 49, 68,\n",
       "       80, 36, 78, 96, 25, 46, 32, 73, 47, 86, 57, 83, 17, 92, 66])"
      ]
     },
     "execution_count": 140,
     "metadata": {},
     "output_type": "execute_result"
    }
   ],
   "source": [
    "v"
   ]
  },
  {
   "cell_type": "code",
   "execution_count": 120,
   "id": "92d49350",
   "metadata": {},
   "outputs": [
    {
     "data": {
      "text/plain": [
       "array([ 8, 70, 82, 28, 63,  0,  5, 50, 81,  4, 23, 65, 76, 60, 24, 42, 77,\n",
       "       38, 56, 75, 35, 88, 19, 29, 31, 91, 85,  9, 53, 41, 21, 90, 33, 69,\n",
       "       84, 87, 95, 97, 62, 12, 20, 89, 37, 59,  1, 74, 11, 79, 14, 54, 16,\n",
       "       26, 51, 45,  6, 98, 30, 44, 72, 43, 15, 94, 18, 13, 22, 10, 58, 71,\n",
       "       64,  3, 40, 34, 27, 52,  7, 48, 61, 93, 99, 39,  2, 67, 55, 49, 68,\n",
       "       80, 36, 78, 96, 25, 46, 32, 73, 47, 86, 57, 83, 17, 92, 66])"
      ]
     },
     "execution_count": 120,
     "metadata": {},
     "output_type": "execute_result"
    }
   ],
   "source": [
    "v"
   ]
  },
  {
   "cell_type": "code",
   "execution_count": 128,
   "id": "cb240fee",
   "metadata": {},
   "outputs": [
    {
     "data": {
      "text/plain": [
       "array([[66, 92, 98, ..., 37, 79,  8],\n",
       "       [31,  0,  8, ..., 29, 66, 77],\n",
       "       [50,  4, 42, ..., 97,  9, 36],\n",
       "       ...,\n",
       "       [26, 41, 89, ..., 49, 68, 98],\n",
       "       [32, 66, 89, ..., 22, 49, 58],\n",
       "       [72, 13,  1, ..., 54, 76, 43]])"
      ]
     },
     "execution_count": 128,
     "metadata": {},
     "output_type": "execute_result"
    }
   ],
   "source": [
    "input_array"
   ]
  },
  {
   "cell_type": "code",
   "execution_count": 127,
   "id": "11ae97e8",
   "metadata": {},
   "outputs": [
    {
     "data": {
      "text/plain": [
       "array([[58, 73, 92, ..., 97, 39, 81],\n",
       "       [90,  8, 81, ..., 41, 58, 93],\n",
       "       [16, 63, 37, ..., 17,  4, 95],\n",
       "       ...,\n",
       "       [85, 89, 25, ..., 54, 64, 92],\n",
       "       [33, 58, 25, ..., 19, 54, 72],\n",
       "       [27, 60, 70, ...,  6, 61, 59]])"
      ]
     },
     "execution_count": 127,
     "metadata": {},
     "output_type": "execute_result"
    }
   ],
   "source": [
    "out2"
   ]
  },
  {
   "cell_type": "code",
   "execution_count": 102,
   "id": "8eb2f8be",
   "metadata": {},
   "outputs": [
    {
     "data": {
      "text/plain": [
       "dict_values([10001, 10002, 10003, 10004, 10005])"
      ]
     },
     "execution_count": 102,
     "metadata": {},
     "output_type": "execute_result"
    }
   ],
   "source": [
    "mapping.values()"
   ]
  },
  {
   "cell_type": "code",
   "execution_count": null,
   "id": "799ff08b",
   "metadata": {},
   "outputs": [],
   "source": []
  },
  {
   "cell_type": "code",
   "execution_count": 13,
   "id": "577e0a22",
   "metadata": {},
   "outputs": [
    {
     "name": "stdout",
     "output_type": "stream",
     "text": [
      "../data/bids/derivatives/decoding/sub-7/sub-7_task-pitch_run-1_desc-stft_power.npy\n",
      "(3841, 5, 19)\n",
      "(3841, 5, 19)\n",
      "../data/bids/derivatives/decoding/sub-28/sub-28_task-pitch_run-1_desc-stft_power.npy\n",
      "(4768, 5, 19)\n",
      "(8609, 5, 19)\n",
      "../data/bids/derivatives/decoding/sub-34/sub-34_task-pitch_run-1_desc-stft_power.npy\n",
      "(1921, 5, 19)\n",
      "(10530, 5, 19)\n",
      "../data/bids/derivatives/decoding/sub-39/sub-39_task-pitch_run-1_desc-stft_power.npy\n",
      "(4441, 5, 19)\n",
      "(14971, 5, 19)\n",
      "../data/bids/derivatives/decoding/sub-40/sub-40_task-pitch_run-1_desc-stft_power.npy\n",
      "(3841, 5, 19)\n",
      "(18812, 5, 19)\n",
      "../data/bids/derivatives/decoding/sub-27/sub-27_task-pitch_run-1_desc-stft_power.npy\n",
      "(4723, 5, 19)\n",
      "(23535, 5, 19)\n",
      "../data/bids/derivatives/decoding/sub-8/sub-8_task-pitch_run-1_desc-stft_power.npy\n",
      "(3841, 5, 19)\n",
      "(27376, 5, 19)\n",
      "../data/bids/derivatives/decoding/sub-33/sub-33_task-pitch_run-1_desc-stft_power.npy\n",
      "(4782, 5, 19)\n",
      "(32158, 5, 19)\n",
      "../data/bids/derivatives/decoding/sub-38/sub-38_task-pitch_run-1_desc-stft_power.npy\n",
      "(2881, 5, 19)\n",
      "(35039, 5, 19)\n",
      "../data/bids/derivatives/decoding/sub-38/sub-38_task-pitch_run-2_desc-stft_power.npy\n",
      "(558, 5, 19)\n",
      "(35597, 5, 19)\n",
      "../data/bids/derivatives/decoding/sub-13/sub-13_task-pitch_run-1_desc-stft_power.npy\n",
      "(3463, 5, 19)\n",
      "(39060, 5, 19)\n",
      "../data/bids/derivatives/decoding/sub-44/sub-44_task-pitch_run-1_desc-stft_power.npy\n",
      "(4299, 5, 19)\n",
      "(43359, 5, 19)\n",
      "../data/bids/derivatives/decoding/sub-32/sub-32_task-pitch_run-1_desc-stft_power.npy\n",
      "(4771, 5, 19)\n",
      "(48130, 5, 19)\n",
      "../data/bids/derivatives/decoding/sub-37/sub-37_task-pitch_run-1_desc-stft_power.npy\n",
      "(3841, 5, 19)\n",
      "(51971, 5, 19)\n",
      "../data/bids/derivatives/decoding/sub-12/sub-12_task-pitch_run-1_desc-stft_power.npy\n",
      "(4585, 5, 19)\n",
      "(56556, 5, 19)\n",
      "../data/bids/derivatives/decoding/sub-17/sub-17_task-pitch_run-1_desc-stft_power.npy\n",
      "(3841, 5, 19)\n",
      "(60397, 5, 19)\n",
      "../data/bids/derivatives/decoding/sub-9/sub-9_task-pitch_run-1_desc-stft_power.npy\n",
      "(1922, 5, 19)\n",
      "(62319, 5, 19)\n",
      "../data/bids/derivatives/decoding/sub-43/sub-43_task-pitch_run-1_desc-stft_power.npy\n",
      "(4795, 5, 19)\n",
      "(67114, 5, 19)\n",
      "../data/bids/derivatives/decoding/sub-36/sub-36_task-pitch_run-1_desc-stft_power.npy\n",
      "(4800, 5, 19)\n",
      "(71914, 5, 19)\n",
      "../data/bids/derivatives/decoding/sub-11/sub-11_task-pitch_run-1_desc-stft_power.npy\n",
      "(4788, 5, 19)\n",
      "(76702, 5, 19)\n",
      "../data/bids/derivatives/decoding/sub-16/sub-16_task-pitch_run-1_desc-stft_power.npy\n",
      "(3841, 5, 19)\n",
      "(80543, 5, 19)\n",
      "../data/bids/derivatives/decoding/sub-42/sub-42_task-pitch_run-1_desc-stft_power.npy\n",
      "(3696, 5, 19)\n",
      "(84239, 5, 19)\n",
      "../data/bids/derivatives/decoding/sub-2/sub-2_task-pitch_run-1_desc-stft_power.npy\n",
      "ValueError: stft coefficients have the wrong shape, skipping subject\n",
      "../data/bids/derivatives/decoding/sub-22/sub-22_task-pitch_run-1_desc-stft_power.npy\n",
      "(3841, 5, 19)\n",
      "(88080, 5, 19)\n",
      "../data/bids/derivatives/decoding/sub-10/sub-10_task-pitch_run-1_desc-stft_power.npy\n",
      "(3841, 5, 19)\n",
      "(91921, 5, 19)\n",
      "../data/bids/derivatives/decoding/sub-15/sub-15_task-pitch_run-1_desc-stft_power.npy\n",
      "(3841, 5, 19)\n",
      "(95762, 5, 19)\n",
      "../data/bids/derivatives/decoding/sub-21/sub-21_task-pitch_run-1_desc-stft_power.npy\n",
      "(3841, 5, 19)\n",
      "(99603, 5, 19)\n",
      "../data/bids/derivatives/decoding/sub-26/sub-26_task-pitch_run-1_desc-stft_power.npy\n",
      "(3841, 5, 19)\n",
      "(103444, 5, 19)\n",
      "../data/bids/derivatives/decoding/sub-5/sub-5_task-pitch_run-1_desc-stft_power.npy\n",
      "(3841, 5, 19)\n",
      "(107285, 5, 19)\n",
      "../data/bids/derivatives/decoding/sub-3/sub-3_task-pitch_run-1_desc-stft_power.npy\n",
      "(2332, 5, 19)\n",
      "(109617, 5, 19)\n",
      "../data/bids/derivatives/decoding/sub-3/sub-3_task-pitch_run-2_desc-stft_power.npy\n",
      "(2329, 5, 19)\n",
      "(111946, 5, 19)\n",
      "../data/bids/derivatives/decoding/sub-14/sub-14_task-pitch_run-1_desc-stft_power.npy\n",
      "(4724, 5, 19)\n",
      "(116670, 5, 19)\n",
      "../data/bids/derivatives/decoding/sub-19/sub-19_task-pitch_run-1_desc-stft_power.npy\n",
      "(3841, 5, 19)\n",
      "(120511, 5, 19)\n",
      "../data/bids/derivatives/decoding/sub-20/sub-20_task-pitch_run-1_desc-stft_power.npy\n",
      "(3841, 5, 19)\n",
      "(124352, 5, 19)\n",
      "../data/bids/derivatives/decoding/sub-31/sub-31_task-pitch_run-1_desc-stft_power.npy\n",
      "ValueError: stft coefficients have the wrong shape, skipping subject\n",
      "../data/bids/derivatives/decoding/sub-6/sub-6_task-pitch_run-1_desc-stft_power.npy\n",
      "(4775, 5, 19)\n",
      "(129127, 5, 19)\n",
      "../data/bids/derivatives/decoding/sub-18/sub-18_task-pitch_run-1_desc-stft_power.npy\n",
      "(4757, 5, 19)\n",
      "(133884, 5, 19)\n",
      "../data/bids/derivatives/decoding/sub-4/sub-4_task-pitch_run-2_desc-stft_power.npy\n",
      "(1921, 5, 19)\n",
      "(135805, 5, 19)\n",
      "../data/bids/derivatives/decoding/sub-4/sub-4_task-pitch_run-1_desc-stft_power.npy\n",
      "(2416, 5, 19)\n",
      "(138221, 5, 19)\n",
      "../data/bids/derivatives/decoding/sub-29/sub-29_task-pitch_run-1_desc-stft_power.npy\n",
      "(4775, 5, 19)\n",
      "(142996, 5, 19)\n",
      "../data/bids/derivatives/decoding/sub-30/sub-30_task-pitch_run-1_desc-stft_power.npy\n",
      "(4774, 5, 19)\n",
      "(147770, 5, 19)\n",
      "../data/bids/derivatives/decoding/sub-35/sub-35_task-pitch_run-1_desc-stft_power.npy\n",
      "(4676, 5, 19)\n",
      "(152446, 5, 19)\n"
     ]
    }
   ],
   "source": [
    "# Read stft_power files and append all to data frame\n",
    "first_sub = True\n",
    "power = np.empty([])\n",
    "\n",
    "for fpath in glob.glob(\"../data/bids/derivatives/decoding/*/*stft_power*\"):\n",
    "    print(fpath)\n",
    "    sub_power = np.load(fpath)\n",
    "\n",
    "    # Average over all channels\n",
    "    sub_power = np.mean(sub_power, axis = 1)\n",
    "    \n",
    "    if first_sub == True:\n",
    "        power = sub_power\n",
    "        first_sub = False\n",
    "    else:\n",
    "        try: \n",
    "            power = np.append(power, sub_power, axis = 0)\n",
    "        except:\n",
    "            print(\"ValueError: stft coefficients have the wrong shape, skipping subject\")\n",
    "            continue\n",
    "            \n",
    "            \n",
    "#     try: \n",
    "    print(np.shape(sub_power)) # n_epochs, n_chans, n_freqs, n_windows\n",
    "    print(np.shape(power))\n",
    "#     power = np.stack([power, sub_power]) # CHANGE STACKING\n",
    "#     except:\n",
    "#         print(\"ValueError: subject is probably missing a channel, skipping file\")\n",
    "#         continue"
   ]
  },
  {
   "cell_type": "code",
   "execution_count": 14,
   "id": "8e5a33d6",
   "metadata": {},
   "outputs": [
    {
     "data": {
      "text/plain": [
       "(152446, 5, 19)"
      ]
     },
     "execution_count": 14,
     "metadata": {},
     "output_type": "execute_result"
    }
   ],
   "source": [
    "np.shape(power)"
   ]
  },
  {
   "cell_type": "code",
   "execution_count": 10,
   "id": "b3007ccc",
   "metadata": {},
   "outputs": [
    {
     "data": {
      "text/plain": [
       "(4553, 19)"
      ]
     },
     "execution_count": 10,
     "metadata": {},
     "output_type": "execute_result"
    }
   ],
   "source": [
    "np.shape(sub_power)"
   ]
  },
  {
   "cell_type": "code",
   "execution_count": 11,
   "id": "0dbe1c2b",
   "metadata": {},
   "outputs": [
    {
     "data": {
      "text/plain": [
       "'/project2/hcn1/pitch_tracking/scripts'"
      ]
     },
     "execution_count": 11,
     "metadata": {},
     "output_type": "execute_result"
    }
   ],
   "source": [
    "os.getcwd()"
   ]
  },
  {
   "cell_type": "code",
   "execution_count": null,
   "id": "dee9fe9c",
   "metadata": {},
   "outputs": [],
   "source": []
  }
 ],
 "metadata": {
  "kernelspec": {
   "display_name": "Python 3 (ipykernel)",
   "language": "python",
   "name": "python3"
  },
  "language_info": {
   "codemirror_mode": {
    "name": "ipython",
    "version": 3
   },
   "file_extension": ".py",
   "mimetype": "text/x-python",
   "name": "python",
   "nbconvert_exporter": "python",
   "pygments_lexer": "ipython3",
   "version": "3.10.4"
  }
 },
 "nbformat": 4,
 "nbformat_minor": 5
}
