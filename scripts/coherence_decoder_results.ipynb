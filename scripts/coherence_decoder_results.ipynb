{
 "cells": [
  {
   "cell_type": "code",
   "execution_count": 1,
   "id": "8e9f194e",
   "metadata": {},
   "outputs": [],
   "source": [
    "import os\n",
    "import os.path as op\n",
    "# import mne\n",
    "import numpy as np\n",
    "import re\n",
    "import itertools\n",
    "import matplotlib.pyplot as plt\n",
    "import pandas as pd\n",
    "import seaborn as sns\n",
    "from pathlib import Path\n",
    "from scipy.stats import ttest_1samp"
   ]
  },
  {
   "cell_type": "markdown",
   "id": "7de0113e",
   "metadata": {},
   "source": [
    "### Coherence"
   ]
  },
  {
   "cell_type": "markdown",
   "id": "47d97d4d",
   "metadata": {},
   "source": [
    "#### Load data"
   ]
  },
  {
   "cell_type": "code",
   "execution_count": 4,
   "id": "42989cd7",
   "metadata": {},
   "outputs": [],
   "source": [
    "data = {}\n",
    "root = Path('../data/bids/derivatives/decoding/')\n",
    "for file in root.rglob(\"*\"):\n",
    "    if '_coh' not in file.name:\n",
    "        continue\n",
    "    print(file)\n",
    "    key = re.findall('(.*?)_desc', file.name)[0]\n",
    "    value = np.load(file)\n",
    "    if len(value) != 5:\n",
    "        print(file)\n",
    "        print(f'Wrong shape: {len(value)} instead of 5')\n",
    "        continue\n",
    "    data[key] = value\n",
    "\n",
    "df = pd.DataFrame.from_dict(data)\n",
    "df = df.transpose()"
   ]
  },
  {
   "cell_type": "markdown",
   "id": "bd22f510",
   "metadata": {},
   "source": [
    "#### Reshape data for seaborn"
   ]
  },
  {
   "cell_type": "code",
   "execution_count": 16,
   "id": "90f4b0bb",
   "metadata": {},
   "outputs": [],
   "source": [
    "# Rename columns for easy transformation\n",
    "df_sns = df.T\n",
    "cols = list(df_sns.columns)\n",
    "filter_cols = re.compile('(sub-\\d{1,2})_')\n",
    "subs = list(map(filter_cols.findall, cols))\n",
    "subs = list(itertools.chain(*subs))\n",
    "df_sns.columns = subs\n",
    "df_sns = df_sns.reset_index()\n",
    "\n",
    "# Pivot data\n",
    "df_sns = pd.wide_to_long(df_sns, stubnames = 'sub-', i = 'index', j = 'sub')\n",
    "df_sns.columns = ['accuracy']\n",
    "df_sns = df_sns.reset_index()\n",
    "df_sns = df_sns.rename(columns={\"index\": \"cond\"})"
   ]
  },
  {
   "cell_type": "markdown",
   "id": "e176e696",
   "metadata": {},
   "source": [
    "#### Plot"
   ]
  },
  {
   "cell_type": "code",
   "execution_count": 22,
   "id": "0d24fe8f",
   "metadata": {},
   "outputs": [
    {
     "data": {
      "text/plain": [
       "<matplotlib.lines.Line2D at 0x7ff3ee72b460>"
      ]
     },
     "execution_count": 22,
     "metadata": {},
     "output_type": "execute_result"
    },
    {
     "data": {
      "image/png": "[encoded data removed]",
      "text/plain": [
       "<Figure size 432x288 with 1 Axes>"
      ]
     },
     "metadata": {
      "needs_background": "light"
     },
     "output_type": "display_data"
    }
   ],
   "source": [
    "graph = sns.boxplot(data = df_sns, x = \"cond\", y = \"accuracy\")\n",
    "graph.axhline(0.2)"
   ]
  },
  {
   "cell_type": "markdown",
   "id": "447d71df",
   "metadata": {},
   "source": [
    "### Imaginary Coherence"
   ]
  },
  {
   "cell_type": "markdown",
   "id": "e56350e8",
   "metadata": {},
   "source": [
    "#### Load data"
   ]
  },
  {
   "cell_type": "code",
   "execution_count": 2,
   "id": "f441f1a6",
   "metadata": {},
   "outputs": [
    {
     "name": "stdout",
     "output_type": "stream",
     "text": [
      "../data/bids/derivatives/decoding/sub-7/sub-7_task-pitch_run-1_desc-imcoh_scores.npy\n",
      "../data/bids/derivatives/decoding/sub-23/sub-23_task-pitch_run-1_desc-imcoh_scores.npy\n",
      "../data/bids/derivatives/decoding/sub-28/sub-28_task-pitch_run-1_desc-imcoh_scores.npy\n",
      "../data/bids/derivatives/decoding/sub-34/sub-34_task-pitch_run-1_desc-imcoh_scores.npy\n",
      "../data/bids/derivatives/decoding/sub-39/sub-39_task-pitch_run-1_desc-imcoh_scores.npy\n",
      "../data/bids/derivatives/decoding/sub-40/sub-40_task-pitch_run-1_desc-imcoh_scores.npy\n",
      "../data/bids/derivatives/decoding/sub-27/sub-27_task-pitch_run-1_desc-imcoh_scores.npy\n",
      "../data/bids/derivatives/decoding/sub-8/sub-8_task-pitch_run-1_desc-imcoh_scores.npy\n",
      "../data/bids/derivatives/decoding/sub-33/sub-33_task-pitch_run-1_desc-imcoh_scores.npy\n",
      "../data/bids/derivatives/decoding/sub-38/sub-38_task-pitch_run-1_desc-imcoh_scores.npy\n",
      "../data/bids/derivatives/decoding/sub-38/sub-38_task-pitch_run-2_desc-imcoh_scores.npy\n",
      "../data/bids/derivatives/decoding/sub-13/sub-13_task-pitch_run-1_desc-imcoh_scores.npy\n",
      "../data/bids/derivatives/decoding/sub-44/sub-44_task-pitch_run-1_desc-imcoh_scores.npy\n",
      "../data/bids/derivatives/decoding/sub-32/sub-32_task-pitch_run-1_desc-imcoh_scores.npy\n",
      "../data/bids/derivatives/decoding/sub-37/sub-37_task-pitch_run-1_desc-imcoh_scores.npy\n",
      "../data/bids/derivatives/decoding/sub-12/sub-12_task-pitch_run-1_desc-imcoh_scores.npy\n",
      "../data/bids/derivatives/decoding/sub-17/sub-17_task-pitch_run-1_desc-imcoh_scores.npy\n",
      "../data/bids/derivatives/decoding/sub-9/sub-9_task-pitch_run-1_desc-imcoh_scores.npy\n",
      "../data/bids/derivatives/decoding/sub-43/sub-43_task-pitch_run-1_desc-imcoh_scores.npy\n",
      "../data/bids/derivatives/decoding/sub-36/sub-36_task-pitch_run-1_desc-imcoh_scores.npy\n",
      "../data/bids/derivatives/decoding/sub-11/sub-11_task-pitch_run-1_desc-imcoh_scores.npy\n",
      "../data/bids/derivatives/decoding/sub-16/sub-16_task-pitch_run-1_desc-imcoh_scores.npy\n",
      "../data/bids/derivatives/decoding/sub-42/sub-42_task-pitch_run-1_desc-imcoh_scores.npy\n",
      "../data/bids/derivatives/decoding/sub-22/sub-22_task-pitch_run-1_desc-imcoh_scores.npy\n",
      "../data/bids/derivatives/decoding/sub-10/sub-10_task-pitch_run-1_desc-imcoh_scores.npy\n",
      "../data/bids/derivatives/decoding/sub-15/sub-15_task-pitch_run-1_desc-imcoh_scores.npy\n",
      "../data/bids/derivatives/decoding/sub-21/sub-21_task-pitch_run-1_desc-imcoh_scores.npy\n",
      "../data/bids/derivatives/decoding/sub-26/sub-26_task-pitch_run-1_desc-imcoh_scores.npy\n",
      "../data/bids/derivatives/decoding/sub-5/sub-5_task-pitch_run-1_desc-imcoh_scores.npy\n",
      "../data/bids/derivatives/decoding/sub-3/sub-3_task-pitch_run-2_desc-imcoh_scores.npy\n",
      "../data/bids/derivatives/decoding/sub-3/sub-3_task-pitch_run-1_desc-imcoh_scores.npy\n",
      "../data/bids/derivatives/decoding/sub-14/sub-14_task-pitch_run-1_desc-imcoh_scores.npy\n",
      "../data/bids/derivatives/decoding/sub-19/sub-19_task-pitch_run-1_desc-imcoh_scores.npy\n",
      "../data/bids/derivatives/decoding/sub-20/sub-20_task-pitch_run-1_desc-imcoh_scores.npy\n",
      "../data/bids/derivatives/decoding/sub-25/sub-25_task-pitch_run-1_desc-imcoh_scores.npy\n",
      "../data/bids/derivatives/decoding/sub-31/sub-31_task-pitch_run-1_desc-imcoh_scores.npy\n",
      "../data/bids/derivatives/decoding/sub-6/sub-6_task-pitch_run-1_desc-imcoh_scores.npy\n",
      "../data/bids/derivatives/decoding/sub-18/sub-18_task-pitch_run-1_desc-imcoh_scores.npy\n",
      "../data/bids/derivatives/decoding/sub-4/sub-4_task-pitch_run-2_desc-imcoh_scores.npy\n",
      "../data/bids/derivatives/decoding/sub-4/sub-4_task-pitch_run-1_desc-imcoh_scores.npy\n",
      "../data/bids/derivatives/decoding/sub-24/sub-24_task-pitch_run-2_desc-imcoh_scores.npy\n",
      "../data/bids/derivatives/decoding/sub-24/sub-24_task-pitch_run-1_desc-imcoh_scores.npy\n",
      "../data/bids/derivatives/decoding/sub-29/sub-29_task-pitch_run-1_desc-imcoh_scores.npy\n",
      "../data/bids/derivatives/decoding/sub-30/sub-30_task-pitch_run-1_desc-imcoh_scores.npy\n",
      "../data/bids/derivatives/decoding/sub-35/sub-35_task-pitch_run-1_desc-imcoh_scores.npy\n"
     ]
    }
   ],
   "source": [
    "data = {}\n",
    "root = Path('../data/bids/derivatives/decoding/')\n",
    "for file in root.rglob(\"*\"):\n",
    "    if 'imcoh' not in file.name:\n",
    "        continue\n",
    "    print(file)\n",
    "    key = re.findall('(.*?)_desc', file.name)[0]\n",
    "    value = np.load(file)\n",
    "    if len(value) != 5:\n",
    "        print(file)\n",
    "        print(f'Wrong shape: {len(value)} instead of 5')\n",
    "        continue\n",
    "    data[key] = value\n",
    "\n",
    "df = pd.DataFrame.from_dict(data)\n",
    "df = df.transpose()"
   ]
  },
  {
   "cell_type": "markdown",
   "id": "fb9e0605",
   "metadata": {},
   "source": [
    "#### Reshape data for seaborn"
   ]
  },
  {
   "cell_type": "code",
   "execution_count": 3,
   "id": "b02249e2",
   "metadata": {},
   "outputs": [],
   "source": [
    "# Rename columns for easy transformation\n",
    "df_sns = df.T\n",
    "cols = list(df_sns.columns)\n",
    "filter_cols = re.compile('(sub-\\d{1,2})_')\n",
    "subs = list(map(filter_cols.findall, cols))\n",
    "subs = list(itertools.chain(*subs))\n",
    "df_sns.columns = subs\n",
    "df_sns = df_sns.reset_index()\n",
    "\n",
    "# Pivot data\n",
    "df_sns = pd.wide_to_long(df_sns, stubnames = 'sub-', i = 'index', j = 'sub')\n",
    "df_sns.columns = ['accuracy']\n",
    "df_sns = df_sns.reset_index()\n",
    "df_sns = df_sns.rename(columns={\"index\": \"cond\"})"
   ]
  },
  {
   "cell_type": "markdown",
   "id": "04b0e29f",
   "metadata": {},
   "source": [
    "#### Plot"
   ]
  },
  {
   "cell_type": "code",
   "execution_count": 5,
   "id": "97b35463",
   "metadata": {},
   "outputs": [
    {
     "data": {
      "text/plain": [
       "(0.18, 0.34)"
      ]
     },
     "execution_count": 5,
     "metadata": {},
     "output_type": "execute_result"
    },
    {
     "data": {
      "image/png": "[encoded data removed]",
      "text/plain": [
       "<Figure size 432x288 with 1 Axes>"
      ]
     },
     "metadata": {
      "needs_background": "light"
     },
     "output_type": "display_data"
    }
   ],
   "source": [
    "graph = sns.boxplot(data = df_sns, x = \"cond\", y = \"accuracy\")\n",
    "graph.axhline(0.2)\n",
    "graph.set_ylim(0.18, 0.34)"
   ]
  },
  {
   "cell_type": "markdown",
   "id": "7000cb3d",
   "metadata": {},
   "source": [
    "### Coherence with each possible stim"
   ]
  },
  {
   "cell_type": "markdown",
   "id": "2e4d4c79",
   "metadata": {},
   "source": [
    "#### Load data"
   ]
  },
  {
   "cell_type": "code",
   "execution_count": 3,
   "id": "3ae33ced",
   "metadata": {},
   "outputs": [
    {
     "name": "stdout",
     "output_type": "stream",
     "text": [
      "../data/bids/derivatives/decoding/sub-7/sub-7_task-pitch_run-1_desc-coh-for-each-stim_scores.npy\n",
      "../data/bids/derivatives/decoding/sub-23/sub-23_task-pitch_run-1_desc-coh-for-each-stim_scores.npy\n",
      "../data/bids/derivatives/decoding/sub-28/sub-28_task-pitch_run-1_desc-coh-for-each-stim_scores.npy\n",
      "../data/bids/derivatives/decoding/sub-34/sub-34_task-pitch_run-1_desc-coh-for-each-stim_scores.npy\n",
      "../data/bids/derivatives/decoding/sub-39/sub-39_task-pitch_run-1_desc-coh-for-each-stim_scores.npy\n",
      "../data/bids/derivatives/decoding/sub-40/sub-40_task-pitch_run-1_desc-coh-for-each-stim_scores.npy\n",
      "../data/bids/derivatives/decoding/sub-27/sub-27_task-pitch_run-1_desc-coh-for-each-stim_scores.npy\n",
      "../data/bids/derivatives/decoding/sub-8/sub-8_task-pitch_run-1_desc-coh-for-each-stim_scores.npy\n",
      "../data/bids/derivatives/decoding/sub-33/sub-33_task-pitch_run-1_desc-coh-for-each-stim_scores.npy\n",
      "../data/bids/derivatives/decoding/sub-38/sub-38_task-pitch_run-1_desc-coh-for-each-stim_scores.npy\n",
      "../data/bids/derivatives/decoding/sub-38/sub-38_task-pitch_run-2_desc-coh-for-each-stim_scores.npy\n",
      "../data/bids/derivatives/decoding/sub-13/sub-13_task-pitch_run-1_desc-coh-for-each-stim_scores.npy\n",
      "../data/bids/derivatives/decoding/sub-44/sub-44_task-pitch_run-1_desc-coh-for-each-stim_scores.npy\n",
      "../data/bids/derivatives/decoding/sub-32/sub-32_task-pitch_run-1_desc-coh-for-each-stim_scores.npy\n",
      "../data/bids/derivatives/decoding/sub-37/sub-37_task-pitch_run-1_desc-coh-for-each-stim_scores.npy\n",
      "../data/bids/derivatives/decoding/sub-12/sub-12_task-pitch_run-1_desc-coh-for-each-stim_scores.npy\n",
      "../data/bids/derivatives/decoding/sub-17/sub-17_task-pitch_run-1_desc-coh-for-each-stim_scores.npy\n",
      "../data/bids/derivatives/decoding/sub-9/sub-9_task-pitch_run-1_desc-coh-for-each-stim_scores.npy\n",
      "../data/bids/derivatives/decoding/sub-43/sub-43_task-pitch_run-1_desc-coh-for-each-stim_scores.npy\n",
      "../data/bids/derivatives/decoding/sub-36/sub-36_task-pitch_run-1_desc-coh-for-each-stim_scores.npy\n",
      "../data/bids/derivatives/decoding/sub-11/sub-11_task-pitch_run-1_desc-coh-for-each-stim_scores.npy\n",
      "../data/bids/derivatives/decoding/sub-16/sub-16_task-pitch_run-1_desc-coh-for-each-stim_scores.npy\n",
      "../data/bids/derivatives/decoding/sub-42/sub-42_task-pitch_run-1_desc-coh-for-each-stim_scores.npy\n",
      "../data/bids/derivatives/decoding/sub-22/sub-22_task-pitch_run-1_desc-coh-for-each-stim_scores.npy\n",
      "../data/bids/derivatives/decoding/sub-10/sub-10_task-pitch_run-1_desc-coh-for-each-stim_scores.npy\n",
      "../data/bids/derivatives/decoding/sub-15/sub-15_task-pitch_run-1_desc-coh-for-each-stim_scores.npy\n",
      "../data/bids/derivatives/decoding/sub-21/sub-21_task-pitch_run-1_desc-coh-for-each-stim_scores.npy\n",
      "../data/bids/derivatives/decoding/sub-26/sub-26_task-pitch_run-1_desc-coh-for-each-stim_scores.npy\n",
      "../data/bids/derivatives/decoding/sub-5/sub-5_task-pitch_run-1_desc-coh-for-each-stim_scores.npy\n",
      "../data/bids/derivatives/decoding/sub-3/sub-3_task-pitch_run-2_desc-coh-for-each-stim_scores.npy\n",
      "../data/bids/derivatives/decoding/sub-3/sub-3_task-pitch_run-1_desc-coh-for-each-stim_scores.npy\n",
      "../data/bids/derivatives/decoding/sub-14/sub-14_task-pitch_run-1_desc-coh-for-each-stim_scores.npy\n",
      "../data/bids/derivatives/decoding/sub-19/sub-19_task-pitch_run-1_desc-coh-for-each-stim_scores.npy\n",
      "../data/bids/derivatives/decoding/sub-20/sub-20_task-pitch_run-1_desc-coh-for-each-stim_scores.npy\n",
      "../data/bids/derivatives/decoding/sub-25/sub-25_task-pitch_run-1_desc-coh-for-each-stim_scores.npy\n",
      "../data/bids/derivatives/decoding/sub-31/sub-31_task-pitch_run-1_desc-coh-for-each-stim_scores.npy\n",
      "../data/bids/derivatives/decoding/sub-18/sub-18_task-pitch_run-1_desc-coh-for-each-stim_scores.npy\n",
      "../data/bids/derivatives/decoding/sub-4/sub-4_task-pitch_run-1_desc-coh-for-each-stim_scores.npy\n",
      "../data/bids/derivatives/decoding/sub-4/sub-4_task-pitch_run-2_desc-coh-for-each-stim_scores.npy\n",
      "../data/bids/derivatives/decoding/sub-24/sub-24_task-pitch_run-1_desc-coh-for-each-stim_scores.npy\n",
      "../data/bids/derivatives/decoding/sub-24/sub-24_task-pitch_run-2_desc-coh-for-each-stim_scores.npy\n",
      "../data/bids/derivatives/decoding/sub-29/sub-29_task-pitch_run-1_desc-coh-for-each-stim_scores.npy\n",
      "../data/bids/derivatives/decoding/sub-30/sub-30_task-pitch_run-1_desc-coh-for-each-stim_scores.npy\n",
      "../data/bids/derivatives/decoding/sub-35/sub-35_task-pitch_run-1_desc-coh-for-each-stim_scores.npy\n"
     ]
    }
   ],
   "source": [
    "data = {}\n",
    "root = Path('../data/bids/derivatives/decoding/')\n",
    "for file in root.rglob(\"*\"):\n",
    "    if 'coh-for' not in file.name:\n",
    "        continue\n",
    "    print(file)\n",
    "    key = re.findall('(.*?)_desc', file.name)[0]\n",
    "    value = np.load(file)\n",
    "    if len(value) != 5:\n",
    "        print(file)\n",
    "        print(f'Wrong shape: {len(value)} instead of 5')\n",
    "        continue\n",
    "    data[key] = value\n",
    "\n",
    "df = pd.DataFrame.from_dict(data)\n",
    "df = df.transpose()"
   ]
  },
  {
   "cell_type": "markdown",
   "id": "b1f9fee4",
   "metadata": {},
   "source": [
    "#### Reshape for seaborn"
   ]
  },
  {
   "cell_type": "code",
   "execution_count": 4,
   "id": "65b3119e",
   "metadata": {},
   "outputs": [],
   "source": [
    "# Rename columns for easy transformation\n",
    "df_sns = df.T\n",
    "cols = list(df_sns.columns)\n",
    "filter_cols = re.compile('(sub-\\d{1,2})_')\n",
    "subs = list(map(filter_cols.findall, cols))\n",
    "subs = list(itertools.chain(*subs))\n",
    "df_sns.columns = subs\n",
    "df_sns = df_sns.reset_index()\n",
    "\n",
    "# Pivot data\n",
    "df_sns = pd.wide_to_long(df_sns, stubnames = 'sub-', i = 'index', j = 'sub')\n",
    "df_sns.columns = ['accuracy']\n",
    "df_sns = df_sns.reset_index()\n",
    "df_sns = df_sns.rename(columns={\"index\": \"cond\"})"
   ]
  },
  {
   "cell_type": "markdown",
   "id": "771d0612",
   "metadata": {},
   "source": [
    "#### Plot"
   ]
  },
  {
   "cell_type": "code",
   "execution_count": 5,
   "id": "de8520a4",
   "metadata": {},
   "outputs": [
    {
     "data": {
      "text/plain": [
       "(0.18, 0.34)"
      ]
     },
     "execution_count": 5,
     "metadata": {},
     "output_type": "execute_result"
    },
    {
     "data": {
      "image/png": "[encoded data removed]",
      "text/plain": [
       "<Figure size 432x288 with 1 Axes>"
      ]
     },
     "metadata": {
      "needs_background": "light"
     },
     "output_type": "display_data"
    }
   ],
   "source": [
    "graph = sns.boxplot(data = df_sns, x = \"cond\", y = \"accuracy\")\n",
    "graph.axhline(0.2)\n",
    "graph.set_ylim(0.18, 0.34)"
   ]
  }
 ],
 "metadata": {
  "kernelspec": {
   "display_name": "Python 3 (ipykernel)",
   "language": "python",
   "name": "python3"
  },
  "language_info": {
   "codemirror_mode": {
    "name": "ipython",
    "version": 3
   },
   "file_extension": ".py",
   "mimetype": "text/x-python",
   "name": "python",
   "nbconvert_exporter": "python",
   "pygments_lexer": "ipython3",
   "version": "3.10.4"
  }
 },
 "nbformat": 4,
 "nbformat_minor": 5
}
